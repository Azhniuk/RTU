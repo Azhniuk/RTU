{
 "cells": [
  {
   "cell_type": "code",
   "execution_count": 1,
   "id": "77de5494",
   "metadata": {},
   "outputs": [],
   "source": [
    "#Find the minimum\n",
    "\n",
    "class Node:\n",
    "    def __init__ (self, data):\n",
    "        self.left = None\n",
    "        self.right = None\n",
    "        self.data = data\n",
    "    \n",
    "    def insert(self, data):\n",
    "        if self.data == None :\n",
    "            self.data = data\n",
    "        else:\n",
    "            if data < self.data:\n",
    "                if self.left is None:\n",
    "                    self.left = Node(data)\n",
    "                else:\n",
    "                    self\n",
    "\n",
    "        "
   ]
  },
  {
   "cell_type": "code",
   "execution_count": 8,
   "id": "1b4d85bb",
   "metadata": {},
   "outputs": [
    {
     "name": "stdout",
     "output_type": "stream",
     "text": [
      "[]\n",
      "[]\n",
      "[]\n",
      "[]\n",
      "[]\n",
      "[]\n"
     ]
    }
   ],
   "source": [
    "\n",
    "class Node:\n",
    "    def __init__(self, value):\n",
    "        self.value = value\n",
    "        self.children = []\n",
    "\n",
    "    def add_child(self, node):\n",
    "        self.children.append(node)\n",
    "    \n",
    "    def show(self):\n",
    "        print(self.children)\n",
    "\n",
    "        \n",
    "# Create the root node\n",
    "root = Node(\"A\")\n",
    "\n",
    "# Create some child nodes\n",
    "b = Node(\"B\")\n",
    "c = Node(\"C\")\n",
    "d = Node(\"D\")\n",
    "\n",
    "# Add the child nodes to the root node\n",
    "root.add_child(b)\n",
    "root.add_child(c)\n",
    "root.add_child(d)\n",
    "\n",
    "# Create some more child nodes\n",
    "e = Node(\"E\")\n",
    "f = Node(\"F\")\n",
    "\n",
    "# Add the child nodes to the B node\n",
    "b.add_child(e)\n",
    "b.add_child(f)\n",
    "\n",
    "\n",
    "\n",
    "\n",
    "\n"
   ]
  },
  {
   "cell_type": "code",
   "execution_count": 18,
   "id": "86531948",
   "metadata": {},
   "outputs": [
    {
     "data": {
      "text/plain": [
       "'1-'"
      ]
     },
     "execution_count": 18,
     "metadata": {},
     "output_type": "execute_result"
    }
   ],
   "source": [
    "class Node(object):\n",
    "    def __init__(self, value):\n",
    "        self.value = value\n",
    "        self.left = None\n",
    "        self.right = None\n",
    "        \n",
    "class BinaryTree(object):\n",
    "    def __init__(self, root):\n",
    "        self.root = Node(root)\n",
    "    def print_tree(self, traversal_type):\n",
    "        if traversal_type == \"preorder\":\n",
    "            return self.pre_print(tree.root, \"\")\n",
    "        else:\n",
    "            return False\n",
    "    def pre_print(self, start, traversal):\n",
    "        if start:\n",
    "            traversal += (str(start.value)+ \"-\")\n",
    "            traversal += start.left\n",
    "            #traversal += self.pre_print(start.right, traversal)\n",
    "        return traversal\n",
    "\n",
    "\n",
    "tree = BinaryTree(1)\n",
    "tree.root.left = Node(2)\n",
    "tree.root.right = Node(3)\n",
    "\n",
    "tree.print_tree(\"preorder\")\n"
   ]
  },
  {
   "cell_type": "code",
   "execution_count": null,
   "id": "6ab7f397",
   "metadata": {},
   "outputs": [],
   "source": []
  },
  {
   "cell_type": "code",
   "execution_count": null,
   "id": "64591e50",
   "metadata": {},
   "outputs": [],
   "source": []
  }
 ],
 "metadata": {
  "kernelspec": {
   "display_name": "Python 3 (ipykernel)",
   "language": "python",
   "name": "python3"
  },
  "language_info": {
   "codemirror_mode": {
    "name": "ipython",
    "version": 3
   },
   "file_extension": ".py",
   "mimetype": "text/x-python",
   "name": "python",
   "nbconvert_exporter": "python",
   "pygments_lexer": "ipython3",
   "version": "3.7.16"
  }
 },
 "nbformat": 4,
 "nbformat_minor": 5
}
