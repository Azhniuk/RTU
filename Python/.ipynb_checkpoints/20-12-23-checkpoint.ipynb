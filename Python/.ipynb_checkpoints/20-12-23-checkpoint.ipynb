{
 "cells": [
  {
   "cell_type": "code",
   "execution_count": 25,
   "id": "79cc4595",
   "metadata": {},
   "outputs": [
    {
     "name": "stdout",
     "output_type": "stream",
     "text": [
      "5 numbers with a space between:  1 2 3 3 2\n"
     ]
    }
   ],
   "source": [
    "#1 ex\n",
    "import os \n",
    "def deleteFF():\n",
    "    f = open('t.txt','w')\n",
    "    f.close()\n",
    "    \n",
    "a = input(\"5 numbers with a space between:  \").split()\n",
    "a = list(map(int, a))\n",
    "b = sum(a)\n",
    "#print(a, b)\n",
    "\n",
    "f = open('t.txt','a') \n",
    "for i in a:      \n",
    "    f.write('{}\\n'.format(i))\n",
    "f.write('{} - summ \\n'.format(b))\n",
    "f.close()"
   ]
  },
  {
   "cell_type": "code",
   "execution_count": 55,
   "id": "dbb8e9f1",
   "metadata": {},
   "outputs": [],
   "source": [
    "#deletes everything rfom txt file\n",
    "deleteFF()"
   ]
  },
  {
   "cell_type": "code",
   "execution_count": 2,
   "id": "1d572b3f",
   "metadata": {},
   "outputs": [
    {
     "name": "stdout",
     "output_type": "stream",
     "text": [
      "Have a nice day. Python has several functions. Make sure the file exists. Individual work Array processing autumn semester Task variants \n"
     ]
    }
   ],
   "source": [
    "#2 ex\n",
    "import os\n",
    "f = open(\"t.txt\", \"r\")\n",
    "contents = f.read()\n",
    "f.close()\n",
    "\n",
    "resultWithoutN = contents.replace(\"\\n\", \" \")\n",
    "print(resultWithoutN)\n",
    "a = contents.split(\"\\n\")\n",
    "\n"
   ]
  },
  {
   "cell_type": "code",
   "execution_count": 4,
   "id": "7c88096a",
   "metadata": {},
   "outputs": [],
   "source": [
    "f = open('t.txt','a')\n",
    "for i in a: \n",
    "    if a.index(i) %2 == 0:\n",
    "        f.write('{}\\n'.format(i))\n",
    "    else:\n",
    "        f.write('{}\\n'.format(i.upper()))\n",
    "        "
   ]
  }
 ],
 "metadata": {
  "kernelspec": {
   "display_name": "Python 3 (ipykernel)",
   "language": "python",
   "name": "python3"
  },
  "language_info": {
   "codemirror_mode": {
    "name": "ipython",
    "version": 3
   },
   "file_extension": ".py",
   "mimetype": "text/x-python",
   "name": "python",
   "nbconvert_exporter": "python",
   "pygments_lexer": "ipython3",
   "version": "3.7.16"
  }
 },
 "nbformat": 4,
 "nbformat_minor": 5
}
