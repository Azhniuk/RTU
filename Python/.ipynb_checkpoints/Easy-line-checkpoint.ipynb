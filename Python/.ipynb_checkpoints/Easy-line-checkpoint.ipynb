{
 "cells": [
  {
   "cell_type": "code",
   "execution_count": 20,
   "metadata": {},
   "outputs": [
    {
     "name": "stdout",
     "output_type": "stream",
     "text": [
      "5\n",
      "5\n",
      "5\n",
      "5\n"
     ]
    },
    {
     "data": {
      "image/png": "[encoded data removed]",
      "text/plain": [
       "<Figure size 432x288 with 1 Axes>"
      ]
     },
     "metadata": {
      "needs_background": "light"
     },
     "output_type": "display_data"
    }
   ],
   "source": [
    "import matplotlib.pyplot as plt\n",
    "import numpy as np\n",
    "\n",
    "plt.title(\"Bresenham Algorithm\")\n",
    "plt.xlabel(\"x axis\")\n",
    "plt.ylabel(\"y axis\")\n",
    "\n",
    "img=np.ones((600,900,3)) \n",
    "\n",
    "xCoordinates = [xBeg]\n",
    "yCoordinates = [yBeg]\n",
    "\n",
    "\n",
    "def lineCreation (xBeg, yBeg, xEnd, yEnd):\n",
    "    x = xBeg\n",
    "    y = yBeg\n",
    "    dx = abs(xEnd - xBeg)\n",
    "    dy = abs(yEnd - yBeg)\n",
    "    \n",
    "    \n",
    "\n",
    "    if xBeg < xEnd :\n",
    "        xs = 1\n",
    "    else:\n",
    "        xs = -1\n",
    "    \n",
    "    if yBeg < yEnd :\n",
    "        ys = 1\n",
    "    else:\n",
    "        ys = -1\n",
    "        \n",
    "  \n",
    "        \n",
    "\n",
    "    if dx > dy:\n",
    "        p0 = 2*dy - dx\n",
    "        pn = p0\n",
    "        for x in range (dx):\n",
    "            x = x + xs\n",
    "            xCoordinates.append(x)\n",
    "        \n",
    "        for y in range (dy):\n",
    "            if pn > 0:\n",
    "                y = y + ys\n",
    "            yCoordinates.append(y)\n",
    "            pn = pn + (2*dy)\n",
    "            print(y)\n",
    "        \n",
    "     \n",
    "            img[y,x]= 0\n",
    "                \n",
    "                \n",
    "        \n",
    "\n",
    "\n",
    "lineCreation (0, 0, 5, 4)\n",
    "\n",
    "plt.imshow(img)\n",
    "plt.show()"
   ]
  },
  {
   "cell_type": "code",
   "execution_count": null,
   "metadata": {},
   "outputs": [],
   "source": [
    "\n",
    "\n"
   ]
  },
  {
   "cell_type": "code",
   "execution_count": null,
   "metadata": {},
   "outputs": [],
   "source": []
  }
 ],
 "metadata": {
  "kernelspec": {
   "display_name": "Python 3",
   "language": "python",
   "name": "python3"
  },
  "language_info": {
   "codemirror_mode": {
    "name": "ipython",
    "version": 3
   },
   "file_extension": ".py",
   "mimetype": "text/x-python",
   "name": "python",
   "nbconvert_exporter": "python",
   "pygments_lexer": "ipython3",
   "version": "3.7.6"
  }
 },
 "nbformat": 4,
 "nbformat_minor": 5
}
