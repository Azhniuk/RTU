{
 "cells": [
  {
   "cell_type": "code",
   "execution_count": 50,
   "id": "4b6c3a26",
   "metadata": {},
   "outputs": [
    {
     "name": "stdout",
     "output_type": "stream",
     "text": [
      "45.0 - average\n",
      "{'P': 1, 'y': 1, 't': 1, 'h': 1, 'o': 1, 'n': 2}\n"
     ]
    }
   ],
   "source": [
    "#221ADB207\n",
    "#If at least 2 numbers and 1 string exist\n",
    "\n",
    "def dictfun(word, b):\n",
    "    for i in word:\n",
    "        b[i] = 0\n",
    "    for i in word:\n",
    "        b[i] +=1\n",
    "        \n",
    "    print(b)\n",
    "\n",
    "a = list()\n",
    "d = list()\n",
    "n = list() \n",
    "b = dict()\n",
    "\n",
    "c = [12, 11.2, 'txt', 78, 'Pythonn', 0.8, 'Riiga hello']\n",
    "\n",
    "for i in c:\n",
    "    a.append(i)\n",
    "    \n",
    "for i in a:\n",
    "    if type(i)!=str:\n",
    "        if i >=10 and i<= 99:\n",
    "            d.append(i)\n",
    "    else:\n",
    "        n.append(i)    \n",
    "d.sort()\n",
    "print((d[-1]+d[-2])/2, \"- average\")\n",
    "dictfun(n[-1], b)"
   ]
  },
  {
   "cell_type": "code",
   "execution_count": null,
   "id": "b5163468",
   "metadata": {},
   "outputs": [],
   "source": []
  }
 ],
 "metadata": {
  "kernelspec": {
   "display_name": "Python 3 (ipykernel)",
   "language": "python",
   "name": "python3"
  },
  "language_info": {
   "codemirror_mode": {
    "name": "ipython",
    "version": 3
   },
   "file_extension": ".py",
   "mimetype": "text/x-python",
   "name": "python",
   "nbconvert_exporter": "python",
   "pygments_lexer": "ipython3",
   "version": "3.7.16"
  }
 },
 "nbformat": 4,
 "nbformat_minor": 5
}
