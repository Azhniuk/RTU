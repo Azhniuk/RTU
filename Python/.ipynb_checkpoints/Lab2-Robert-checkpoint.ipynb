{
 "cells": [
  {
   "cell_type": "code",
   "execution_count": 8,
   "id": "eacba57a",
   "metadata": {},
   "outputs": [
    {
     "name": "stdout",
     "output_type": "stream",
     "text": [
      "3.5\n"
     ]
    }
   ],
   "source": [
    "def average_of_every_second(my_list):\n",
    "    count = 0\n",
    "    sum = 0\n",
    "    found_numeric = False\n",
    "\n",
    "    for i in range(len(my_list)):\n",
    "        if isinstance(my_list[i], (int, float)):\n",
    "            if found_numeric:\n",
    "                sum += my_list[i]\n",
    "                count += 1\n",
    "                found_numeric = False\n",
    "            else:\n",
    "                found_numeric = True\n",
    "\n",
    "    if count > 0:\n",
    "        print(sum / count)\n",
    "    else:\n",
    "        print(0)\n",
    "\n",
    "list = []\n",
    "dict = {}\n",
    "\n",
    "to_put = [1, \"Andrii\", \"txt\", 2, \"Python\", 3, 5]\n",
    "for i in to_put:\n",
    "    list.append(i)\n",
    "\n",
    "# 3.1 Calculate and display the average of every second number in the list.\n",
    "\n",
    "\n",
    "average_of_every_second(list)\n",
    "\n",
    "\n",
    "\n",
    "\n",
    "\n"
   ]
  },
  {
   "cell_type": "code",
   "execution_count": null,
   "id": "a294e37f",
   "metadata": {},
   "outputs": [],
   "source": []
  },
  {
   "cell_type": "code",
   "execution_count": null,
   "id": "f7cc15ab",
   "metadata": {},
   "outputs": [],
   "source": [
    "\n",
    "\n",
    "a = list()\n",
    "d = list()\n",
    "n = list() \n",
    "b = dict()\n",
    "\n",
    "c = [12, 11.2, 'txt', 78, 'Pythonn', 0.8, 'Riiga hello']\n",
    "\n",
    "for i in c:\n",
    "    a.append(i)\n",
    "    \n",
    "for i in a:\n",
    "    if type(i)!=str:\n",
    "        if i >=10 and i<= 99:\n",
    "            d.append(i)\n",
    "    else:\n",
    "        n.append(i)    \n",
    "d.sort()\n",
    "print((d[-1]+d[-2])/2, \"- average\")\n",
    "dictfun(n[-1], b)"
   ]
  }
 ],
 "metadata": {
  "kernelspec": {
   "display_name": "Python 3 (ipykernel)",
   "language": "python",
   "name": "python3"
  },
  "language_info": {
   "codemirror_mode": {
    "name": "ipython",
    "version": 3
   },
   "file_extension": ".py",
   "mimetype": "text/x-python",
   "name": "python",
   "nbconvert_exporter": "python",
   "pygments_lexer": "ipython3",
   "version": "3.7.16"
  }
 },
 "nbformat": 4,
 "nbformat_minor": 5
}
