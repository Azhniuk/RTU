{
 "cells": [
  {
   "cell_type": "code",
   "execution_count": 1,
   "id": "6a209c77",
   "metadata": {},
   "outputs": [
    {
     "name": "stdout",
     "output_type": "stream",
     "text": [
      "d =12.045\n",
      "h =49.16\n",
      "5598.802393965\n"
     ]
    }
   ],
   "source": [
    "d = float(input(\"d =\"))\n",
    "h = float(input(\"h =\"))\n",
    "S = 3.14*d*d*h/4\n",
    "print(S)"
   ]
  },
  {
   "cell_type": "code",
   "execution_count": null,
   "id": "2c5d5ba6",
   "metadata": {},
   "outputs": [],
   "source": [
    "d = float(input(\"d =\"))\n",
    "h = float(input(\"h =\"))\n",
    "S = 3.14*d*d*h/4\n",
    "print(S)\n"
   ]
  },
  {
   "cell_type": "markdown",
   "id": "548035a2",
   "metadata": {},
   "source": [
    "# S від x\n"
   ]
  },
  {
   "cell_type": "code",
   "execution_count": 1,
   "id": "9a1f0171",
   "metadata": {},
   "outputs": [
    {
     "name": "stdout",
     "output_type": "stream",
     "text": [
      "# 0\n",
      "501\n",
      "# 1\n",
      "322\n",
      "# 2\n",
      "422\n",
      "# 3\n",
      "\n"
     ]
    },
    {
     "ename": "ValueError",
     "evalue": "could not convert string to float: ",
     "output_type": "error",
     "traceback": [
      "\u001b[1;31m---------------------------------------------------------------------------\u001b[0m",
      "\u001b[1;31mValueError\u001b[0m                                Traceback (most recent call last)",
      "\u001b[1;32m~\\AppData\\Local\\Temp\\ipykernel_2440\\1694352915.py\u001b[0m in \u001b[0;36m<module>\u001b[1;34m\u001b[0m\n\u001b[0;32m      8\u001b[0m \u001b[1;32mfor\u001b[0m \u001b[0mi\u001b[0m \u001b[1;32min\u001b[0m \u001b[0mrange\u001b[0m\u001b[1;33m(\u001b[0m\u001b[1;36m0\u001b[0m\u001b[1;33m,\u001b[0m\u001b[0melem\u001b[0m\u001b[1;33m)\u001b[0m\u001b[1;33m:\u001b[0m\u001b[1;33m\u001b[0m\u001b[1;33m\u001b[0m\u001b[0m\n\u001b[0;32m      9\u001b[0m     \u001b[0mprint\u001b[0m\u001b[1;33m(\u001b[0m\u001b[1;34m\"#\"\u001b[0m\u001b[1;33m,\u001b[0m \u001b[0mi\u001b[0m\u001b[1;33m)\u001b[0m\u001b[1;33m\u001b[0m\u001b[1;33m\u001b[0m\u001b[0m\n\u001b[1;32m---> 10\u001b[1;33m     \u001b[0mn\u001b[0m \u001b[1;33m=\u001b[0m \u001b[0mfloat\u001b[0m\u001b[1;33m(\u001b[0m\u001b[0minput\u001b[0m\u001b[1;33m(\u001b[0m\u001b[1;33m)\u001b[0m\u001b[1;33m)\u001b[0m\u001b[1;33m\u001b[0m\u001b[1;33m\u001b[0m\u001b[0m\n\u001b[0m\u001b[0;32m     11\u001b[0m     \u001b[0ma\u001b[0m\u001b[1;33m.\u001b[0m\u001b[0mappend\u001b[0m\u001b[1;33m(\u001b[0m\u001b[0mn\u001b[0m\u001b[1;33m)\u001b[0m\u001b[1;33m\u001b[0m\u001b[1;33m\u001b[0m\u001b[0m\n\u001b[0;32m     12\u001b[0m \u001b[1;33m\u001b[0m\u001b[0m\n",
      "\u001b[1;31mValueError\u001b[0m: could not convert string to float: "
     ]
    }
   ],
   "source": [
    "def ave(lst):\n",
    "    return sum(lst) / len(lst)\n",
    "\n",
    "a = []\n",
    "elem = 9 #elements\n",
    "summ = 0\n",
    "\n",
    "for i in range(0,elem):\n",
    "    print(\"#\", i)\n",
    "    n = float(input())\n",
    "    a.append(n)\n",
    "    \n",
    "    \n",
    "av = ave(a)\n",
    "av = round(av, 4)\n",
    "\n",
    "for i in range(0, elem):\n",
    "    x = 0 \n",
    "    x = (av - a[i])**2\n",
    "    x = round(x, 9)\n",
    "    summ = summ + x\n",
    "    #print(x)\n",
    "    \n",
    "print(summ / (elem * (elem-1)) )\n",
    "    \n"
   ]
  },
  {
   "cell_type": "markdown",
   "id": "930f9849",
   "metadata": {},
   "source": [
    "# Average"
   ]
  },
  {
   "cell_type": "code",
   "execution_count": 1,
   "id": "98d4ffe7",
   "metadata": {
    "scrolled": true
   },
   "outputs": [
    {
     "name": "stdout",
     "output_type": "stream",
     "text": [
      "# 0\n",
      "978.9332\n",
      "# 1\n",
      "978.5449\n",
      "# 2\n",
      "973.3332\n",
      "# 3\n",
      "986.8217\n",
      "# 4\n",
      "966.4642\n",
      "976.81944\n"
     ]
    }
   ],
   "source": [
    "def ave(lst):\n",
    "    return sum(lst) / len(lst)\n",
    "a = []\n",
    "elem = 5 #elements\n",
    "summ = 0\n",
    "\n",
    "for i in range(0,elem):\n",
    "    print(\"#\", i+1)\n",
    "    n = float(input())\n",
    "    a.append(n)\n",
    "    \n",
    "av = ave(a)\n",
    "av = round(av, 5)\n",
    "print(av)"
   ]
  },
  {
   "cell_type": "markdown",
   "id": "e9dd83e8",
   "metadata": {},
   "source": [
    "g = 980.665 - general\n"
   ]
  },
  {
   "cell_type": "code",
   "execution_count": 1,
   "id": "ed614d46",
   "metadata": {},
   "outputs": [
    {
     "name": "stdout",
     "output_type": "stream",
     "text": [
      "Delta4\n",
      "Main4\n",
      "100.0\n"
     ]
    }
   ],
   "source": [
    "a = float(input(\"Delta\"))\n",
    "b = float(input(\"Main\"))\n",
    "\n",
    "print(a/b*100)\n",
    "\n"
   ]
  },
  {
   "cell_type": "code",
   "execution_count": null,
   "id": "52d99a68",
   "metadata": {},
   "outputs": [],
   "source": []
  },
  {
   "cell_type": "code",
   "execution_count": 8,
   "id": "bc52cee4",
   "metadata": {},
   "outputs": [
    {
     "name": "stdout",
     "output_type": "stream",
     "text": [
      "d = 0.3\n",
      "1.0982109443487904\n"
     ]
    }
   ],
   "source": [
    "import math\n",
    "\n",
    "d = float(input(\"d = \"))\n",
    "T = 2 * 3.14 *math.sqrt(d/9.81)\n",
    "print(T)"
   ]
  },
  {
   "cell_type": "markdown",
   "id": "852ed651",
   "metadata": {},
   "source": [
    "# % of calculations"
   ]
  },
  {
   "cell_type": "code",
   "execution_count": 9,
   "id": "5364d6a8",
   "metadata": {
    "scrolled": true
   },
   "outputs": [
    {
     "name": "stdout",
     "output_type": "stream",
     "text": [
      "First:1.0982109443487904\n",
      "Second:1.107\n",
      "99.20604736664774%\n"
     ]
    }
   ],
   "source": [
    "a = float(input(\"First:\"))\n",
    "b = float(input(\"Second:\"))\n",
    "print(str(a/b*100)+\"%\")"
   ]
  },
  {
   "cell_type": "markdown",
   "id": "712bcc89",
   "metadata": {},
   "source": [
    "1. 99.83802816901408%  = \n",
    "2. 99.8241192411924%\n",
    "3. 99.5579718726869%\n",
    "4. 100.24543626035847%\n",
    "5. 99.20604736664774%"
   ]
  },
  {
   "cell_type": "code",
   "execution_count": 15,
   "id": "be7b8cb6",
   "metadata": {},
   "outputs": [
    {
     "name": "stdout",
     "output_type": "stream",
     "text": [
      "First:99.20604736664774\n",
      "0.7939526333522622\n"
     ]
    }
   ],
   "source": [
    "a = float(input(\"First:\"))\n",
    "print(100 - a)"
   ]
  },
  {
   "cell_type": "markdown",
   "id": "73178d63",
   "metadata": {},
   "source": [
    "1. 0.1619718309859195    min\n",
    "2. 0.1758807588075939\n",
    "3. 0.44202812731309393\n",
    "4. 0.2454362603584741\n",
    "5. 0.7939526333522622    max"
   ]
  },
  {
   "cell_type": "code",
   "execution_count": null,
   "id": "3d9d2d52",
   "metadata": {},
   "outputs": [],
   "source": []
  },
  {
   "cell_type": "code",
   "execution_count": null,
   "id": "92726c1f",
   "metadata": {},
   "outputs": [],
   "source": []
  },
  {
   "cell_type": "code",
   "execution_count": null,
   "id": "8de34e14",
   "metadata": {},
   "outputs": [],
   "source": []
  },
  {
   "cell_type": "code",
   "execution_count": null,
   "id": "6d492e19",
   "metadata": {},
   "outputs": [],
   "source": []
  }
 ],
 "metadata": {
  "kernelspec": {
   "display_name": "Python 3 (ipykernel)",
   "language": "python",
   "name": "python3"
  },
  "language_info": {
   "codemirror_mode": {
    "name": "ipython",
    "version": 3
   },
   "file_extension": ".py",
   "mimetype": "text/x-python",
   "name": "python",
   "nbconvert_exporter": "python",
   "pygments_lexer": "ipython3",
   "version": "3.7.16"
  }
 },
 "nbformat": 4,
 "nbformat_minor": 5
}
