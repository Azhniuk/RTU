{
 "cells": [
  {
   "cell_type": "code",
   "execution_count": 33,
   "metadata": {},
   "outputs": [
    {
     "data": {
      "image/png": "[encoded data removed]",
      "text/plain": [
       "<Figure size 432x288 with 1 Axes>"
      ]
     },
     "metadata": {
      "needs_background": "light"
     },
     "output_type": "display_data"
    },
    {
     "name": "stdout",
     "output_type": "stream",
     "text": [
      "[]\n",
      "[]\n"
     ]
    }
   ],
   "source": [
    "import matplotlib.pyplot as plt\n",
    "import math\n",
    "plt.title(\"Bresenham Algorithm\")\n",
    "plt.xlabel(\"x axis\")\n",
    "plt.ylabel(\"y axis\")\n",
    "\n",
    "xCoordinates = []\n",
    "yCoordinates = []\n",
    "\n",
    "\n",
    "\n",
    "def lineCreation (xBeg, yBeg, xEnd, yEnd):\n",
    "    xCoordinates = [xBeg]\n",
    "    yCoordinates = [yBeg]\n",
    "    dx = abs(xEnd - xBeg)\n",
    "    dy = abs(yEnd - yBeg)\n",
    "    x = xBeg\n",
    "    y = yBeg\n",
    "    \n",
    "\n",
    "    if xBeg < xEnd :\n",
    "        xs = 1\n",
    "    else:\n",
    "        xs = -1\n",
    " \n",
    "\n",
    "    if yBeg < yEnd :\n",
    "        ys = 1\n",
    "    else:\n",
    "        ys = -1\n",
    "\n",
    "    if dx > dy:\n",
    "        p = 2*dy - dx\n",
    "        pn = p\n",
    "        \n",
    "        \n",
    "        while x!=xEnd:\n",
    "            x = x + xs\n",
    "            if pn > 0:\n",
    "                y = y + ys\n",
    "                p=p+2*dy-2*dx\n",
    "            else:\n",
    "                p=p+2*dy\n",
    "            xCoordinates.append(x)\n",
    "            yCoordinates.append(y)    \n",
    "            \n",
    "        \n",
    "        \n",
    "            \n",
    "    plt.plot(xCoordinates, yCoordinates)\n",
    "    plt.show()              \n",
    "        \n",
    "    return xCoordinates\n",
    "\n",
    "\n",
    "\n",
    "\n",
    "         \n",
    "                \n",
    "\n",
    "lineCreation (50, 0, 30, 0)\n",
    "  \n"
   ]
  },
  {
   "cell_type": "code",
   "execution_count": null,
   "metadata": {},
   "outputs": [],
   "source": []
  },
  {
   "cell_type": "code",
   "execution_count": null,
   "metadata": {},
   "outputs": [],
   "source": []
  },
  {
   "cell_type": "code",
   "execution_count": null,
   "metadata": {},
   "outputs": [],
   "source": []
  },
  {
   "cell_type": "code",
   "execution_count": null,
   "metadata": {},
   "outputs": [],
   "source": []
  }
 ],
 "metadata": {
  "kernelspec": {
   "display_name": "Python 3",
   "language": "python",
   "name": "python3"
  }
 },
 "nbformat": 4,
 "nbformat_minor": 4
}
