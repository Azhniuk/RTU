{
 "cells": [
  {
   "cell_type": "code",
   "execution_count": 3,
   "id": "96996193",
   "metadata": {},
   "outputs": [],
   "source": [
    "\n"
   ]
  },
  {
   "cell_type": "markdown",
   "id": "37a15928",
   "metadata": {},
   "source": [
    "04.04 - 18.04\n",
    "1. 0   Дискретка\n",
    "2. 0   Фізика\n",
    "3. 0   Computer Networks\n",
    "4. 0   Data Structures\n",
    "5. 0   Mathematics\n",
    "\n",
    "\n",
    "18.04 - 02.05\n",
    "1. 0   Дискретка\n",
    "2. 0   Фізика\n",
    "3. 0   Computer Networks\n",
    "4. 0   Data Structures\n",
    "5. 0   Mathematics\n",
    "\n",
    "\n",
    "\n"
   ]
  }
 ],
 "metadata": {
  "kernelspec": {
   "display_name": "Python 3 (ipykernel)",
   "language": "python",
   "name": "python3"
  },
  "language_info": {
   "codemirror_mode": {
    "name": "ipython",
    "version": 3
   },
   "file_extension": ".py",
   "mimetype": "text/x-python",
   "name": "python",
   "nbconvert_exporter": "python",
   "pygments_lexer": "ipython3",
   "version": "3.7.16"
  }
 },
 "nbformat": 4,
 "nbformat_minor": 5
}
