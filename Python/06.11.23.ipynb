{
 "cells": [
  {
   "cell_type": "code",
   "execution_count": 21,
   "id": "9c8ba152",
   "metadata": {},
   "outputs": [],
   "source": [
    "#1. exercise\n",
    "def add_mult(a, b, c):\n",
    "    if a > b and a> c:\n",
    "        d = (b+c)*a\n",
    "    elif b>a and b>c:\n",
    "        d = (a+c)*b\n",
    "    else:\n",
    "        d = (a+b)*c\n",
    "    return d\n",
    "\n",
    "#add_mult(1, 2, 3) "
   ]
  },
  {
   "cell_type": "code",
   "execution_count": 22,
   "id": "7ba1e253",
   "metadata": {},
   "outputs": [],
   "source": [
    "#2. exercise\n",
    "def is_palindrome(text):\n",
    "    result = False\n",
    "    text = text.lower()\n",
    "    text = text.replace(\" \", \"\")\n",
    "    text1 = text[::-1]\n",
    "    if text == text1:\n",
    "        result = True\n",
    "    return result\n",
    "\n",
    "#is_palindrome(\"madam\")  "
   ]
  },
  {
   "cell_type": "code",
   "execution_count": 23,
   "id": "0c84b695",
   "metadata": {},
   "outputs": [],
   "source": [
    "#3. exercise\n",
    "def clean_dict_value(d, bad_val):\n",
    "    value = [i for i in d if d[i]==bad_val]\n",
    "    for i in value:\n",
    "        d.pop(i)\n",
    "    return d\n",
    "#clean_dict_value({'a':5,'b':6,'c':5}, 5)   "
   ]
  },
  {
   "cell_type": "code",
   "execution_count": 65,
   "id": "3fb5c88b",
   "metadata": {},
   "outputs": [],
   "source": [
    "#4. exercise\n",
    "def  get_num_count(num):\n",
    "    d = {}\n",
    "    for i in range(10):\n",
    "        d[i]=0\n",
    "    for n in num:\n",
    "        d[int(n)] +=1\n",
    "    return d\n",
    "#get_num_count('1123')"
   ]
  },
  {
   "cell_type": "code",
   "execution_count": 118,
   "id": "23de43da",
   "metadata": {},
   "outputs": [],
   "source": [
    "#5. exercise\n",
    "def get_min_med_max(sequence):\n",
    "    arr = []\n",
    "    for i in sequence:\n",
    "        arr.append(i)\n",
    "    sequence = arr\n",
    "    sequence.sort()\n",
    "    a = sequence[0]\n",
    "    l = len(sequence)\n",
    "    if l%2==0:\n",
    "        ans = int(l/2)\n",
    "        if type( sequence[ans]) == str:\n",
    "            b = (sequence[ans-1] + sequence[ans])\n",
    "        else:\n",
    "            b = (sequence[ans] + sequence[ans-1])/2\n",
    "    else:\n",
    "        b = sequence[int((l-1)/2)]\n",
    "    c = sequence[-1]\n",
    "    \n",
    "    return a, b, c\n",
    "    \n",
    "#get_min_med_max (\"faaacb\") "
   ]
  }
 ],
 "metadata": {
  "kernelspec": {
   "display_name": "Python 3 (ipykernel)",
   "language": "python",
   "name": "python3"
  },
  "language_info": {
   "codemirror_mode": {
    "name": "ipython",
    "version": 3
   },
   "file_extension": ".py",
   "mimetype": "text/x-python",
   "name": "python",
   "nbconvert_exporter": "python",
   "pygments_lexer": "ipython3",
   "version": "3.7.16"
  }
 },
 "nbformat": 4,
 "nbformat_minor": 5
}
