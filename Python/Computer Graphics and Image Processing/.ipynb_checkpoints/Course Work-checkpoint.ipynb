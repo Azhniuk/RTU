{
 "cells": [
  {
   "cell_type": "code",
   "execution_count": 5,
   "metadata": {},
   "outputs": [
    {
     "data": {
      "text/plain": [
       "'\\n\\ndef curveCreation(x0, y0,x1,y1, x2,y2, x3, y3, x4, y4, x5, y5, x6, y6, x7, y7):\\n    xCoordinates = []\\n    yCoordinates = []\\n    t = 0\\n    ts = 0.01\\n    \\n    #\\n    \\n    \\n    \\n    \\n    while t <= 1:\\n        B0 = (1-t)*(1-t)*(1-t)*(1-t)*(1-t)*(1-t)*(1-t)\\n        B1 = 7*t*(1-t)*(1-t)*(1-t)*(1-t)*(1-t)*(1-t)\\n        B2 = 21*t*t*(1-t)*(1-t)*(1-t)*(1-t)*(1-t)\\n        B3 = 35*t*t*t*(1-t)*(1-t)*(1-t)*(1-t)\\n        B4 = 35*t*t*t*t*(1-t)*(1-t)*(1-t)\\n        B5 = 21*t*t*t*t*t*(1-t)*(1-t)\\n        B6 = 7*t*t*t*t*t*t*(1-t)\\n        B7 = t*t*t*t*t*t*t\\n        \\n        x = int(x0*B0 + x1*B1 + x2*B2 + x3*B3 + x4*B4 + x5*B5 + x6*B6 + x7*B7) \\n        y = int(y0*B0 + y1*B1 + y2*B2 + y3*B3 + y4*B4 + y5*y5 + y6*B6 + y7*B7)\\n        \\n                \\n         \\n        t=t+ts\\n        \\n        xCoordinates.append(x)\\n        yCoordinates.append(y)\\n        \\n    plt.plot(xCoordinates, yCoordinates)\\n                  \\n        \\n    return \\n\\n\\n\\n\\n         \\ncurveCreation (295, 200, \\n               100, 150,\\n               100, 250,               \\n               100, 400,\\n               300, 500,\\n               500, 200,\\n               200, 100,\\n               100, 150\\n              )\\n\\n\\nplt.show()\\n  \\n  '"
      ]
     },
     "execution_count": 5,
     "metadata": {},
     "output_type": "execute_result"
    }
   ],
   "source": [
    "import matplotlib.pyplot as plt\n",
    "import math\n",
    "import turtle\n",
    "\n",
    "IMAGE = \"https://cdn-icons-png.flaticon.com/512/60/60765.png\"\n",
    "\n",
    "screen = turtle.Screen();\n",
    "screen.register_shape(IMAGE)\n",
    "\n",
    "screen.bgcolor(\"light green\")\n",
    "screen.title(\"Curve Algorithm\")\n",
    "\n",
    "turtle.done()\n",
    "turtle.Screen().bye()\n",
    "\n",
    "\n",
    "\n",
    "\n",
    "\n",
    "\"\"\"\n",
    "\n",
    "def curveCreation(x0, y0,x1,y1, x2,y2, x3, y3, x4, y4, x5, y5, x6, y6, x7, y7):\n",
    "    xCoordinates = []\n",
    "    yCoordinates = []\n",
    "    t = 0\n",
    "    ts = 0.01\n",
    "    \n",
    "    #\n",
    "    \n",
    "    \n",
    "    \n",
    "    \n",
    "    while t <= 1:\n",
    "        B0 = (1-t)*(1-t)*(1-t)*(1-t)*(1-t)*(1-t)*(1-t)\n",
    "        B1 = 7*t*(1-t)*(1-t)*(1-t)*(1-t)*(1-t)*(1-t)\n",
    "        B2 = 21*t*t*(1-t)*(1-t)*(1-t)*(1-t)*(1-t)\n",
    "        B3 = 35*t*t*t*(1-t)*(1-t)*(1-t)*(1-t)\n",
    "        B4 = 35*t*t*t*t*(1-t)*(1-t)*(1-t)\n",
    "        B5 = 21*t*t*t*t*t*(1-t)*(1-t)\n",
    "        B6 = 7*t*t*t*t*t*t*(1-t)\n",
    "        B7 = t*t*t*t*t*t*t\n",
    "        \n",
    "        x = int(x0*B0 + x1*B1 + x2*B2 + x3*B3 + x4*B4 + x5*B5 + x6*B6 + x7*B7) \n",
    "        y = int(y0*B0 + y1*B1 + y2*B2 + y3*B3 + y4*B4 + y5*y5 + y6*B6 + y7*B7)\n",
    "        \n",
    "                \n",
    "         \n",
    "        t=t+ts\n",
    "        \n",
    "        xCoordinates.append(x)\n",
    "        yCoordinates.append(y)\n",
    "        \n",
    "    plt.plot(xCoordinates, yCoordinates)\n",
    "                  \n",
    "        \n",
    "    return \n",
    "\n",
    "\n",
    "\n",
    "\n",
    "         \n",
    "curveCreation (295, 200, \n",
    "               100, 150,\n",
    "               100, 250,               \n",
    "               100, 400,\n",
    "               300, 500,\n",
    "               500, 200,\n",
    "               200, 100,\n",
    "               100, 150\n",
    "              )\n",
    "\n",
    "\n",
    "plt.show()\n",
    "  \n",
    "  \"\"\"\n",
    "\n",
    "\n"
   ]
  },
  {
   "cell_type": "code",
   "execution_count": null,
   "metadata": {},
   "outputs": [],
   "source": []
  },
  {
   "cell_type": "code",
   "execution_count": null,
   "metadata": {},
   "outputs": [],
   "source": []
  }
 ],
 "metadata": {
  "kernelspec": {
   "display_name": "Python 3",
   "language": "python",
   "name": "python3"
  },
  "language_info": {
   "codemirror_mode": {
    "name": "ipython",
    "version": 3
   },
   "file_extension": ".py",
   "mimetype": "text/x-python",
   "name": "python",
   "nbconvert_exporter": "python",
   "pygments_lexer": "ipython3",
   "version": "3.7.6"
  }
 },
 "nbformat": 4,
 "nbformat_minor": 4
}
