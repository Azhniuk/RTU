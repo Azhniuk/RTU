{
 "cells": [
  {
   "cell_type": "markdown",
   "metadata": {},
   "source": [
    "# RIGA  TECHNICAL UNIVERSITY\n",
    "### FACULTY OF COMPUTER SCIENCE AND INFORMATION TECHNOLOGY\n",
    "### Fundamentals of Computer Graphics and Image Processing\n",
    "### Practical Work Nr.2 Bezier curve algorithm\n",
    "# Name, Surname: Azhniuk Sofiia\n",
    "# Student ID:221ADB207\n",
    "## Group 1, Variant 207\n",
    " \n",
    "\n",
    "\n",
    "Draw a single digit with one or more Bezier curves (based on the variant). The list of variants is available in ORTUS under the 4th practical lesson!\n",
    "\n",
    "The variant number corresponds to the last 3 digits of the student ID number. Possible variations:\n",
    "\n",
    "number (3, 6, 8, 9),\n",
    "amount of points (4-8 control points).\n",
    "\n",
    "\n",
    "For example, if the last 3 digits of your student ID number are 154, then you must select variant 154 from the list of variant. The first column in the list of variants shows the number that needs to be drawn with Bezier curves and the second column shows how many control points the drawn Bezier curves should consist of.\n"
   ]
  },
  {
   "cell_type": "code",
   "execution_count": 2,
   "metadata": {},
   "outputs": [
    {
     "data": {
      "image/png": "[encoded data removed]",
      "text/plain": [
       "<Figure size 432x288 with 1 Axes>"
      ]
     },
     "metadata": {
      "needs_background": "light"
     },
     "output_type": "display_data"
    }
   ],
   "source": [
    "import matplotlib.pyplot as plt\n",
    "import math\n",
    "plt.title(\"Bezier curve algorithm\")\n",
    "plt.xlabel(\"x axis\")\n",
    "plt.ylabel(\"y axis\")\n",
    "\n",
    "\n",
    "\n",
    "\n",
    "\n",
    "def curveCreation (xBeg, yBeg, xEnd, yEnd):\n",
    "    xCoordinates = [xBeg]\n",
    "    yCoordinates = [yBeg]\n",
    "    t = 0\n",
    "    ts = 0.1\n",
    "    \n",
    "    x = xBeg\n",
    "    y = yBeg\n",
    "    \n",
    "    \n",
    "    #Main variables\n",
    "    if xBeg < xEnd :\n",
    "        xs = 1\n",
    "    else:\n",
    "        xs = -1\n",
    "\n",
    "    if yBeg < yEnd :\n",
    "        ys = 1\n",
    "    else:\n",
    "        ys = -1\n",
    "        \n",
    "        \n",
    "    #Steep or not\n",
    "    if dx > dy:\n",
    "        p = 2*dy - dx\n",
    "        pn = p\n",
    "        while x!=xEnd:\n",
    "            x = x + xs\n",
    "            if p > 0:\n",
    "                y = y + ys\n",
    "                p=p+2*dy-2*dx\n",
    "            else:\n",
    "                p=p+2*dy\n",
    "            xCoordinates.append(x)\n",
    "            yCoordinates.append(y)       \n",
    "        \n",
    "    else:\n",
    "        p = 2*dx - dy\n",
    "        pn = p\n",
    "        while y!=yEnd:\n",
    "            y = y + ys\n",
    "            if p > 0:\n",
    "                x = x + xs\n",
    "                p=p+2*dx-2*dy\n",
    "            else:\n",
    "                p=p+2*dx\n",
    "            xCoordinates.append(x)\n",
    "            yCoordinates.append(y)    \n",
    "            \n",
    "            \n",
    "            \n",
    "    plt.plot(xCoordinates, yCoordinates)\n",
    "                  \n",
    "        \n",
    "    return \n",
    "\n",
    "\n",
    "\n",
    "\n",
    "         \n",
    "                \n",
    "\n",
    "curveCreation (1, 6, 3, 8)\n",
    "\n",
    "\n",
    "plt.show()\n",
    "  \n",
    "\n",
    "\n"
   ]
  },
  {
   "cell_type": "code",
   "execution_count": null,
   "metadata": {},
   "outputs": [],
   "source": []
  }
 ],
 "metadata": {
  "kernelspec": {
   "display_name": "Python 3",
   "language": "python",
   "name": "python3"
  },
  "language_info": {
   "codemirror_mode": {
    "name": "ipython",
    "version": 3
   },
   "file_extension": ".py",
   "mimetype": "text/x-python",
   "name": "python",
   "nbconvert_exporter": "python",
   "pygments_lexer": "ipython3",
   "version": "3.7.6"
  }
 },
 "nbformat": 4,
 "nbformat_minor": 4
}
