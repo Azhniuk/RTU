{
 "cells": [
  {
   "attachments": {
    "26.11.2022_12.36.42_REC.png": {
     "image/png": "[encoded data removed]"
    }
   },
   "cell_type": "markdown",
   "metadata": {},
   "source": [
    "![26.11.2022_12.36.42_REC.png](attachment:26.11.2022_12.36.42_REC.png)"
   ]
  },
  {
   "cell_type": "code",
   "execution_count": 19,
   "metadata": {},
   "outputs": [
    {
     "ename": "SyntaxError",
     "evalue": "EOL while scanning string literal (<ipython-input-19-b8f93f5680f3>, line 24)",
     "output_type": "error",
     "traceback": [
      "\u001b[1;36m  File \u001b[1;32m\"<ipython-input-19-b8f93f5680f3>\"\u001b[1;36m, line \u001b[1;32m24\u001b[0m\n\u001b[1;33m    \"for i in range(0, len(), 2):\u001b[0m\n\u001b[1;37m                                 ^\u001b[0m\n\u001b[1;31mSyntaxError\u001b[0m\u001b[1;31m:\u001b[0m EOL while scanning string literal\n"
     ]
    }
   ],
   "source": [
    "#libraries\n",
    "\n",
    "#arrays\n",
    "import numpy as np\n",
    "from numpy import asarray\n",
    "\n",
    "#image processing\n",
    "import cv2\n",
    "from PIL import Image\n",
    "\n",
    "#load/show images\n",
    "import matplotlib.pyplot as plt\n",
    "import matplotlib.image as mpimg\n",
    "\n",
    "\n",
    "#import an image\n",
    "image = cv2.imread('Solomiia.jpg')\n",
    "im_rgb = cv2.cvtColor(image, cv2.COLOR_BGR2RGB)\n",
    "image = cv2.resize(im_rgb, (500,500))\n",
    "\n",
    "data = asarray(image)\n",
    "print(data)\n",
    "\n",
    "#for i in range(0, len(), 2):\n",
    " #   image[i, 10] = (0, 0, 255)\n",
    "\n",
    "\n",
    "\n",
    "\n",
    "\n",
    "\n",
    "\n",
    "%matplotlib notebook\n",
    "plt.figure(figsize=(7,7))\n",
    "plt.imshow(image)\n",
    "\n",
    "\n",
    "\n",
    "\n"
   ]
  },
  {
   "cell_type": "code",
   "execution_count": null,
   "metadata": {},
   "outputs": [],
   "source": []
  }
 ],
 "metadata": {
  "kernelspec": {
   "display_name": "Python 3",
   "language": "python",
   "name": "python3"
  },
  "language_info": {
   "codemirror_mode": {
    "name": "ipython",
    "version": 3
   },
   "file_extension": ".py",
   "mimetype": "text/x-python",
   "name": "python",
   "nbconvert_exporter": "python",
   "pygments_lexer": "ipython3",
   "version": "3.7.6"
  }
 },
 "nbformat": 4,
 "nbformat_minor": 4
}
