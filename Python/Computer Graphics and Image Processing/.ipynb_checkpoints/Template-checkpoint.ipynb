{
 "cells": [
  {
   "cell_type": "markdown",
   "metadata": {},
   "source": [
    "# RIGA  TECHNICAL UNIVERSITY\n",
    "\n",
    "## FACULTY OF COMPUTER SCIENCE AND INFORMATION TECHNOLOGY\n",
    "\n",
    "\n",
    "### Fundamentals of Computer Graphics and Image Processing \n",
    "#### Practical Work Nr. X\n",
    "#### Name, Surname:\n",
    "#### Student ID:\n"
   ]
  },
  {
   "cell_type": "markdown",
   "metadata": {},
   "source": [
    "## TASK OF WORK\n",
    "Please input the task of work, including your variant!"
   ]
  },
  {
   "cell_type": "code",
   "execution_count": null,
   "metadata": {},
   "outputs": [],
   "source": [
    "# Programming code"
   ]
  }
 ],
 "metadata": {
  "celltoolbar": "Raw Cell Format",
  "kernelspec": {
   "display_name": "Python 3",
   "language": "python",
   "name": "python3"
  },
  "language_info": {
   "codemirror_mode": {
    "name": "ipython",
    "version": 3
   },
   "file_extension": ".py",
   "mimetype": "text/x-python",
   "name": "python",
   "nbconvert_exporter": "python",
   "pygments_lexer": "ipython3",
   "version": "3.7.6"
  }
 },
 "nbformat": 4,
 "nbformat_minor": 5
}
