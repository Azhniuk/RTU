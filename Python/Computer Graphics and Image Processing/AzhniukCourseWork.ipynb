{
 "cells": [
  {
   "cell_type": "markdown",
   "metadata": {},
   "source": [
    "# RIGA  TECHNICAL UNIVERSITY\n",
    "\n",
    "## FACULTY OF COMPUTER SCIENCE AND INFORMATION TECHNOLOGY\n",
    "\n",
    "\n",
    "### Fundamentals of Computer Graphics and Image Processing \n",
    "### \"Beziér curve algorithm implementation for 2D object animation\" \n",
    "#### Name, Surname: Sofiia Azhniuk\n",
    "\n",
    "#### 1 year, 1 group \n",
    "#### Student ID: 221ADB207\n",
    "\n",
    "\n",
    "###### Task description \n",
    "Develop an application in Python environment with the possibility of moving a 2D object (point, circle, quadrangle, etc.) using a curve implemented through a Beziér curve algorithm.<br>\n",
    "Realize the object movement from first control point to last control point using a curve trajectory in real time(animation)<br>\n",
    "Curve must have at least 3 control points<br>\n",
    "User must see the visualized object path (trajectory) as well as all control points<br>\n",
    "User must see object movement (animation)<br>\n",
    "The user should be able to define all the control points of the curve (with mouse clicks or text input fields) by using the User Interface<br>\n",
    "Do not use built-in methods functions or libraries to create a curve, a Beziér curve drawing algorithm (from the lecture) must be implemented!<br>\n",
    "Built-in functions may be used to draw the 2D object<br>\n",
    "Console programs (without user interface) will not be accepted.\n"
   ]
  },
  {
   "cell_type": "markdown",
   "metadata": {},
   "source": [
    "#### Theoretical description algorithm used in the course work variant\n",
    "\n",
    "\n",
    "A list of any additional Python library/package, reason for adding the library, description of its operation and usability\n",
    "List of other materials used (books, code repositories, blogs, etc.)\n",
    "\n",
    "\n",
    " Please fill in this cell with the given course work task description based on the course work task variant list. \n",
    "   You can find the variant description in the study course page in ORTUS}\n",
    "\n",
    "#### Teoretical description of the topic\n",
    "    \n",
    "\n",
    "#### Information sources:\n",
    "Sites:<br>\n",
    "\n",
    "<ul>\n",
    "    <li>\n",
    "        <a href=\"https://www.youtube.com/watch?v=YXPyB4XeYLA&t=35s\">Main YouTube course, where I learned the structure and the syntax of tkinter </a>\n",
    "    </li>\n",
    "    <li>\n",
    "        <a href=\"https://stackoverflow.com/questions/32289175/list-of-all-tkinter-events\">Tkinter Events </a>\n",
    "    </li>\n",
    "    <li>\n",
    "        <a href=\"https://gist.github.com/PM2Ring/d6a19f5062b39467ac669a4fb4715779\">GitHub; Main Sourse of code</a>\n",
    "    </li>\n",
    "<ul>\n",
    "    <br>\n",
    "    \n",
    "Mostly I used the Stackoverflow pages to create and modify the code. Also, I found useful the \n",
    "    <a href = \"https://docs.python.org/3/library/tk.html\"> Documentation of tkinter library</a>\n",
    "        "
   ]
  },
  {
   "cell_type": "markdown",
   "metadata": {},
   "source": [
    "### Course work practical part\n",
    " \n",
    "#### Variant 207"
   ]
  },
  {
   "cell_type": "code",
   "execution_count": null,
   "metadata": {},
   "outputs": [],
   "source": [
    "# Programming code"
   ]
  }
 ],
 "metadata": {
  "celltoolbar": "Raw Cell Format",
  "kernelspec": {
   "display_name": "Python 3",
   "language": "python",
   "name": "python3"
  },
  "language_info": {
   "codemirror_mode": {
    "name": "ipython",
    "version": 3
   },
   "file_extension": ".py",
   "mimetype": "text/x-python",
   "name": "python",
   "nbconvert_exporter": "python",
   "pygments_lexer": "ipython3",
   "version": "3.7.6"
  }
 },
 "nbformat": 4,
 "nbformat_minor": 5
}
