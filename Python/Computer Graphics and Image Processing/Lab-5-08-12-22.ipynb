{
 "cells": [
  {
   "cell_type": "markdown",
   "metadata": {},
   "source": [
    "# RIGA  TECHNICAL UNIVERSITY\n",
    "\n",
    "## FACULTY OF COMPUTER SCIENCE AND INFORMATION TECHNOLOGY\n",
    "\n",
    "\n",
    "### Fundamentals of Computer Graphics and Image Processing \n",
    "#### Practical Work Nr. 5\n",
    "#### Name, Surname: Sofiia Azhniuk\n",
    "#### Student ID: 221ADB207"
   ]
  },
  {
   "attachments": {
    "image.png": {
     "image/png": "[encoded data removed]"
    }
   },
   "cell_type": "markdown",
   "metadata": {},
   "source": [
    "## 5. practical work - \"Image blending modes\"\n",
    "Create 2 different blending mode functions (for example, \"difference\" or \"hard_light\") based on the last 3 digits of your student ID number. The list of variants is available in ORTUS in the 7th practical lecture task description. \n",
    "\n",
    "The output needs to have both of the input images and the resulting image after using the specified blending mode. The input images have to be the same size - 500x500 pixels! Each blending mode has to have it's own set of 3 images : input_1, input_2, result\n",
    "\n",
    "Variant 207\n",
    "\n",
    "Overlay, Softlight\n",
    "\n",
    "![image.png](attachment:image.png)"
   ]
  },
  {
   "cell_type": "code",
   "execution_count": 17,
   "metadata": {},
   "outputs": [
    {
     "ename": "ValueError",
     "evalue": "The truth value of an array with more than one element is ambiguous. Use a.any() or a.all()",
     "output_type": "error",
     "traceback": [
      "\u001b[1;31m---------------------------------------------------------------------------\u001b[0m",
      "\u001b[1;31mValueError\u001b[0m                                Traceback (most recent call last)",
      "\u001b[1;32m<ipython-input-17-9f0a0206cbda>\u001b[0m in \u001b[0;36m<module>\u001b[1;34m\u001b[0m\n\u001b[0;32m     36\u001b[0m \u001b[1;33m\u001b[0m\u001b[0m\n\u001b[0;32m     37\u001b[0m \u001b[1;33m\u001b[0m\u001b[0m\n\u001b[1;32m---> 38\u001b[1;33m \u001b[1;32mif\u001b[0m \u001b[1;33m(\u001b[0m\u001b[0mimage_norm_A\u001b[0m \u001b[1;33m<=\u001b[0m \u001b[1;36m0.5\u001b[0m\u001b[1;33m)\u001b[0m\u001b[1;33m:\u001b[0m\u001b[1;33m\u001b[0m\u001b[1;33m\u001b[0m\u001b[0m\n\u001b[0m\u001b[0;32m     39\u001b[0m     \u001b[0moverlay\u001b[0m \u001b[1;33m=\u001b[0m \u001b[1;36m2\u001b[0m \u001b[1;33m*\u001b[0m \u001b[0mimage_norm_A\u001b[0m \u001b[1;33m*\u001b[0m \u001b[0mimage_norm_B\u001b[0m\u001b[1;33m\u001b[0m\u001b[1;33m\u001b[0m\u001b[0m\n\u001b[0;32m     40\u001b[0m \u001b[1;32melse\u001b[0m\u001b[1;33m:\u001b[0m\u001b[1;33m\u001b[0m\u001b[1;33m\u001b[0m\u001b[0m\n",
      "\u001b[1;31mValueError\u001b[0m: The truth value of an array with more than one element is ambiguous. Use a.any() or a.all()"
     ]
    }
   ],
   "source": [
    "#libraries\n",
    "import numpy as np\n",
    "from numpy import asarray\n",
    "\n",
    "#image processing\n",
    "import cv2\n",
    "from PIL import Image\n",
    "\n",
    "#load/show images\n",
    "import matplotlib.pyplot as plt\n",
    "import matplotlib.image as mpimg\n",
    "\n",
    "\n",
    "#import an image\n",
    "image1 = cv2.imread('Solomiia.jpg')\n",
    "image2 = cv2.imread('Bird.jpg')\n",
    "\n",
    "#Recolour for OpenCV \n",
    "im_rgb_A = cv2.cvtColor(image1, cv2.COLOR_BGR2RGB)\n",
    "im_rgb_B = cv2.cvtColor(image2, cv2.COLOR_BGR2RGB)\n",
    "\n",
    "#Resize so both images are the same size\n",
    "resized_img_A = cv2.resize(im_rgb_A, (500,500))\n",
    "resized_img_B = cv2.resize(im_rgb_B, (500,500))\n",
    "\n",
    "# convert image to numpy array\n",
    "data_A = asarray(resized_img_A)\n",
    "data_B = asarray(resized_img_B)\n",
    "\n",
    "data_C = asarray(resized_img_A)\n",
    "\n",
    "#normalize values to an interval from 0 to 1\n",
    "image_norm_A = data_A/255.0\n",
    "image_norm_B = data_B/255.0\n",
    "\n",
    "\n",
    "\n",
    "if (image_norm_A <= 0.5):\n",
    "    overlay = 2 * image_norm_A * image_norm_B\n",
    "else:\n",
    "    overlay = 1 - (2 * (1 - image_norm_A) * (1 - image_norm_B))  \n",
    "        \n",
    "\n",
    "\n",
    "\n",
    "\n",
    "\n",
    "\n",
    "\n",
    "\n",
    "\n",
    "#test output for input images\n",
    "fig = plt.figure(figsize=(10, 6), dpi=100, facecolor='w', edgecolor='k')\n",
    "ax1 = fig.add_subplot(2,3,1)\n",
    "ax1.title.set_text('input img 1')\n",
    "ax1.imshow(resized_img_A)\n",
    "\n",
    "ax2 = fig.add_subplot(2,3,2)\n",
    "ax2.title.set_text('input img 2')\n",
    "ax2.imshow(resized_img_B)\n",
    "\n",
    "ax3 = fig.add_subplot(2,3,3)\n",
    "ax3.title.set_text('output Overlay')\n",
    "ax3.imshow(overlay)\n",
    "\n",
    "\n",
    "ax4 = fig.add_subplot(2,3,4)\n",
    "ax4.title.set_text('input img 1')\n",
    "ax4.imshow(resized_img_A)\n",
    "\n",
    "ax5 = fig.add_subplot(2,3,5)\n",
    "ax5.title.set_text('input img 2')\n",
    "ax5.imshow(resized_img_B)\n",
    "\n",
    "\n",
    "\n",
    "\n",
    "\n",
    "\n",
    "\n",
    "\n",
    "\n"
   ]
  },
  {
   "cell_type": "code",
   "execution_count": null,
   "metadata": {},
   "outputs": [],
   "source": [
    "for j in range(0, len(data)):  #row\n",
    "        if(j%2 == 0):\n",
    "            for i in range(0, len(data), 3):\n",
    "                image1[j, i] = (0, 0, 255)\n",
    "        else:\n",
    "            for i in range(0, len(data), 2):\n",
    "                image1[j, i] = (0, 0, 255)\n",
    "\n",
    "\n"
   ]
  }
 ],
 "metadata": {
  "kernelspec": {
   "display_name": "Python 3",
   "language": "python",
   "name": "python3"
  },
  "language_info": {
   "codemirror_mode": {
    "name": "ipython",
    "version": 3
   },
   "file_extension": ".py",
   "mimetype": "text/x-python",
   "name": "python",
   "nbconvert_exporter": "python",
   "pygments_lexer": "ipython3",
   "version": "3.7.6"
  }
 },
 "nbformat": 4,
 "nbformat_minor": 4
}
