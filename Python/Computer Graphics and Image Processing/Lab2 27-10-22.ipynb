{
 "cells": [
  {
   "cell_type": "markdown",
   "metadata": {},
   "source": [
    "# RIGA  TECHNICAL UNIVERSITY\n",
    "### FACULTY OF COMPUTER SCIENCE AND INFORMATION TECHNOLOGY\n",
    "### Fundamentals of Computer Graphics and Image Processing\n",
    "### Practical Work Nr.2 Bezier curve algorithm\n",
    "# Name, Surname: Azhniuk Sofiia\n",
    "# Student ID:221ADB207\n",
    "## Group 1, Variant 207  (Number 9 with 8 control points)\n",
    " \n",
    "\n",
    "\n",
    "Draw a single digit with one or more Bezier curves (based on the variant).\n",
    "\n",
    "The variant number corresponds to the last 3 digits of the student ID number. Possible variations:\n",
    "\n",
    "number (3, 6, 8, 9),\n",
    "amount of points (4-8 control points).\n",
    "\n",
    "\n",
    "For example, if the last 3 digits of your student ID number are 154, then you must select variant 154 from the list of variant. The first column in the list of variants shows the number that needs to be drawn with Bezier curves and the second column shows how many control points the drawn Bezier curves should consist of.\n"
   ]
  },
  {
   "cell_type": "code",
   "execution_count": 1,
   "metadata": {},
   "outputs": [
    {
     "ename": "UnboundLocalError",
     "evalue": "local variable 'y' referenced before assignment",
     "output_type": "error",
     "traceback": [
      "\u001b[1;31m---------------------------------------------------------------------------\u001b[0m",
      "\u001b[1;31mUnboundLocalError\u001b[0m                         Traceback (most recent call last)",
      "\u001b[1;32m<ipython-input-1-4ef3c60bdfb6>\u001b[0m in \u001b[0;36m<module>\u001b[1;34m\u001b[0m\n\u001b[0;32m     48\u001b[0m \u001b[1;33m\u001b[0m\u001b[0m\n\u001b[0;32m     49\u001b[0m \u001b[1;31m#circle\u001b[0m\u001b[1;33m\u001b[0m\u001b[1;33m\u001b[0m\u001b[1;33m\u001b[0m\u001b[0m\n\u001b[1;32m---> 50\u001b[1;33m \u001b[0mcurveCreation\u001b[0m \u001b[1;33m(\u001b[0m\u001b[1;36m500\u001b[0m\u001b[1;33m,\u001b[0m \u001b[1;36m600\u001b[0m\u001b[1;33m,\u001b[0m \u001b[1;36m300\u001b[0m\u001b[1;33m,\u001b[0m \u001b[1;36m800\u001b[0m\u001b[1;33m,\u001b[0m \u001b[1;36m100\u001b[0m\u001b[1;33m,\u001b[0m \u001b[1;36m600\u001b[0m\u001b[1;33m,\u001b[0m \u001b[1;36m300\u001b[0m\u001b[1;33m,\u001b[0m \u001b[1;36m400\u001b[0m\u001b[1;33m,\u001b[0m \u001b[1;36m500\u001b[0m\u001b[1;33m,\u001b[0m \u001b[1;36m600\u001b[0m\u001b[1;33m,\u001b[0m \u001b[1;36m400\u001b[0m\u001b[1;33m,\u001b[0m \u001b[1;36m100\u001b[0m\u001b[1;33m,\u001b[0m \u001b[1;36m200\u001b[0m\u001b[1;33m,\u001b[0m \u001b[1;36m70\u001b[0m\u001b[1;33m,\u001b[0m \u001b[1;36m110\u001b[0m\u001b[1;33m,\u001b[0m \u001b[1;36m300\u001b[0m\u001b[1;33m)\u001b[0m\u001b[1;33m\u001b[0m\u001b[1;33m\u001b[0m\u001b[0m\n\u001b[0m\u001b[0;32m     51\u001b[0m \u001b[1;33m\u001b[0m\u001b[0m\n\u001b[0;32m     52\u001b[0m \u001b[1;33m\u001b[0m\u001b[0m\n",
      "\u001b[1;32m<ipython-input-1-4ef3c60bdfb6>\u001b[0m in \u001b[0;36mcurveCreation\u001b[1;34m(x0, y0, x1, y1, x2, y2, x3, y3, x4, y4, x5, y5, x6, y6, x7, y7)\u001b[0m\n\u001b[0;32m     30\u001b[0m \u001b[1;33m\u001b[0m\u001b[0m\n\u001b[0;32m     31\u001b[0m         \u001b[0mx\u001b[0m \u001b[1;33m=\u001b[0m \u001b[0mint\u001b[0m\u001b[1;33m(\u001b[0m\u001b[0mx0\u001b[0m\u001b[1;33m*\u001b[0m\u001b[0mB0\u001b[0m \u001b[1;33m+\u001b[0m \u001b[0mx1\u001b[0m\u001b[1;33m*\u001b[0m\u001b[0mB1\u001b[0m \u001b[1;33m+\u001b[0m \u001b[0mx2\u001b[0m\u001b[1;33m*\u001b[0m\u001b[0mB2\u001b[0m \u001b[1;33m+\u001b[0m \u001b[0mx3\u001b[0m\u001b[1;33m*\u001b[0m\u001b[0mB3\u001b[0m \u001b[1;33m+\u001b[0m \u001b[0mx4\u001b[0m\u001b[1;33m*\u001b[0m\u001b[0mB4\u001b[0m \u001b[1;33m+\u001b[0m \u001b[0mx5\u001b[0m\u001b[1;33m*\u001b[0m\u001b[0mB5\u001b[0m \u001b[1;33m+\u001b[0m \u001b[0mx6\u001b[0m\u001b[1;33m*\u001b[0m\u001b[0mB6\u001b[0m \u001b[1;33m+\u001b[0m \u001b[0mx7\u001b[0m\u001b[1;33m*\u001b[0m\u001b[0mB7\u001b[0m\u001b[1;33m)\u001b[0m\u001b[1;33m\u001b[0m\u001b[1;33m\u001b[0m\u001b[0m\n\u001b[1;32m---> 32\u001b[1;33m         \u001b[0my\u001b[0m \u001b[1;33m=\u001b[0m \u001b[0mint\u001b[0m\u001b[1;33m(\u001b[0m\u001b[0my0\u001b[0m\u001b[1;33m*\u001b[0m\u001b[0mB0\u001b[0m \u001b[1;33m+\u001b[0m \u001b[0my1\u001b[0m\u001b[1;33m*\u001b[0m\u001b[0mB1\u001b[0m \u001b[1;33m+\u001b[0m \u001b[0my2\u001b[0m\u001b[1;33m*\u001b[0m\u001b[0mB2\u001b[0m \u001b[1;33m+\u001b[0m \u001b[0my3\u001b[0m\u001b[1;33m*\u001b[0m\u001b[0mB3\u001b[0m \u001b[1;33m+\u001b[0m \u001b[0my4\u001b[0m\u001b[1;33m*\u001b[0m\u001b[0mB4\u001b[0m \u001b[1;33m+\u001b[0m \u001b[0my5\u001b[0m\u001b[1;33m*\u001b[0m\u001b[0my5\u001b[0m \u001b[1;33m+\u001b[0m \u001b[0my\u001b[0m\u001b[1;33m*\u001b[0m\u001b[0mB6\u001b[0m \u001b[1;33m+\u001b[0m \u001b[0my7\u001b[0m\u001b[1;33m*\u001b[0m\u001b[0mB7\u001b[0m\u001b[1;33m)\u001b[0m\u001b[1;33m\u001b[0m\u001b[1;33m\u001b[0m\u001b[0m\n\u001b[0m\u001b[0;32m     33\u001b[0m \u001b[1;33m\u001b[0m\u001b[0m\n\u001b[0;32m     34\u001b[0m         \u001b[0mt\u001b[0m\u001b[1;33m=\u001b[0m\u001b[0mt\u001b[0m\u001b[1;33m+\u001b[0m\u001b[0mts\u001b[0m\u001b[1;33m\u001b[0m\u001b[1;33m\u001b[0m\u001b[0m\n",
      "\u001b[1;31mUnboundLocalError\u001b[0m: local variable 'y' referenced before assignment"
     ]
    },
    {
     "data": {
      "image/png": "[encoded data removed]",
      "text/plain": [
       "<Figure size 432x288 with 1 Axes>"
      ]
     },
     "metadata": {
      "needs_background": "light"
     },
     "output_type": "display_data"
    }
   ],
   "source": [
    "import matplotlib.pyplot as plt\n",
    "import math\n",
    "plt.title(\"Bezier curve algorithm\")\n",
    "plt.xlabel(\"x axis\")\n",
    "plt.ylabel(\"y axis\")\n",
    "plt.axis('equal')\n",
    "\n",
    "\n",
    "\n",
    "\n",
    "def curveCreation(x0,y0,x1,y1,x2,y2, x3, y3, x4, y4, x5, y5, x6, y6, x7, y7):\n",
    "    xCoordinates = [x0]\n",
    "    yCoordinates = [y0]\n",
    "    t = 0\n",
    "    ts = 0.001\n",
    "    \n",
    "    \n",
    "    \n",
    "    \n",
    "    \n",
    "    while t <= 1:\n",
    "        B0 = (1-t)*(1-t)*(1-t)*(1-t)*(1-t)*(1-t)*(1-t)\n",
    "        B1 = 7*t*(1-t)*(1-t)*(1-t)*(1-t)*(1-t)*(1-t)\n",
    "        B2 = 21 * t*t*(1-t)*(1-t)*(1-t)*(1-t)*(1-t)\n",
    "        B3 = 70*t*t*t*(1-t)*(1-t)*(1-t)*(1-t)\n",
    "        B4 = 70*t*t*t*t*(1-t)*(1-t)*(1-t)\n",
    "        B5 = 21*t*t*t*t*t*(1-t)*(1-t)\n",
    "        B6 = 7*t*t*t*t*t*t*(1-t)\n",
    "        B7 = t*t*t*t*t*t*t\n",
    "        \n",
    "        x = int(x0*B0 + x1*B1 + x2*B2 + x3*B3 + x4*B4 + x5*B5 + x6*B6 + x7*B7)\n",
    "        y = int(y0*B0 + y1*B1 + y2*B2 + y3*B3 + y4*B4 + y5*y5 + y*B6 + y7*B7)\n",
    "        \n",
    "        t=t+ts\n",
    "        \n",
    "        xCoordinates.append(x)\n",
    "        yCoordinates.append(y)\n",
    "        \n",
    "    plt.plot(xCoordinates, yCoordinates)\n",
    "                  \n",
    "        \n",
    "    return \n",
    "\n",
    "\n",
    "\n",
    "\n",
    "         \n",
    "                \n",
    "#circle\n",
    "curveCreation (500, 600, 300, 800, 100, 600, 300, 400, 500, 600, 400, 100, 200, 70, 110, 300)\n",
    "\n",
    "\n",
    "plt.show()\n",
    "  \n",
    "\n",
    "\n"
   ]
  },
  {
   "cell_type": "markdown",
   "metadata": {},
   "source": [
    "https://screenrec.com/share/RNaz5mnvMp\n"
   ]
  },
  {
   "cell_type": "code",
   "execution_count": null,
   "metadata": {},
   "outputs": [],
   "source": []
  }
 ],
 "metadata": {
  "kernelspec": {
   "display_name": "Python 3",
   "language": "python",
   "name": "python3"
  },
  "language_info": {
   "codemirror_mode": {
    "name": "ipython",
    "version": 3
   },
   "file_extension": ".py",
   "mimetype": "text/x-python",
   "name": "python",
   "nbconvert_exporter": "python",
   "pygments_lexer": "ipython3",
   "version": "3.7.6"
  }
 },
 "nbformat": 4,
 "nbformat_minor": 4
}
