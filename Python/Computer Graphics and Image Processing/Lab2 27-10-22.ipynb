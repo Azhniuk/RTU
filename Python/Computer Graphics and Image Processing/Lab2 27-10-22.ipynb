{
 "cells": [
  {
   "cell_type": "markdown",
   "metadata": {},
   "source": [
    "# RIGA  TECHNICAL UNIVERSITY\n",
    "### FACULTY OF COMPUTER SCIENCE AND INFORMATION TECHNOLOGY\n",
    "### Fundamentals of Computer Graphics and Image Processing\n",
    "### Practical Work Nr.2 Bezier curve algorithm\n",
    "# Name, Surname: Azhniuk Sofiia\n",
    "# Student ID:221ADB207\n",
    "## Group 1, Variant 207  (Number 9 with 8 control points)\n",
    " \n",
    "\n",
    "\n",
    "Draw a single digit with one or more Bezier curves (based on the variant).\n",
    "\n",
    "The variant number corresponds to the last 3 digits of the student ID number. Possible variations:\n",
    "\n",
    "number (3, 6, 8, 9),\n",
    "amount of points (4-8 control points).\n",
    "\n",
    "\n",
    "For example, if the last 3 digits of your student ID number are 154, then you must select variant 154 from the list of variant. The first column in the list of variants shows the number that needs to be drawn with Bezier curves and the second column shows how many control points the drawn Bezier curves should consist of.\n"
   ]
  },
  {
   "cell_type": "code",
   "execution_count": 6,
   "metadata": {},
   "outputs": [
    {
     "data": {
      "image/png": "[encoded data removed]",
      "text/plain": [
       "<Figure size 432x288 with 1 Axes>"
      ]
     },
     "metadata": {
      "needs_background": "light"
     },
     "output_type": "display_data"
    }
   ],
   "source": [
    "import matplotlib.pyplot as plt\n",
    "import math\n",
    "plt.title(\"Bezier curve algorithm\")\n",
    "plt.xlabel(\"x axis\")\n",
    "plt.ylabel(\"y axis\")\n",
    "plt.axis('equal')\n",
    "\n",
    "\n",
    "\n",
    "\n",
    "def curveCreation(x0,y0,x1,y1,x2,y2):\n",
    "    xCoordinates = [x0]\n",
    "    yCoordinates = [y0]\n",
    "    t = 0\n",
    "    ts = 0.001\n",
    "    \n",
    "    while t <= 1:\n",
    "        B0 = (1-t) * (1-t)\n",
    "        B1 = 2 * (1-t) * t \n",
    "        B2 = t * t\n",
    "        \n",
    "        x = int(x0*B0 + x1*B1 + x2*B2)\n",
    "        y = int(y0*B0 + y1*B1 + y2*B2)\n",
    "        \n",
    "        t=t+ts\n",
    "        \n",
    "        xCoordinates.append(x)\n",
    "        yCoordinates.append(y)\n",
    "        \n",
    "    plt.plot(xCoordinates, yCoordinates)\n",
    "                  \n",
    "        \n",
    "    return \n",
    "\n",
    "\n",
    "\n",
    "\n",
    "         \n",
    "                \n",
    "#circle\n",
    "curveCreation (500, 600, 500, 800, 300, 800)\n",
    "curveCreation (300, 800, 100, 800, 100, 600)\n",
    "curveCreation (100, 600, 100, 400, 300, 400)\n",
    "curveCreation (300, 400, 500, 400, 500, 600)\n",
    "\n",
    "#lower part\n",
    "curveCreation (500, 600, 500, 200, 400, 100)\n",
    "curveCreation (400, 100, 300, 0, 200, 70)\n",
    "curveCreation (200, 70, 100, 150, 110, 300)\n",
    "\n",
    "\n",
    "\n",
    "plt.show()\n",
    "  \n",
    "\n",
    "\n"
   ]
  },
  {
   "attachments": {},
   "cell_type": "markdown",
   "metadata": {},
   "source": [
    "https://screenrec.com/share/RNaz5mnvMp\n"
   ]
  },
  {
   "cell_type": "code",
   "execution_count": null,
   "metadata": {},
   "outputs": [],
   "source": []
  }
 ],
 "metadata": {
  "kernelspec": {
   "display_name": "Python 3",
   "language": "python",
   "name": "python3"
  },
  "language_info": {
   "codemirror_mode": {
    "name": "ipython",
    "version": 3
   },
   "file_extension": ".py",
   "mimetype": "text/x-python",
   "name": "python",
   "nbconvert_exporter": "python",
   "pygments_lexer": "ipython3",
   "version": "3.7.6"
  }
 },
 "nbformat": 4,
 "nbformat_minor": 4
}
