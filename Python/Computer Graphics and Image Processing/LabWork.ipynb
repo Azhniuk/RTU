{
 "cells": [
  {
   "cell_type": "raw",
   "metadata": {},
   "source": [
    "# RIGA  TECHNICAL UNIVERSITY\n",
    "### FACULTY OF COMPUTER SCIENCE AND INFORMATION TECHNOLOGY\n",
    "### Fundamentals of Computer Graphics and Image Processing\n",
    "### Practical Work Nr.2 Bezier curve algorithm\n",
    "# Name, Surname: Veronika Stsiuk\n",
    "# Student ID:221ADB092\n",
    "## Group 1, Variant 092  (3, 8)\n",
    " \n",
    "\n",
    "\n",
    "Draw a single digit with one or more Bezier curves (based on the variant).\n",
    "\n",
    "The variant number corresponds to the last 3 digits of the student ID number. Possible variations:\n",
    "\n",
    "number (3, 6, 8, 9),\n",
    "amount of points (4-8 control points).\n",
    "\n",
    "\n",
    "For example, if the last 3 digits of your student ID number are 154, then you must select variant 154 from the list of variant. The first column in the list of variants shows the number that needs to be drawn with Bezier curves and the second column shows how many control points the drawn Bezier curves should consist of.\n"
   ]
  },
  {
   "cell_type": "code",
   "execution_count": 39,
   "metadata": {},
   "outputs": [
    {
     "data": {
      "image/png": "[encoded data removed]",
      "text/plain": [
       "<Figure size 432x288 with 1 Axes>"
      ]
     },
     "metadata": {
      "needs_background": "light"
     },
     "output_type": "display_data"
    }
   ],
   "source": [
    "import matplotlib.pyplot as plt\n",
    "import math\n",
    "import numpy as np\n",
    "plt.title(\"Bezier curve algorithm\")\n",
    "plt.xlabel(\"x axis\")\n",
    "plt.ylabel(\"y axis\")\n",
    "plt.axis('equal')\n",
    "image= np.ones((650,650,3))\n",
    "\n",
    "\n",
    "\n",
    "\n",
    "def curveCreation(x0, y0,x1,y1, x2,y2, x3, y3, x4, y4, x5, y5, x6, y6, x7, y7):\n",
    "    xCoordinates = []\n",
    "    yCoordinates = []\n",
    "    t = 0\n",
    "    ts = 0.001\n",
    "    \n",
    "    #\n",
    "    \n",
    "    \n",
    "    \n",
    "    \n",
    "    while t <= 1:\n",
    "        B0 = (1-t)*(1-t)*(1-t)*(1-t)*(1-t)*(1-t)*(1-t)\n",
    "        B1 = 7*t*(1-t)*(1-t)*(1-t)*(1-t)*(1-t)*(1-t)\n",
    "        B2 = 21 * t*t*(1-t)*(1-t)*(1-t)*(1-t)*(1-t)\n",
    "        B3 = 70*t*t*t*(1-t)*(1-t)*(1-t)*(1-t)\n",
    "        B4 = 70*t*t*t*t*(1-t)*(1-t)*(1-t)\n",
    "        B5 = 21*t*t*t*t*t*(1-t)*(1-t)\n",
    "        B6 = 7*t*t*t*t*t*t*(1-t)\n",
    "        B7 = t*t*t*t*t*t*t\n",
    "        \n",
    "        x = int(x0*B0 + x1*B1 + x2*B2 + x3*B3 + x4*B4 + x5*B5 + x6*B6 + x7*B7) \n",
    "        y = int(y0*B0 + y1*B1 + y2*B2 + y3*B3 + y4*B4 + y5*y5 + y6*B6 + y7*B7)\n",
    "        \n",
    "        \n",
    "         \n",
    "        t=t+ts\n",
    "        \n",
    "        xCoordinates.append(x)\n",
    "        yCoordinates.append(y)\n",
    "        \n",
    "    plt.plot(xCoordinates, yCoordinates)\n",
    "                  \n",
    "        \n",
    "    return \n",
    "\n",
    "\n",
    "\n",
    "\n",
    "         \n",
    "curveCreation (250, 400, \n",
    "               300 ,400,\n",
    "               300, 450, \n",
    "               250, 200,\n",
    "               200, 200,\n",
    "               400, 100,\n",
    "               200, 240,\n",
    "               200, 200)\n",
    "curveCreation (200, 200, \n",
    "               300 ,175,\n",
    "               300, 250, \n",
    "               250, 0,\n",
    "               200, 0,\n",
    "               400, -100,\n",
    "               200, 0,\n",
    "               150, 50)\n",
    "\n",
    "\n",
    "plt.show()\n",
    "  \n",
    "\n",
    "\n"
   ]
  },
  {
   "attachments": {},
   "cell_type": "markdown",
   "metadata": {},
   "source": []
  },
  {
   "cell_type": "code",
   "execution_count": null,
   "metadata": {},
   "outputs": [],
   "source": []
  }
 ],
 "metadata": {
  "kernelspec": {
   "display_name": "Python 3",
   "language": "python",
   "name": "python3"
  },
  "language_info": {
   "codemirror_mode": {
    "name": "ipython",
    "version": 3
   },
   "file_extension": ".py",
   "mimetype": "text/x-python",
   "name": "python",
   "nbconvert_exporter": "python",
   "pygments_lexer": "ipython3",
   "version": "3.7.6"
  }
 },
 "nbformat": 4,
 "nbformat_minor": 4
}
