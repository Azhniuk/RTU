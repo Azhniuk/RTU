{
 "cells": [
  {
   "cell_type": "markdown",
   "id": "177a3426",
   "metadata": {},
   "source": [
    "# RIGA  TECHNICAL UNIVERSITY\n",
    "\n",
    "## FACULTY OF COMPUTER SCIENCE AND INFORMATION TECHNOLOGY\n",
    "\n",
    "\n",
    "### Fundamentals of Computer Graphics and Image Processing \n",
    "#### Practical Work Nr. X\n",
    "#### Name, Surname:\n",
    "#### Student ID:\n"
   ]
  },
  {
   "cell_type": "markdown",
   "id": "4bf39cd8",
   "metadata": {},
   "source": [
    "## TASK OF WORK\n",
    "Please input the task of work, including your variant!"
   ]
  },
  {
   "cell_type": "code",
   "execution_count": null,
   "id": "747350e3",
   "metadata": {},
   "outputs": [],
   "source": [
    "# Programming code"
   ]
  }
 ],
 "metadata": {
  "celltoolbar": "Raw Cell Format",
  "kernelspec": {
   "display_name": "Python 3 (ipykernel)",
   "language": "python",
   "name": "python3"
  },
  "language_info": {
   "codemirror_mode": {
    "name": "ipython",
    "version": 3
   },
   "file_extension": ".py",
   "mimetype": "text/x-python",
   "name": "python",
   "nbconvert_exporter": "python",
   "pygments_lexer": "ipython3",
   "version": "3.9.10"
  }
 },
 "nbformat": 4,
 "nbformat_minor": 5
}
