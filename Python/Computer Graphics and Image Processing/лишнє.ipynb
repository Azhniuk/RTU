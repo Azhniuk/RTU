{
 "cells": [
  {
   "cell_type": "code",
   "execution_count": 1,
   "metadata": {},
   "outputs": [],
   "source": [
    "import turtle\n",
    "skk = turtle.Turtle()\n",
    " \n",
    "for i in range(4):\n",
    "    skk.forward(50)\n",
    "    skk.right(90)\n",
    "     \n",
    "turtle.done()"
   ]
  },
  {
   "cell_type": "code",
   "execution_count": null,
   "metadata": {},
   "outputs": [],
   "source": []
  }
 ],
 "metadata": {
  "kernelspec": {
   "display_name": "Python 3.10.5 64-bit",
   "language": "python",
   "name": "python3"
  },
  "language_info": {
   "codemirror_mode": {
    "name": "ipython",
    "version": 3
   },
   "file_extension": ".py",
   "mimetype": "text/x-python",
   "name": "python",
   "nbconvert_exporter": "python",
   "pygments_lexer": "ipython3",
   "version": "3.10.5"
  },
  "vscode": {
   "interpreter": {
    "hash": "4cbbb0b5075369c312defcde7fa223e53f270567e4e72e119b9a6cb549eb829d"
   }
  }
 },
 "nbformat": 4,
 "nbformat_minor": 4
}
