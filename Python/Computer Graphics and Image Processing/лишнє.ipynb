{
 "cells": [
  {
   "cell_type": "code",
   "execution_count": null,
   "metadata": {},
   "outputs": [],
   "source": [
    "import turtle\n",
    "star = turtle.Turtle()\n",
    "\n",
    "star.right(75)\n",
    "star.forward(100)\n",
    "\n",
    "for i in range(4):\n",
    "    star.right(144)\n",
    "    star.forward(100)\n",
    "\n",
    "turtle.done()"
   ]
  },
  {
   "cell_type": "code",
   "execution_count": null,
   "metadata": {},
   "outputs": [],
   "source": []
  }
 ],
 "metadata": {
  "kernelspec": {
   "display_name": "Python 3",
   "language": "python",
   "name": "python3"
  },
  "language_info": {
   "codemirror_mode": {
    "name": "ipython",
    "version": 3
   },
   "file_extension": ".py",
   "mimetype": "text/x-python",
   "name": "python",
   "nbconvert_exporter": "python",
   "pygments_lexer": "ipython3",
   "version": "3.7.6"
  },
  "vscode": {
   "interpreter": {
    "hash": "4cbbb0b5075369c312defcde7fa223e53f270567e4e72e119b9a6cb549eb829d"
   }
  }
 },
 "nbformat": 4,
 "nbformat_minor": 4
}
