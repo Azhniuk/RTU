{
 "cells": [
  {
   "cell_type": "code",
   "execution_count": 8,
   "metadata": {},
   "outputs": [
    {
     "ename": "TypeError",
     "evalue": "cannot unpack non-iterable int object",
     "output_type": "error",
     "traceback": [
      "\u001b[1;31m---------------------------------------------------------------------------\u001b[0m",
      "\u001b[1;31mTypeError\u001b[0m                                 Traceback (most recent call last)",
      "\u001b[1;32m<ipython-input-8-29f228ff7447>\u001b[0m in \u001b[0;36m<module>\u001b[1;34m\u001b[0m\n\u001b[0;32m      9\u001b[0m \u001b[1;33m\u001b[0m\u001b[0m\n\u001b[0;32m     10\u001b[0m \u001b[1;33m\u001b[0m\u001b[0m\n\u001b[1;32m---> 11\u001b[1;33m \u001b[0mxBeg\u001b[0m\u001b[1;33m,\u001b[0m \u001b[0mx\u001b[0m \u001b[1;33m=\u001b[0m \u001b[1;36m0\u001b[0m\u001b[1;33m\u001b[0m\u001b[1;33m\u001b[0m\u001b[0m\n\u001b[0m\u001b[0;32m     12\u001b[0m \u001b[0myBeg\u001b[0m\u001b[1;33m,\u001b[0m \u001b[0my\u001b[0m \u001b[1;33m=\u001b[0m \u001b[1;36m0\u001b[0m\u001b[1;33m\u001b[0m\u001b[1;33m\u001b[0m\u001b[0m\n\u001b[0;32m     13\u001b[0m \u001b[0mxEnd\u001b[0m \u001b[1;33m=\u001b[0m \u001b[1;36m40\u001b[0m\u001b[1;33m\u001b[0m\u001b[1;33m\u001b[0m\u001b[0m\n",
      "\u001b[1;31mTypeError\u001b[0m: cannot unpack non-iterable int object"
     ]
    },
    {
     "data": {
      "image/png": "[encoded data removed]",
      "text/plain": [
       "<Figure size 432x288 with 1 Axes>"
      ]
     },
     "metadata": {
      "needs_background": "light"
     },
     "output_type": "display_data"
    }
   ],
   "source": [
    "import matplotlib.pyplot as plt\n",
    "import numpy as np\n",
    "\n",
    "plt.title(\"Bresenham Algorithm\")\n",
    "plt.xlabel(\"x axis\")\n",
    "plt.ylabel(\"y axis\")\n",
    "\n",
    "img=np.ones((600,900,3)) \n",
    "\n",
    "\n",
    "xBeg, x = 0\n",
    "yBeg, y = 0\n",
    "xEnd = 40\n",
    "yEnd = 40\n",
    "xCoordinates = [xBeg]\n",
    "yCoordinates = [yBeg]\n",
    "\n",
    "\n",
    "def lineCreation (xBeg, yBeg, xEnd, yEnd):\n",
    "    dx = abs(xEnd - xBeg)\n",
    "    dy = abs(yEnd - yBeg)\n",
    "    \n",
    "\n",
    "    if xBeg < xEnd :\n",
    "        xs = 1\n",
    "    else:\n",
    "        xs = -1\n",
    "\n",
    "    if yBeg < yEnd :\n",
    "        ys = 1\n",
    "    else:\n",
    "        ys = -1\n",
    "\n",
    "    if dx > dy:\n",
    "        p0 = 2*dy - dx\n",
    "        pn = p0\n",
    "        for x in range (dx):\n",
    "            xCoordinate = x + xs\n",
    "            xCoordinates.append(xCoordinate)\n",
    "        \n",
    "        for y in range (dy):\n",
    "            if pn > 0:\n",
    "                y = y + ys\n",
    "            else:\n",
    "                yCoordinates.append(y)\n",
    "                pn = pn + (2*dy)    \n",
    "\n",
    "\n",
    "\n",
    "        print(xCoordinates)\n",
    "        print(yCoordinates)\n",
    "        \n",
    "        \n",
    "\n",
    "\n",
    "\n",
    "lineCreation (xBeg, yBeg, xEnd, yEnd)\n",
    "\n",
    "plt.plot(xCoordinates, yCoordinates)\n",
    "plt.imshow(img)\n",
    "plt.show()"
   ]
  },
  {
   "cell_type": "code",
   "execution_count": null,
   "metadata": {},
   "outputs": [],
   "source": []
  }
 ],
 "metadata": {
  "kernelspec": {
   "display_name": "Python 3",
   "language": "python",
   "name": "python3"
  },
  "language_info": {
   "codemirror_mode": {
    "name": "ipython",
    "version": 3
   },
   "file_extension": ".py",
   "mimetype": "text/x-python",
   "name": "python",
   "nbconvert_exporter": "python",
   "pygments_lexer": "ipython3",
   "version": "3.7.6"
  }
 },
 "nbformat": 4,
 "nbformat_minor": 5
}
