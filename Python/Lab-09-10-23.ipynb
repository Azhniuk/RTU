{
 "cells": [
  {
   "cell_type": "code",
   "execution_count": null,
   "id": "afaadc7b",
   "metadata": {},
   "outputs": [],
   "source": [
    "for i in range(1, 100):\n",
    "    if i%5 ==0 and i%7 == 0:\n",
    "        print(\"FizzBuzz\")\n",
    "    elif i%7 ==0:\n",
    "        print(\"Buzz\")\n",
    "    elif i%5 ==0:\n",
    "        print(\"Fizz\")\n",
    "    else:\n",
    "        print(i)"
   ]
  },
  {
   "cell_type": "code",
   "execution_count": 16,
   "id": "326c6846",
   "metadata": {},
   "outputs": [
    {
     "name": "stdout",
     "output_type": "stream",
     "text": [
      " height of the Christmas tree: 6\n",
      "     *\n",
      "    ***\n",
      "   *****\n",
      "  *******\n",
      " *********\n",
      "***********\n"
     ]
    }
   ],
   "source": [
    "h = int(input(\" height of the Christmas tree: \"))\n",
    "len = 1\n",
    "    \n",
    "for i in range (0, h):\n",
    "    print (\" \" * (h - i - 1) + \"*\" * (2 * i + 1))"
   ]
  },
  {
   "cell_type": "markdown",
   "id": "680f7832",
   "metadata": {},
   "source": [
    " the second player has to guess the letter in this\n",
    "sentence... so ask for user to enter a letter;\n",
    " if the sentence contains this letter, print the sentence\n",
    "with “*” and this letter as a letter\n",
    " (2. user tries to guess only 1 letter)\n"
   ]
  },
  {
   "cell_type": "code",
   "execution_count": null,
   "id": "2f120d55",
   "metadata": {},
   "outputs": [],
   "source": [
    "h = input(\"enter a sentence: \")\n",
    "h = h.lower()\n",
    "print(h)\n",
    "a = \"\"\n",
    "for let in h:\n",
    "    if let == \" \":\n",
    "        a+=\" \"\n",
    "    else:\n",
    "        a+=\"*\"\n",
    "print(a)\n",
    "\n",
    "a = list(a)\n",
    "h = list(h)\n",
    "\n",
    "letter = input(\"enter a letter: \")\n",
    "\n",
    "if letter in h:\n",
    "    for i in range(len(a)):\n",
    "        if h[i] == letter:\n",
    "            a[i] = letter\n",
    "    a1 = \"\"\n",
    " \n",
    "    for l in a:\n",
    "        a1 += l\n",
    "    print(a1)\n",
    "        \n",
    "else:\n",
    "    print(\"Letter is not in the sentence: \")"
   ]
  },
  {
   "cell_type": "code",
   "execution_count": null,
   "id": "effbb737",
   "metadata": {},
   "outputs": [],
   "source": []
  },
  {
   "cell_type": "code",
   "execution_count": null,
   "id": "4dda2e0c",
   "metadata": {},
   "outputs": [],
   "source": []
  }
 ],
 "metadata": {
  "kernelspec": {
   "display_name": "Python 3 (ipykernel)",
   "language": "python",
   "name": "python3"
  },
  "language_info": {
   "codemirror_mode": {
    "name": "ipython",
    "version": 3
   },
   "file_extension": ".py",
   "mimetype": "text/x-python",
   "name": "python",
   "nbconvert_exporter": "python",
   "pygments_lexer": "ipython3",
   "version": "3.7.16"
  }
 },
 "nbformat": 4,
 "nbformat_minor": 5
}
