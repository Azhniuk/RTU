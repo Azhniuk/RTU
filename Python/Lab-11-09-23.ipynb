{
 "cells": [
  {
   "cell_type": "code",
   "execution_count": 6,
   "id": "dcee7a98",
   "metadata": {},
   "outputs": [
    {
     "name": "stdout",
     "output_type": "stream",
     "text": [
      "What is your username?Sofiia\n",
      "How old are you, Sofiia 80\n",
      "It is 20 years to your 100th anniversary\n"
     ]
    }
   ],
   "source": [
    "name = input(\"What is your username?\")\n",
    "age = int(input(\"How old are you, \"+name+\" \"))\n",
    "print(\"It is\", 100-age, \"years to your 100th anniversary\")"
   ]
  },
  {
   "cell_type": "code",
   "execution_count": 8,
   "id": "4d206f65",
   "metadata": {},
   "outputs": [
    {
     "name": "stdout",
     "output_type": "stream",
     "text": [
      "ROOM:\n",
      "width 3\n",
      "length 3\n",
      "heigh 3\n",
      "The volume is 27\n"
     ]
    }
   ],
   "source": [
    "print(\"ROOM:\")\n",
    "width = int(input(\"width \"))\n",
    "length = int(input(\"length \"))\n",
    "heigh = int(input(\"heigh \"))\n",
    "print(\"The volume is\", width*length*heigh)"
   ]
  },
  {
   "cell_type": "code",
   "execution_count": 11,
   "id": "890b8d03",
   "metadata": {},
   "outputs": [
    {
     "name": "stdout",
     "output_type": "stream",
     "text": [
      "Temperature in Celsius12\n",
      "53.6  - in Farenheit\n"
     ]
    }
   ],
   "source": [
    "celsium = int(input(\"Temperature in Celsius\"))\n",
    "print( 32+celsium*(9/5), \" - in Farenheit\")"
   ]
  },
  {
   "cell_type": "code",
   "execution_count": 14,
   "id": "80520f7e",
   "metadata": {},
   "outputs": [
    {
     "name": "stdout",
     "output_type": "stream",
     "text": [
      "What is your temperature: 45\n",
      "Too hot\n"
     ]
    }
   ],
   "source": [
    "t = int(input(\"What is your temperature: \"))\n",
    "if t < 35:\n",
    "    print(\"Too cold\")\n",
    "elif t > 37:\n",
    "    print(\"Too hot\")\n",
    "else:\n",
    "    print(\"everything looks good\")"
   ]
  },
  {
   "cell_type": "code",
   "execution_count": 15,
   "id": "6111f757",
   "metadata": {},
   "outputs": [
    {
     "name": "stdout",
     "output_type": "stream",
     "text": [
      "Enter 3 numbers in line4 5 3\n",
      "3 4 5\n"
     ]
    }
   ],
   "source": [
    "a, b, c= map(int, input(\"Enter 3 numbers in line\").split())\n",
    "\n",
    "if a < b and a < c:\n",
    "    if b<c:\n",
    "        print(a, b, c)\n",
    "    else:\n",
    "        print(a, c, b)\n",
    "elif b < a and b < c:\n",
    "    if a < c:\n",
    "        print(b, a, c)\n",
    "    else:\n",
    "        print(b, c, a)\n",
    "else:\n",
    "    if a < b:\n",
    "        print(c, a, b)\n",
    "    else:\n",
    "        print(c, b, a)"
   ]
  }
 ],
 "metadata": {
  "kernelspec": {
   "display_name": "Python 3 (ipykernel)",
   "language": "python",
   "name": "python3"
  },
  "language_info": {
   "codemirror_mode": {
    "name": "ipython",
    "version": 3
   },
   "file_extension": ".py",
   "mimetype": "text/x-python",
   "name": "python",
   "nbconvert_exporter": "python",
   "pygments_lexer": "ipython3",
   "version": "3.7.16"
  }
 },
 "nbformat": 4,
 "nbformat_minor": 5
}
