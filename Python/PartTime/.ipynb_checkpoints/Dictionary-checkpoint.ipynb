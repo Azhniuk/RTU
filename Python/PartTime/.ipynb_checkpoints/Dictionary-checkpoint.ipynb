{
 "cells": [
  {
   "cell_type": "code",
   "execution_count": 2,
   "id": "3bb4addc",
   "metadata": {},
   "outputs": [
    {
     "name": "stdout",
     "output_type": "stream",
     "text": [
      "Вибирай\n",
      "камінь(1) ножиці(2) папір(3)\n",
      "1\n"
     ]
    }
   ],
   "source": [
    "def ask():\n",
    "    answ = int(input(\"Вибирай\\nкамінь(1) ножиці(2) папір(3)\\n\"))\n",
    "\n",
    "    \n",
    "ask()\n"
   ]
  },
  {
   "cell_type": "markdown",
   "id": "96ab223d",
   "metadata": {},
   "source": [
    "Stack"
   ]
  },
  {
   "cell_type": "code",
   "execution_count": 4,
   "id": "d059908d",
   "metadata": {},
   "outputs": [
    {
     "name": "stdout",
     "output_type": "stream",
     "text": [
      "['word1', 'word2', 'word3']\n",
      "Stack after popped:\n",
      "['word1', 'word3']\n",
      "Final stack ['word1', 'word3', 'word4', 'word5']\n"
     ]
    }
   ],
   "source": [
    "stack = []\n",
    "stack.append('word1')\n",
    "stack.append('word2')\n",
    "stack.append('word3')\n",
    "print(stack)\n",
    "stack.pop(1)\n",
    "print('Stack after popped:')\n",
    "print(stack)\n",
    "stack.append('word4')\n",
    "stack.append('word5')\n",
    "print(\"Final stack\",stack)"
   ]
  },
  {
   "cell_type": "markdown",
   "id": "ccef0379",
   "metadata": {},
   "source": [
    "Linked list implementation"
   ]
  },
  {
   "cell_type": "code",
   "execution_count": 12,
   "id": "5c933a31",
   "metadata": {},
   "outputs": [
    {
     "name": "stdout",
     "output_type": "stream",
     "text": [
      "Main\n",
      "Next of a\n",
      "Next of b\n"
     ]
    }
   ],
   "source": [
    "class Node():\n",
    "    def __init__(self, data=None):\n",
    "        self.data = data\n",
    "        self.next = None\n",
    "        print(self.data)\n",
    "class SLL():\n",
    "    def __init__(self):\n",
    "        self.head = None\n",
    "        \n",
    "    def AddAtBeginning(self,newdata):\n",
    "        NewNode = Node(newdata)\n",
    "        \n",
    "        NewNode.next = self.head\n",
    "        self.head = NewNode\n",
    "\n",
    "\n",
    "a = SLL()\n",
    "a.head = Node(\"Main\")\n",
    "\n",
    "b = Node(\"Next of a\")\n",
    "c = Node(\"Next of b\")\n",
    "a.head.next = b\n",
    "b.next = c\n",
    "\n"
   ]
  },
  {
   "cell_type": "code",
   "execution_count": null,
   "id": "4fbe8a0c",
   "metadata": {},
   "outputs": [],
   "source": []
  },
  {
   "cell_type": "code",
   "execution_count": 1,
   "id": "0eb6cfd0",
   "metadata": {},
   "outputs": [
    {
     "name": "stdout",
     "output_type": "stream",
     "text": [
      "Adjacency list of vertex 0\n",
      " head -> 4 -> 1 \n",
      "\n",
      "Adjacency list of vertex 1\n",
      " head -> 4 -> 3 -> 2 -> 0 \n",
      "\n",
      "Adjacency list of vertex 2\n",
      " head -> 3 -> 1 \n",
      "\n",
      "Adjacency list of vertex 3\n",
      " head -> 4 -> 2 -> 1 \n",
      "\n",
      "Adjacency list of vertex 4\n",
      " head -> 3 -> 1 -> 0 \n",
      "\n"
     ]
    }
   ],
   "source": [
    "\n",
    "# A class to represent the adjacency list of the node\n",
    "class AdjNode:\n",
    "    def __init__(self, data):\n",
    "        self.vertex = data\n",
    "        self.next = None\n",
    " \n",
    " \n",
    "# A class to represent a graph. A graph\n",
    "# is the list of the adjacency lists.\n",
    "# Size of the array will be the no. of the\n",
    "# vertices \"V\"\n",
    "class Graph:\n",
    "    def __init__(self, vertices):\n",
    "        self.V = vertices\n",
    "        self.graph = [None] * self.V\n",
    " \n",
    "    # Function to add an edge in an undirected graph\n",
    "    def add_edge(self, src, dest):\n",
    "        # Adding the node to the source node\n",
    "        node = AdjNode(dest)\n",
    "        node.next = self.graph[src]\n",
    "        self.graph[src] = node\n",
    " \n",
    "        # Adding the source node to the destination as\n",
    "        # it is the undirected graph\n",
    "        node = AdjNode(src)\n",
    "        node.next = self.graph[dest]\n",
    "        self.graph[dest] = node\n",
    " \n",
    "    # Function to print the graph\n",
    "    def print_graph(self):\n",
    "        for i in range(self.V):\n",
    "            print(\"Adjacency list of vertex {}\\n head\".format(i), end=\"\")\n",
    "            temp = self.graph[i]\n",
    "            while temp:\n",
    "                print(\" -> {}\".format(temp.vertex), end=\"\")\n",
    "                temp = temp.next\n",
    "            print(\" \\n\")\n",
    " \n",
    " \n",
    "# Driver program to the above graph class\n",
    "if __name__ == \"__main__\":\n",
    "    V = 5\n",
    "    graph = Graph(V)\n",
    "    graph.add_edge(0, 1)\n",
    "    graph.add_edge(0, 4)\n",
    "    graph.add_edge(1, 2)\n",
    "    graph.add_edge(1, 3)\n",
    "    graph.add_edge(1, 4)\n",
    "    graph.add_edge(2, 3)\n",
    "    graph.add_edge(3, 4)\n",
    " \n",
    "    graph.print_graph()\n",
    " \n"
   ]
  },
  {
   "cell_type": "code",
   "execution_count": 7,
   "id": "de815813",
   "metadata": {},
   "outputs": [
    {
     "name": "stdout",
     "output_type": "stream",
     "text": [
      "Vertex 0\n",
      " -> 4 -> 1Vertex 1\n",
      " -> 2 -> 0Vertex 2\n",
      " -> 1Vertex 3\n",
      "Vertex 4\n",
      " -> 0"
     ]
    }
   ],
   "source": [
    "class AdjNode:\n",
    "    def __init__(self, data):\n",
    "        self.vertex = data\n",
    "        self.next = None\n",
    "\n",
    "class Graph:\n",
    "    def __init__(self, vertices):\n",
    "        self.V = vertices\n",
    "        self.graph = [None] * self.V\n",
    " \n",
    "    def add_edge(self, src, dest):\n",
    "        node = AdjNode(dest)\n",
    "        node.next = self.graph[src]\n",
    "        self.graph[src] = node\n",
    " \n",
    "        node = AdjNode(src)\n",
    "        node.next = self.graph[dest]\n",
    "        self.graph[dest] = node\n",
    " \n",
    "    def print_graph(self):\n",
    "        for i in range(self.V):\n",
    "            print(\" Vertex\",i)\n",
    "            temp = self.graph[i]\n",
    "            while temp:\n",
    "                print(f\" -> {temp.vertex}\", end=\"\")\n",
    "                temp = temp.next\n",
    "\n",
    "if __name__ == \"__main__\":\n",
    "    V = 5\n",
    "    graph = Graph(V)\n",
    "    graph.add_edge(0, 1)\n",
    "    graph.add_edge(0, 4)\n",
    "    graph.add_edge(1, 2)\n",
    "\n",
    "    graph.print_graph()"
   ]
  },
  {
   "cell_type": "code",
   "execution_count": null,
   "id": "d3fd9c52",
   "metadata": {},
   "outputs": [],
   "source": [
    "Double linked list"
   ]
  },
  {
   "cell_type": "code",
   "execution_count": 10,
   "id": "da613204",
   "metadata": {},
   "outputs": [
    {
     "name": "stdout",
     "output_type": "stream",
     "text": [
      "second-start first-start first-end second-end \n"
     ]
    }
   ],
   "source": [
    "class Node():\n",
    "    def __init__(self, data):\n",
    "        self.data = data\n",
    "        self.prev = None\n",
    "        self.next = None\n",
    "\n",
    "class DoublyLinkedList():\n",
    "    def __init__(self):\n",
    "        self.head = None\n",
    "\n",
    "    def is_empty(self):\n",
    "        return self.head is None\n",
    "\n",
    "    def insert_start(self, data):\n",
    "        new_node = Node(data)\n",
    "        if not self.is_empty():\n",
    "            new_node.next = self.head\n",
    "            self.head.prev = new_node\n",
    "        self.head = new_node\n",
    "\n",
    "    def insert_end(self, data):\n",
    "        new_node = Node(data)\n",
    "        if self.is_empty():\n",
    "            self.head = new_node\n",
    "        else:\n",
    "            current = self.head\n",
    "            while current.next:\n",
    "                current = current.next\n",
    "            current.next = new_node\n",
    "            new_node.prev = current\n",
    "\n",
    "\n",
    "    def display(self):\n",
    "        current = self.head\n",
    "        while current:\n",
    "            print(current.data, end=\" \")\n",
    "            current = current.next\n",
    "        print()\n",
    "\n",
    "        \n",
    "        \n",
    "dllist = DoublyLinkedList()\n",
    "\n",
    "dllist.insert_start(\"first-start\")\n",
    "dllist.insert_start(\"second-start\")\n",
    "dllist.insert_end(\"first-end\")\n",
    "dllist.insert_end(\"second-end\")\n",
    "\n",
    "dllist.display() \n",
    "\n"
   ]
  },
  {
   "cell_type": "code",
   "execution_count": null,
   "id": "bd3ae772",
   "metadata": {},
   "outputs": [],
   "source": []
  },
  {
   "cell_type": "markdown",
   "id": "013a790b",
   "metadata": {},
   "source": [
    "Circular Linked List"
   ]
  },
  {
   "cell_type": "code",
   "execution_count": 11,
   "id": "af06e892",
   "metadata": {},
   "outputs": [
    {
     "name": "stdout",
     "output_type": "stream",
     "text": [
      "2 3 4 5 \n"
     ]
    }
   ],
   "source": [
    "class Node:\n",
    "    def __init__(self, data):\n",
    "        self.data = data\n",
    "        self.next = None\n",
    "\n",
    "class CircularLinkedList:\n",
    "    def __init__(self):\n",
    "        self.head = None\n",
    "\n",
    "    def is_empty(self):\n",
    "        return self.head is None\n",
    "\n",
    "    def insert_at_beginning(self, data):\n",
    "        new_node = Node(data)\n",
    "        if self.is_empty():\n",
    "            new_node.next = new_node\n",
    "            self.head = new_node\n",
    "        else:\n",
    "            current = self.head\n",
    "            while current.next != self.head:\n",
    "                current = current.next\n",
    "            current.next = new_node\n",
    "            new_node.next = self.head\n",
    "            self.head = new_node\n",
    "\n",
    "    def insert_at_end(self, data):\n",
    "        new_node = Node(data)\n",
    "        if self.is_empty():\n",
    "            new_node.next = new_node\n",
    "            self.head = new_node\n",
    "        else:\n",
    "            current = self.head\n",
    "            while current.next != self.head:\n",
    "                current = current.next\n",
    "            current.next = new_node\n",
    "            new_node.next = self.head\n",
    "\n",
    "    def display(self):\n",
    "        if self.is_empty():\n",
    "            print(\"Circular linked list is empty.\")\n",
    "            return\n",
    "\n",
    "        current = self.head\n",
    "        while True:\n",
    "            print(current.data, end=\" \")\n",
    "            current = current.next\n",
    "            if current == self.head:\n",
    "                break\n",
    "        print()\n",
    "        \n",
    "clist = CircularLinkedList()\n",
    "\n",
    "clist.insert_at_beginning(3)\n",
    "clist.insert_at_beginning(2)\n",
    "clist.insert_at_end(4)\n",
    "clist.insert_at_end(5)\n",
    "\n",
    "clist.display()  \n"
   ]
  },
  {
   "cell_type": "code",
   "execution_count": null,
   "id": "2e9f78bd",
   "metadata": {},
   "outputs": [],
   "source": []
  },
  {
   "cell_type": "code",
   "execution_count": null,
   "id": "62759dfe",
   "metadata": {},
   "outputs": [],
   "source": []
  },
  {
   "cell_type": "code",
   "execution_count": null,
   "id": "4fa1c4e4",
   "metadata": {},
   "outputs": [],
   "source": []
  },
  {
   "cell_type": "code",
   "execution_count": null,
   "id": "f384ca86",
   "metadata": {},
   "outputs": [],
   "source": []
  }
 ],
 "metadata": {
  "kernelspec": {
   "display_name": "Python 3 (ipykernel)",
   "language": "python",
   "name": "python3"
  },
  "language_info": {
   "codemirror_mode": {
    "name": "ipython",
    "version": 3
   },
   "file_extension": ".py",
   "mimetype": "text/x-python",
   "name": "python",
   "nbconvert_exporter": "python",
   "pygments_lexer": "ipython3",
   "version": "3.7.16"
  }
 },
 "nbformat": 4,
 "nbformat_minor": 5
}
