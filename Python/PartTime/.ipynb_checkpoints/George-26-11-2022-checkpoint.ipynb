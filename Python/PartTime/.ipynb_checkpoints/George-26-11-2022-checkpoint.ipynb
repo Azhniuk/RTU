{
 "cells": [
  {
   "cell_type": "code",
   "execution_count": 11,
   "metadata": {},
   "outputs": [
    {
     "name": "stdout",
     "output_type": "stream",
     "text": [
      "row_start = 1\n",
      "row_end = 4\n",
      "column_start = 1\n",
      "column_end = 6\n",
      "  1 2 3 4 \n",
      "\n",
      "1 1 2 3 4 \n",
      "\n",
      "2 2 4 6 8 \n",
      "\n",
      "3 3 6 9 12 \n",
      "\n",
      "4 4 8 12 16 \n",
      "\n",
      "5 5 10 15 20 \n",
      "\n",
      "6 6 12 18 24 "
     ]
    }
   ],
   "source": [
    "row_start = int(input(\"row_start = \"))\n",
    "row_end = int(input(\"row_end = \"))\n",
    "column_start = int(input(\"column_start = \"))\n",
    "column_end = int(input(\"column_end = \"))\n",
    "\n",
    "\n",
    "\n",
    "def multiply(row_start, row_end, column_start, column_end):\n",
    "    r = row_start\n",
    "    c = column_start\n",
    "    \n",
    "    print(' ', end = ' ')\n",
    "    while(r <= row_end):\n",
    "        print(r, end = ' ')\n",
    "        r += 1\n",
    "    while(c <= column_end):\n",
    "        print(\"\\n\")\n",
    "        print(c, end = ' ')\n",
    "        r = row_start\n",
    "        for i in range(row_start, row_end + 1):\n",
    "            print(c*r, end = ' ')\n",
    "            r += 1\n",
    "        \n",
    "        c += 1\n",
    "        \n",
    "    \n",
    "    \n",
    "multiply(row_start, row_end, column_start, column_end)\n",
    "    "
   ]
  },
  {
   "cell_type": "code",
   "execution_count": null,
   "metadata": {},
   "outputs": [],
   "source": []
  }
 ],
 "metadata": {
  "kernelspec": {
   "display_name": "Python 3",
   "language": "python",
   "name": "python3"
  },
  "language_info": {
   "codemirror_mode": {
    "name": "ipython",
    "version": 3
   },
   "file_extension": ".py",
   "mimetype": "text/x-python",
   "name": "python",
   "nbconvert_exporter": "python",
   "pygments_lexer": "ipython3",
   "version": "3.7.6"
  }
 },
 "nbformat": 4,
 "nbformat_minor": 4
}
