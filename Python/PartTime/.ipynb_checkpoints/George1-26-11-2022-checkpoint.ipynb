{
 "cells": [
  {
   "cell_type": "code",
   "execution_count": 6,
   "metadata": {},
   "outputs": [
    {
     "name": "stdout",
     "output_type": "stream",
     "text": [
      "row_start = 2\n",
      "row_end = 4\n",
      "column_start = 4\n",
      "column_end = 5\n",
      "  [[0, 2, 3, 4], [4, 8, 12, 16], [5, 10, 15, 20]]\n"
     ]
    }
   ],
   "source": [
    "from typing import List\n",
    "\n",
    "row_start = int(input(\"row_start = \"))\n",
    "row_end = int(input(\"row_end = \"))\n",
    "column_start = int(input(\"column_start = \"))\n",
    "column_end = int(input(\"column_end = \"))\n",
    "\n",
    "\n",
    "\n",
    "\n",
    "def multiply(row_start, row_end, column_start, column_end):\n",
    "    r = row_start\n",
    "    c = column_start\n",
    "    mainList = []\n",
    "    row1 = [0]\n",
    " \n",
    "\n",
    "    \n",
    "    print(' ', end = ' ')\n",
    "    while(r <= row_end):\n",
    "        row1.append(r)\n",
    "        r += 1\n",
    "    mainList.append(row1)\n",
    "    \n",
    "    while(c <= column_end):\n",
    "        row = []\n",
    "        row.append(c)\n",
    "        r = row_start\n",
    "        for i in range(row_start, row_end + 1):\n",
    "            row.append(c*r)\n",
    "            r += 1\n",
    "        mainList.append(row)\n",
    "        c += 1\n",
    "    print(mainList)\n",
    "        \n",
    "    \n",
    "    \n",
    "multiply(row_start, row_end, column_start, column_end)\n",
    "    "
   ]
  },
  {
   "cell_type": "code",
   "execution_count": null,
   "metadata": {},
   "outputs": [],
   "source": []
  },
  {
   "cell_type": "code",
   "execution_count": null,
   "metadata": {},
   "outputs": [],
   "source": []
  }
 ],
 "metadata": {
  "kernelspec": {
   "display_name": "Python 3",
   "language": "python",
   "name": "python3"
  },
  "language_info": {
   "codemirror_mode": {
    "name": "ipython",
    "version": 3
   },
   "file_extension": ".py",
   "mimetype": "text/x-python",
   "name": "python",
   "nbconvert_exporter": "python",
   "pygments_lexer": "ipython3",
   "version": "3.7.6"
  }
 },
 "nbformat": 4,
 "nbformat_minor": 4
}
