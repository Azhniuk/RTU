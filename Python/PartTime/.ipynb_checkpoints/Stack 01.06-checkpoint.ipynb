{
 "cells": [
  {
   "cell_type": "code",
   "execution_count": 35,
   "id": "f8cd94c6",
   "metadata": {},
   "outputs": [
    {
     "name": "stdout",
     "output_type": "stream",
     "text": [
      "0 - stop, 1 - delete\n",
      "Example: Black-563\n",
      "type and number:a\n",
      "type and number:s\n",
      "type and number:0\n",
      "The stack is\n",
      "Kind Blue\n",
      "Number 234\n",
      "\n",
      "Kind Blue\n",
      "Number 234\n",
      "\n"
     ]
    }
   ],
   "source": [
    "class Vagon():\n",
    "    def __init__ (self, kind, number):\n",
    "        self.kind = kind\n",
    "        self.number = number\n",
    "class main():\n",
    "    def ask():\n",
    "        print(\"0 - stop, 1 - delete\\nExample: Black-563\")\n",
    "        answer = input(\"type and number:\")\n",
    "        stack = []\n",
    "        while answer!=\"0\":\n",
    "            if answer == \"1\":\n",
    "                stack.pop()\n",
    "            else:\n",
    "                a = answer.split(\"-\")\n",
    "                vagon = Vagon(a[0], a[1])\n",
    "                stack.append(vagon)\n",
    "            answer = input(\"type and number:\")\n",
    "        return stack\n",
    "        pass\n",
    "    def show(stack):\n",
    "        print(\"The stack is\")\n",
    "        for i in stack:\n",
    "            print(\"Kind\", i.kind)\n",
    "            print(\"Number\", i.number)\n",
    "            print()\n",
    "            \n",
    "\n",
    "stack = main.ask()\n",
    "main.show(stack)"
   ]
  },
  {
   "cell_type": "code",
   "execution_count": 12,
   "id": "8a12c0a4",
   "metadata": {},
   "outputs": [],
   "source": [
    "\n"
   ]
  },
  {
   "cell_type": "code",
   "execution_count": null,
   "id": "fd29bc7a",
   "metadata": {},
   "outputs": [],
   "source": []
  },
  {
   "cell_type": "code",
   "execution_count": null,
   "id": "ffa2a7c1",
   "metadata": {},
   "outputs": [],
   "source": []
  }
 ],
 "metadata": {
  "kernelspec": {
   "display_name": "Python 3 (ipykernel)",
   "language": "python",
   "name": "python3"
  },
  "language_info": {
   "codemirror_mode": {
    "name": "ipython",
    "version": 3
   },
   "file_extension": ".py",
   "mimetype": "text/x-python",
   "name": "python",
   "nbconvert_exporter": "python",
   "pygments_lexer": "ipython3",
   "version": "3.7.16"
  }
 },
 "nbformat": 4,
 "nbformat_minor": 5
}
