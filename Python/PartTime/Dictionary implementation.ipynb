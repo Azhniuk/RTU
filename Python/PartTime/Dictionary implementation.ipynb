{
 "cells": [
  {
   "cell_type": "code",
   "execution_count": 3,
   "id": "3bb4addc",
   "metadata": {},
   "outputs": [
    {
     "name": "stdout",
     "output_type": "stream",
     "text": [
      "камінь(1) ножиці(2) папір(3)\n",
      "1\n"
     ]
    }
   ],
   "source": [
    "def ask():\n",
    "    answ = int(input(\"Вибирай\\nкамінь(1) ножиці(2) папір(3)\\n\"))\n",
    "\n",
    "def rand():\n",
    "    p = {\"камінь\":1, \"ножиці\":2, \"папір\":3}\n",
    "    \n",
    "    \n",
    "ask()\n"
   ]
  },
  {
   "cell_type": "code",
   "execution_count": null,
   "id": "b4204a4a",
   "metadata": {},
   "outputs": [],
   "source": []
  },
  {
   "cell_type": "code",
   "execution_count": 4,
   "id": "d059908d",
   "metadata": {},
   "outputs": [
    {
     "name": "stdout",
     "output_type": "stream",
     "text": [
      "['word1', 'word2', 'word3']\n",
      "Elements popped from stack:\n",
      "Stack after popped:\n",
      "['word1', 'word2']\n",
      "Final stack ['word1', 'word2', 'word4', 'word5']\n"
     ]
    }
   ],
   "source": [
    "stack = []\n",
    "stack.append('word1')\n",
    "stack.append('word2')\n",
    "stack.append('word3')\n",
    "print(stack)\n",
    "print('Elements popped from stack:')\n",
    "stack.pop()\n",
    "print('Stack after popped:')\n",
    "print(stack)\n",
    "stack.append('word4')\n",
    "stack.append('word5')\n",
    "print(\"Final stack\",stack)"
   ]
  },
  {
   "cell_type": "markdown",
   "id": "9c8416ad",
   "metadata": {},
   "source": [
    "Linked list implementation"
   ]
  },
  {
   "cell_type": "code",
   "execution_count": 12,
   "id": "c0a50ba7",
   "metadata": {},
   "outputs": [
    {
     "name": "stdout",
     "output_type": "stream",
     "text": [
      "Main\n",
      "Next of a\n",
      "Next of b\n"
     ]
    }
   ],
   "source": [
    "class Node():\n",
    "    def __init__(self, data=None):\n",
    "        self.data = data\n",
    "        self.next = None\n",
    "        print(self.data)\n",
    "class SLL():\n",
    "    def __init__(self):\n",
    "        self.head = None\n",
    "        \n",
    "    def AddAtBeginning(self,newdata):\n",
    "        NewNode = Node(newdata)\n",
    "        \n",
    "        NewNode.next = self.head\n",
    "        self.head = NewNode\n",
    "\n",
    "\n",
    "a = SLL()\n",
    "a.head = Node(\"Main\")\n",
    "\n",
    "b = Node(\"Next of a\")\n",
    "c = Node(\"Next of b\")\n",
    "a.head.next = b\n",
    "b.next = c\n",
    "\n"
   ]
  },
  {
   "cell_type": "code",
   "execution_count": null,
   "id": "65920a90",
   "metadata": {},
   "outputs": [],
   "source": []
  },
  {
   "cell_type": "code",
   "execution_count": null,
   "id": "d42cac65",
   "metadata": {},
   "outputs": [],
   "source": []
  }
 ],
 "metadata": {
  "kernelspec": {
   "display_name": "Python 3 (ipykernel)",
   "language": "python",
   "name": "python3"
  },
  "language_info": {
   "codemirror_mode": {
    "name": "ipython",
    "version": 3
   },
   "file_extension": ".py",
   "mimetype": "text/x-python",
   "name": "python",
   "nbconvert_exporter": "python",
   "pygments_lexer": "ipython3",
   "version": "3.7.16"
  }
 },
 "nbformat": 4,
 "nbformat_minor": 5
}
