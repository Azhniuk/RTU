{
 "cells": [
  {
   "cell_type": "code",
   "execution_count": 3,
   "id": "3bb4addc",
   "metadata": {},
   "outputs": [
    {
     "name": "stdout",
     "output_type": "stream",
     "text": [
      "камінь(1) ножиці(2) папір(3)\n",
      "1\n"
     ]
    }
   ],
   "source": [
    "def ask():\n",
    "    answ = int(input(\"Вибирай\\nкамінь(1) ножиці(2) папір(3)\\n\"))\n",
    "\n",
    "def rand():\n",
    "    p = {\"камінь\":1, \"ножиці\":2, \"папір\":3}\n",
    "    \n",
    "    \n",
    "ask()\n"
   ]
  },
  {
   "cell_type": "code",
   "execution_count": null,
   "id": "b4204a4a",
   "metadata": {},
   "outputs": [],
   "source": []
  },
  {
   "cell_type": "code",
   "execution_count": null,
   "id": "d059908d",
   "metadata": {},
   "outputs": [],
   "source": []
  }
 ],
 "metadata": {
  "kernelspec": {
   "display_name": "Python 3 (ipykernel)",
   "language": "python",
   "name": "python3"
  },
  "language_info": {
   "codemirror_mode": {
    "name": "ipython",
    "version": 3
   },
   "file_extension": ".py",
   "mimetype": "text/x-python",
   "name": "python",
   "nbconvert_exporter": "python",
   "pygments_lexer": "ipython3",
   "version": "3.7.16"
  }
 },
 "nbformat": 4,
 "nbformat_minor": 5
}
