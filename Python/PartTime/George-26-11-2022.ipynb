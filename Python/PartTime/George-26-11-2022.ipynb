{
 "cells": [
  {
   "cell_type": "code",
   "execution_count": null,
   "metadata": {},
   "outputs": [],
   "source": [
    "row_start = int(input(\"row_start = \"))\n",
    "row_end = int(input(\"row_end = \"))\n",
    "column_start = input(\"column_start = \")\n",
    "column_end = input(\"column_end = \")\n",
    "\n",
    "\n",
    "\n",
    "def multiply(row_start, row_end, column_start, column_end):\n",
    "    r = row_start\n",
    "    c = column_start\n",
    "    \n",
    "    print(' ', end = ' ')\n",
    "    while(r<=row_end):\n",
    "        print(r, end = ' ')\n",
    "        ++r\n",
    "    while(c<=column_end):\n",
    "        print(c, end = ' ')\n",
    "        ++c\n",
    "        \n",
    "    \n",
    "    \n",
    "multiply(row_start, row_end, column_start, column_end)\n",
    "    "
   ]
  },
  {
   "cell_type": "markdown",
   "metadata": {},
   "source": [
    "#### "
   ]
  },
  {
   "cell_type": "code",
   "execution_count": null,
   "metadata": {},
   "outputs": [],
   "source": []
  }
 ],
 "metadata": {
  "kernelspec": {
   "display_name": "Python 3",
   "language": "python",
   "name": "python3"
  },
  "language_info": {
   "codemirror_mode": {
    "name": "ipython",
    "version": 3
   },
   "file_extension": ".py",
   "mimetype": "text/x-python",
   "name": "python",
   "nbconvert_exporter": "python",
   "pygments_lexer": "ipython3",
   "version": "3.7.6"
  }
 },
 "nbformat": 4,
 "nbformat_minor": 4
}
