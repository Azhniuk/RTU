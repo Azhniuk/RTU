{
 "cells": [
  {
   "cell_type": "code",
   "execution_count": 4,
   "metadata": {},
   "outputs": [
    {
     "ename": "NameError",
     "evalue": "name 'Turtle' is not defined",
     "output_type": "error",
     "traceback": [
      "\u001b[1;31m---------------------------------------------------------------------------\u001b[0m",
      "\u001b[1;31mNameError\u001b[0m                                 Traceback (most recent call last)",
      "\u001b[1;32mc:\\Users\\Sofiia\\Documents\\GitHub\\RTU\\Python\\PartTime\\Untitled.ipynb Cell 1\u001b[0m in \u001b[0;36m4\n\u001b[0;32m      <a href='vscode-notebook-cell:/c%3A/Users/Sofiia/Documents/GitHub/RTU/Python/PartTime/Untitled.ipynb#W0sZmlsZQ%3D%3D?line=0'>1</a>\u001b[0m \u001b[39mimport\u001b[39;00m \u001b[39mturtle\u001b[39;00m\n\u001b[1;32m----> <a href='vscode-notebook-cell:/c%3A/Users/Sofiia/Documents/GitHub/RTU/Python/PartTime/Untitled.ipynb#W0sZmlsZQ%3D%3D?line=3'>4</a>\u001b[0m t \u001b[39m=\u001b[39m Turtle()\n\u001b[0;32m      <a href='vscode-notebook-cell:/c%3A/Users/Sofiia/Documents/GitHub/RTU/Python/PartTime/Untitled.ipynb#W0sZmlsZQ%3D%3D?line=4'>5</a>\u001b[0m t\u001b[39m.\u001b[39mcolor(\u001b[39m'\u001b[39m\u001b[39mblue\u001b[39m\u001b[39m'\u001b[39m)\n\u001b[0;32m      <a href='vscode-notebook-cell:/c%3A/Users/Sofiia/Documents/GitHub/RTU/Python/PartTime/Untitled.ipynb#W0sZmlsZQ%3D%3D?line=5'>6</a>\u001b[0m t\u001b[39m.\u001b[39mexitonclick()\n",
      "\u001b[1;31mNameError\u001b[0m: name 'Turtle' is not defined"
     ]
    }
   ],
   "source": [
    "import turtle\n",
    "\n",
    "\n",
    "t = Turtle()\n",
    "t.color('blue')\n",
    "t.exitonclick()\n",
    "\n",
    "def f():\n",
    "    t.circle(90)\n",
    "\n",
    "scr = t.getscreen()\n",
    "scr.onkey(f, 'q')"
   ]
  },
  {
   "cell_type": "code",
   "execution_count": null,
   "metadata": {},
   "outputs": [],
   "source": [
    "print (\"hello\")"
   ]
  },
  {
   "cell_type": "code",
   "execution_count": null,
   "metadata": {},
   "outputs": [],
   "source": []
  }
 ],
 "metadata": {
  "kernelspec": {
   "display_name": "Python 3",
   "language": "python",
   "name": "python3"
  },
  "language_info": {
   "codemirror_mode": {
    "name": "ipython",
    "version": 3
   },
   "file_extension": ".py",
   "mimetype": "text/x-python",
   "name": "python",
   "nbconvert_exporter": "python",
   "pygments_lexer": "ipython3",
   "version": "3.10.5"
  }
 },
 "nbformat": 4,
 "nbformat_minor": 4
}
