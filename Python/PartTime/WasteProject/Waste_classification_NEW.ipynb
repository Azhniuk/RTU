{
  "nbformat": 4,
  "nbformat_minor": 0,
  "metadata": {
    "colab": {
      "provenance": [],
      "gpuType": "T4"
    },
    "kernelspec": {
      "name": "python3",
      "display_name": "Python 3"
    },
    "language_info": {
      "name": "python"
    },
    "accelerator": "GPU"
  },
  "cells": [
    {
      "cell_type": "code",
      "execution_count": 1,
      "metadata": {
        "id": "SzolceaWWDSQ"
      },
      "outputs": [],
      "source": [
        "import os\n",
        "import shutil\n",
        "import numpy as np\n",
        "import pandas as pd\n",
        "import matplotlib.pyplot as plt\n",
        "\n",
        "import tensorflow as tf\n",
        "from tensorflow.keras.preprocessing.image import ImageDataGenerator, load_img\n",
        "from tensorflow.keras.utils import to_categorical\n",
        "\n",
        "import random"
      ]
    },
    {
      "cell_type": "code",
      "source": [
        "WIDTH=150\n",
        "HEIGHT=150\n",
        "IMAGE_SIZE=(WIDTH, HEIGHT)\n",
        "IMAGE_CHANNELS=3\n",
        "batch_size = 20"
      ],
      "metadata": {
        "id": "sUygLm5JWPON"
      },
      "execution_count": 16,
      "outputs": []
    },
    {
      "cell_type": "code",
      "source": [
        "pip install py7zr"
      ],
      "metadata": {
        "id": "b-7ZVvJkWPQu",
        "colab": {
          "base_uri": "https://localhost:8080/"
        },
        "outputId": "d7caa378-fe23-4a3d-9dee-af920078cb99"
      },
      "execution_count": 3,
      "outputs": [
        {
          "output_type": "stream",
          "name": "stdout",
          "text": [
            "Collecting py7zr\n",
            "  Downloading py7zr-0.20.6-py3-none-any.whl (66 kB)\n",
            "\u001b[?25l     \u001b[90m━━━━━━━━━━━━━━━━━━━━━━━━━━━━━━━━━━━━━━━━\u001b[0m \u001b[32m0.0/66.7 kB\u001b[0m \u001b[31m?\u001b[0m eta \u001b[36m-:--:--\u001b[0m\r\u001b[2K     \u001b[90m━━━━━━━━━━━━━━━━━━━━━━━━━━━━━━━━━━━━━━━━\u001b[0m \u001b[32m66.7/66.7 kB\u001b[0m \u001b[31m2.1 MB/s\u001b[0m eta \u001b[36m0:00:00\u001b[0m\n",
            "\u001b[?25hCollecting texttable (from py7zr)\n",
            "  Downloading texttable-1.6.7-py2.py3-none-any.whl (10 kB)\n",
            "Collecting pycryptodomex>=3.6.6 (from py7zr)\n",
            "  Downloading pycryptodomex-3.18.0-cp35-abi3-manylinux_2_17_x86_64.manylinux2014_x86_64.whl (2.1 MB)\n",
            "\u001b[2K     \u001b[90m━━━━━━━━━━━━━━━━━━━━━━━━━━━━━━━━━━━━━━━━\u001b[0m \u001b[32m2.1/2.1 MB\u001b[0m \u001b[31m13.7 MB/s\u001b[0m eta \u001b[36m0:00:00\u001b[0m\n",
            "\u001b[?25hCollecting pyzstd>=0.14.4 (from py7zr)\n",
            "  Downloading pyzstd-0.15.9-cp310-cp310-manylinux_2_17_x86_64.manylinux2014_x86_64.whl (412 kB)\n",
            "\u001b[2K     \u001b[90m━━━━━━━━━━━━━━━━━━━━━━━━━━━━━━━━━━━━━━\u001b[0m \u001b[32m412.3/412.3 kB\u001b[0m \u001b[31m15.0 MB/s\u001b[0m eta \u001b[36m0:00:00\u001b[0m\n",
            "\u001b[?25hCollecting pyppmd<1.1.0,>=0.18.1 (from py7zr)\n",
            "  Downloading pyppmd-1.0.0-cp310-cp310-manylinux_2_17_x86_64.manylinux2014_x86_64.whl (138 kB)\n",
            "\u001b[2K     \u001b[90m━━━━━━━━━━━━━━━━━━━━━━━━━━━━━━━━━━━━━━\u001b[0m \u001b[32m138.8/138.8 kB\u001b[0m \u001b[31m17.4 MB/s\u001b[0m eta \u001b[36m0:00:00\u001b[0m\n",
            "\u001b[?25hCollecting pybcj>=0.6.0 (from py7zr)\n",
            "  Downloading pybcj-1.0.1-cp310-cp310-manylinux_2_17_x86_64.manylinux2014_x86_64.whl (49 kB)\n",
            "\u001b[2K     \u001b[90m━━━━━━━━━━━━━━━━━━━━━━━━━━━━━━━━━━━━━━━━\u001b[0m \u001b[32m49.8/49.8 kB\u001b[0m \u001b[31m6.7 MB/s\u001b[0m eta \u001b[36m0:00:00\u001b[0m\n",
            "\u001b[?25hCollecting multivolumefile>=0.2.3 (from py7zr)\n",
            "  Downloading multivolumefile-0.2.3-py3-none-any.whl (17 kB)\n",
            "Collecting brotli>=1.0.9 (from py7zr)\n",
            "  Downloading Brotli-1.1.0-cp310-cp310-manylinux_2_5_x86_64.manylinux1_x86_64.manylinux_2_12_x86_64.manylinux2010_x86_64.whl (3.0 MB)\n",
            "\u001b[2K     \u001b[90m━━━━━━━━━━━━━━━━━━━━━━━━━━━━━━━━━━━━━━━━\u001b[0m \u001b[32m3.0/3.0 MB\u001b[0m \u001b[31m26.9 MB/s\u001b[0m eta \u001b[36m0:00:00\u001b[0m\n",
            "\u001b[?25hCollecting inflate64>=0.3.1 (from py7zr)\n",
            "  Downloading inflate64-0.3.1-cp310-cp310-manylinux_2_17_x86_64.manylinux2014_x86_64.whl (93 kB)\n",
            "\u001b[2K     \u001b[90m━━━━━━━━━━━━━━━━━━━━━━━━━━━━━━━━━━━━━━━━\u001b[0m \u001b[32m93.1/93.1 kB\u001b[0m \u001b[31m13.3 MB/s\u001b[0m eta \u001b[36m0:00:00\u001b[0m\n",
            "\u001b[?25hRequirement already satisfied: psutil in /usr/local/lib/python3.10/dist-packages (from py7zr) (5.9.5)\n",
            "Installing collected packages: texttable, brotli, pyzstd, pyppmd, pycryptodomex, pybcj, multivolumefile, inflate64, py7zr\n",
            "Successfully installed brotli-1.1.0 inflate64-0.3.1 multivolumefile-0.2.3 py7zr-0.20.6 pybcj-1.0.1 pycryptodomex-3.18.0 pyppmd-1.0.0 pyzstd-0.15.9 texttable-1.6.7\n"
          ]
        }
      ]
    },
    {
      "cell_type": "code",
      "source": [
        "from google.colab import drive\n",
        "drive.mount('/content/drive')"
      ],
      "metadata": {
        "colab": {
          "base_uri": "https://localhost:8080/"
        },
        "id": "h4_Rop6HWPVF",
        "outputId": "89ae2389-176a-4bdb-9c7a-97c789446b5f"
      },
      "execution_count": 4,
      "outputs": [
        {
          "output_type": "stream",
          "name": "stdout",
          "text": [
            "Mounted at /content/drive\n"
          ]
        }
      ]
    },
    {
      "cell_type": "code",
      "source": [
        "import py7zr\n",
        "\n",
        "# with ZipFile('../content/drive/MyDrive/GlassMetal.zip', 'r') as zip:\n",
        "#     zip.extractall()\n",
        "\n",
        "\n",
        "with py7zr.SevenZipFile('../content/drive/MyDrive/UnSortedWaste.7z', mode='r') as z:\n",
        "     z.extractall()\n"
      ],
      "metadata": {
        "id": "_P-Qk3vdWPYk"
      },
      "execution_count": 5,
      "outputs": []
    },
    {
      "cell_type": "code",
      "source": [
        "path =  \"../content/UnSortedWaste\"\n",
        "train_dir = os.path.join(path, \"train\")\n",
        "validation_dir = os.path.join(path, \"validation\")\n",
        "filenames = os.listdir(path)"
      ],
      "metadata": {
        "id": "5h2GK4yH-QON"
      },
      "execution_count": 6,
      "outputs": []
    },
    {
      "cell_type": "code",
      "source": [
        "#delete dirs\n",
        "# shutil.rmtree( train_dir )\n",
        "# shutil.rmtree( validation_dir )\n",
        "\n"
      ],
      "metadata": {
        "id": "Fv68OnHkhvZZ"
      },
      "execution_count": null,
      "outputs": []
    },
    {
      "cell_type": "code",
      "source": [
        "labels = [\"cardboard\", \"glass\", \"metal\", \"plastic\", \"trash\", \"paper\"]\n",
        "labels.sort()\n",
        "\n",
        "os.makedirs(train_dir)\n",
        "os.makedirs(validation_dir)\n",
        "\n",
        "for label in labels:\n",
        "  os.makedirs(os.path.join(train_dir, label))\n",
        "  os.makedirs(os.path.join(validation_dir, label))\n"
      ],
      "metadata": {
        "id": "vTujocY8hCuI"
      },
      "execution_count": 7,
      "outputs": []
    },
    {
      "cell_type": "code",
      "source": [
        "df = pd.DataFrame(data=filenames, columns=['file_name'])\n",
        "total_train, total_validate = 0, 0\n",
        "\n",
        "df['label'] = df['file_name'].apply(lambda x: \"cardboard\" if x[:3]=='car'\n",
        "                                    else 'glass' if x[:3]=='gla'\n",
        "                                    else \"metal\" if x[:3]=='met'\n",
        "                                    else \"paper\" if x[:3]=='pap'\n",
        "                                    else \"plastic\" if x[:3]==\"pla\"\n",
        "                                    else \"trash\")\n",
        "\n",
        "\n",
        "for label in df['label'].unique():\n",
        "    files = df[df['label']==label]['file_name']\n",
        "    train = np.random.choice(files, size=int(len(files)*0.8))\n",
        "    test = [_ for _ in files if not (_ in train)]\n",
        "    print(label, len(files), len(train), len(test))\n",
        "    total_train += len(train)\n",
        "    total_validate += len(test)\n",
        "\n",
        "    for file in train:\n",
        "      shutil.copyfile(os.path.join(path, file),\n",
        "                     os.path.join(train_dir, label, file))\n",
        "\n",
        "    for file in test:\n",
        "      shutil.copyfile(os.path.join(path, file),\n",
        "                     os.path.join(validation_dir, label, file))\n"
      ],
      "metadata": {
        "id": "meYpDAH7WPbL",
        "colab": {
          "base_uri": "https://localhost:8080/"
        },
        "outputId": "4d61ef93-b730-4404-d9aa-842253f3c8c9"
      },
      "execution_count": 8,
      "outputs": [
        {
          "output_type": "stream",
          "name": "stdout",
          "text": [
            "glass 501 400 223\n",
            "metal 410 328 189\n",
            "plastic 482 385 205\n",
            "cardboard 403 322 178\n",
            "paper 594 475 255\n",
            "trash 137 109 71\n"
          ]
        }
      ]
    },
    {
      "cell_type": "code",
      "source": [
        "model = tf.keras.models.Sequential([\n",
        "    tf.keras.layers.Conv2D(16, (2,2), activation='relu', input_shape=(WIDTH, HEIGHT, IMAGE_CHANNELS)),\n",
        "    tf.keras.layers.MaxPooling2D(2, 2),\n",
        "\n",
        "    tf.keras.layers.Conv2D(32, (2,2), activation='relu'),\n",
        "    tf.keras.layers.MaxPooling2D(2,2),\n",
        "    tf.keras.layers.BatchNormalization(),\n",
        "\n",
        "    tf.keras.layers.Conv2D(64, (2,2), activation='relu'),\n",
        "    tf.keras.layers.MaxPooling2D(2,2),\n",
        "    tf.keras.layers.Dropout(0.1),\n",
        "\n",
        "    tf.keras.layers.Conv2D(128, (2,2), activation='relu'),\n",
        "    tf.keras.layers.MaxPooling2D(2,2),\n",
        "\n",
        "    tf.keras.layers.Conv2D(256, (2,2), activation='relu'),\n",
        "    tf.keras.layers.MaxPooling2D(2,2),\n",
        "\n",
        "    tf.keras.layers.Flatten(),\n",
        "    tf.keras.layers.Dense(512, activation='relu'),\n",
        "    tf.keras.layers.Dense(6, activation='softmax')#6 classes\n",
        "\n",
        "])\n",
        "model.summary()"
      ],
      "metadata": {
        "id": "Rg3--psnkSPt",
        "colab": {
          "base_uri": "https://localhost:8080/"
        },
        "outputId": "b4649fac-8f9c-43ae-d712-ae751023993a"
      },
      "execution_count": 32,
      "outputs": [
        {
          "output_type": "stream",
          "name": "stdout",
          "text": [
            "Model: \"sequential_3\"\n",
            "_________________________________________________________________\n",
            " Layer (type)                Output Shape              Param #   \n",
            "=================================================================\n",
            " conv2d_15 (Conv2D)          (None, 149, 149, 16)      208       \n",
            "                                                                 \n",
            " max_pooling2d_15 (MaxPooli  (None, 74, 74, 16)        0         \n",
            " ng2D)                                                           \n",
            "                                                                 \n",
            " conv2d_16 (Conv2D)          (None, 73, 73, 32)        2080      \n",
            "                                                                 \n",
            " max_pooling2d_16 (MaxPooli  (None, 36, 36, 32)        0         \n",
            " ng2D)                                                           \n",
            "                                                                 \n",
            " batch_normalization_4 (Bat  (None, 36, 36, 32)        128       \n",
            " chNormalization)                                                \n",
            "                                                                 \n",
            " conv2d_17 (Conv2D)          (None, 35, 35, 64)        8256      \n",
            "                                                                 \n",
            " max_pooling2d_17 (MaxPooli  (None, 17, 17, 64)        0         \n",
            " ng2D)                                                           \n",
            "                                                                 \n",
            " dropout_5 (Dropout)         (None, 17, 17, 64)        0         \n",
            "                                                                 \n",
            " conv2d_18 (Conv2D)          (None, 16, 16, 128)       32896     \n",
            "                                                                 \n",
            " max_pooling2d_18 (MaxPooli  (None, 8, 8, 128)         0         \n",
            " ng2D)                                                           \n",
            "                                                                 \n",
            " conv2d_19 (Conv2D)          (None, 7, 7, 256)         131328    \n",
            "                                                                 \n",
            " max_pooling2d_19 (MaxPooli  (None, 3, 3, 256)         0         \n",
            " ng2D)                                                           \n",
            "                                                                 \n",
            " flatten_3 (Flatten)         (None, 2304)              0         \n",
            "                                                                 \n",
            " dense_6 (Dense)             (None, 512)               1180160   \n",
            "                                                                 \n",
            " dense_7 (Dense)             (None, 6)                 3078      \n",
            "                                                                 \n",
            "=================================================================\n",
            "Total params: 1358134 (5.18 MB)\n",
            "Trainable params: 1358070 (5.18 MB)\n",
            "Non-trainable params: 64 (256.00 Byte)\n",
            "_________________________________________________________________\n"
          ]
        }
      ]
    },
    {
      "cell_type": "code",
      "source": [
        "\n",
        "from tensorflow.keras.optimizers import RMSprop\n",
        "model.compile(optimizer=RMSprop(learning_rate=0.001),\n",
        "              loss='mse',\n",
        "              metrics = ['accuracy'])"
      ],
      "metadata": {
        "id": "sXYpQ3spkSUy"
      },
      "execution_count": 33,
      "outputs": []
    },
    {
      "cell_type": "code",
      "source": [
        "from tensorflow.keras.preprocessing.image import ImageDataGenerator\n",
        "\n",
        "train_datagen = ImageDataGenerator( rescale = 1.0/255. ,\n",
        "                                   rotation_range=40,\n",
        "      width_shift_range=0.2,\n",
        "      height_shift_range=0.2,\n",
        "      shear_range=0.2,\n",
        "      zoom_range=0.2,\n",
        "      horizontal_flip=True,\n",
        "      fill_mode='nearest')\n",
        "test_datagen  = ImageDataGenerator( rescale = 1.0/255. )\n"
      ],
      "metadata": {
        "id": "0n97SH_jkSY2"
      },
      "execution_count": 34,
      "outputs": []
    },
    {
      "cell_type": "code",
      "source": [
        "train_generator = train_datagen.flow_from_directory(train_dir,\n",
        "                                                    batch_size=batch_size,\n",
        "                                                    class_mode='categorical',\n",
        "                                                    target_size=IMAGE_SIZE )\n",
        "\n",
        "validation_generator =  test_datagen.flow_from_directory(validation_dir,\n",
        "                                                         batch_size=batch_size,\n",
        "                                                         class_mode  = 'categorical',\n",
        "                                                         target_size = IMAGE_SIZE)"
      ],
      "metadata": {
        "id": "h61Y5yldpxRS",
        "colab": {
          "base_uri": "https://localhost:8080/"
        },
        "outputId": "4bfc62e5-5553-4c9f-ee31-50ada6df990a"
      },
      "execution_count": 35,
      "outputs": [
        {
          "output_type": "stream",
          "name": "stdout",
          "text": [
            "Found 1406 images belonging to 6 classes.\n",
            "Found 1121 images belonging to 6 classes.\n"
          ]
        }
      ]
    },
    {
      "cell_type": "code",
      "source": [
        "from tensorflow.keras.callbacks import EarlyStopping, LearningRateScheduler\n",
        "earlystop = EarlyStopping(patience=8,restore_best_weights=True)\n"
      ],
      "metadata": {
        "id": "NUKEP6U0N_cc"
      },
      "execution_count": 36,
      "outputs": []
    },
    {
      "cell_type": "code",
      "source": [
        "history = model.fit(\n",
        "            train_generator,\n",
        "            epochs=60,\n",
        "            validation_data=validation_generator,\n",
        "            verbose=2,\n",
        "            callbacks=[earlystop]\n",
        "            )"
      ],
      "metadata": {
        "id": "LEVPh8MwpxUJ",
        "colab": {
          "base_uri": "https://localhost:8080/"
        },
        "outputId": "dd81c2ce-3efb-4e5e-ce12-7cbec2ae3030"
      },
      "execution_count": 37,
      "outputs": [
        {
          "output_type": "stream",
          "name": "stdout",
          "text": [
            "Epoch 1/60\n",
            "71/71 - 15s - loss: 0.1281 - accuracy: 0.3656 - val_loss: 0.1365 - val_accuracy: 0.2275 - 15s/epoch - 205ms/step\n",
            "Epoch 2/60\n",
            "71/71 - 10s - loss: 0.1123 - accuracy: 0.4595 - val_loss: 0.1345 - val_accuracy: 0.3568 - 10s/epoch - 146ms/step\n",
            "Epoch 3/60\n",
            "71/71 - 12s - loss: 0.1060 - accuracy: 0.4972 - val_loss: 0.1300 - val_accuracy: 0.4550 - 12s/epoch - 166ms/step\n",
            "Epoch 4/60\n",
            "71/71 - 12s - loss: 0.1029 - accuracy: 0.5164 - val_loss: 0.1247 - val_accuracy: 0.5165 - 12s/epoch - 168ms/step\n",
            "Epoch 5/60\n",
            "71/71 - 11s - loss: 0.0974 - accuracy: 0.5491 - val_loss: 0.1199 - val_accuracy: 0.4657 - 11s/epoch - 156ms/step\n",
            "Epoch 6/60\n",
            "71/71 - 12s - loss: 0.0958 - accuracy: 0.5533 - val_loss: 0.1040 - val_accuracy: 0.5379 - 12s/epoch - 169ms/step\n",
            "Epoch 7/60\n",
            "71/71 - 11s - loss: 0.0932 - accuracy: 0.5676 - val_loss: 0.1059 - val_accuracy: 0.5138 - 11s/epoch - 160ms/step\n",
            "Epoch 8/60\n",
            "71/71 - 10s - loss: 0.0904 - accuracy: 0.5982 - val_loss: 0.1061 - val_accuracy: 0.5022 - 10s/epoch - 137ms/step\n",
            "Epoch 9/60\n",
            "71/71 - 11s - loss: 0.0862 - accuracy: 0.6273 - val_loss: 0.0889 - val_accuracy: 0.6111 - 11s/epoch - 161ms/step\n",
            "Epoch 10/60\n",
            "71/71 - 12s - loss: 0.0878 - accuracy: 0.6131 - val_loss: 0.0969 - val_accuracy: 0.5468 - 12s/epoch - 163ms/step\n",
            "Epoch 11/60\n",
            "71/71 - 10s - loss: 0.0834 - accuracy: 0.6259 - val_loss: 0.0811 - val_accuracy: 0.6378 - 10s/epoch - 140ms/step\n",
            "Epoch 12/60\n",
            "71/71 - 11s - loss: 0.0806 - accuracy: 0.6501 - val_loss: 0.0957 - val_accuracy: 0.5691 - 11s/epoch - 150ms/step\n",
            "Epoch 13/60\n",
            "71/71 - 12s - loss: 0.0779 - accuracy: 0.6550 - val_loss: 0.0908 - val_accuracy: 0.5870 - 12s/epoch - 163ms/step\n",
            "Epoch 14/60\n",
            "71/71 - 11s - loss: 0.0778 - accuracy: 0.6536 - val_loss: 0.0966 - val_accuracy: 0.5923 - 11s/epoch - 160ms/step\n",
            "Epoch 15/60\n",
            "71/71 - 12s - loss: 0.0766 - accuracy: 0.6529 - val_loss: 0.0787 - val_accuracy: 0.6530 - 12s/epoch - 176ms/step\n",
            "Epoch 16/60\n",
            "71/71 - 12s - loss: 0.0754 - accuracy: 0.6686 - val_loss: 0.0876 - val_accuracy: 0.5932 - 12s/epoch - 175ms/step\n",
            "Epoch 17/60\n",
            "71/71 - 12s - loss: 0.0744 - accuracy: 0.6735 - val_loss: 0.1177 - val_accuracy: 0.5103 - 12s/epoch - 163ms/step\n",
            "Epoch 18/60\n",
            "71/71 - 10s - loss: 0.0720 - accuracy: 0.6807 - val_loss: 0.1060 - val_accuracy: 0.5308 - 10s/epoch - 136ms/step\n",
            "Epoch 19/60\n",
            "71/71 - 12s - loss: 0.0706 - accuracy: 0.6863 - val_loss: 0.0779 - val_accuracy: 0.6450 - 12s/epoch - 163ms/step\n",
            "Epoch 20/60\n",
            "71/71 - 12s - loss: 0.0696 - accuracy: 0.6920 - val_loss: 0.1033 - val_accuracy: 0.5254 - 12s/epoch - 163ms/step\n",
            "Epoch 21/60\n",
            "71/71 - 13s - loss: 0.0690 - accuracy: 0.6963 - val_loss: 0.0976 - val_accuracy: 0.5763 - 13s/epoch - 177ms/step\n",
            "Epoch 22/60\n",
            "71/71 - 11s - loss: 0.0678 - accuracy: 0.6991 - val_loss: 0.0769 - val_accuracy: 0.6646 - 11s/epoch - 158ms/step\n",
            "Epoch 23/60\n",
            "71/71 - 10s - loss: 0.0664 - accuracy: 0.7155 - val_loss: 0.0792 - val_accuracy: 0.6512 - 10s/epoch - 137ms/step\n",
            "Epoch 24/60\n",
            "71/71 - 11s - loss: 0.0664 - accuracy: 0.7155 - val_loss: 0.0865 - val_accuracy: 0.6164 - 11s/epoch - 161ms/step\n",
            "Epoch 25/60\n",
            "71/71 - 12s - loss: 0.0638 - accuracy: 0.7240 - val_loss: 0.0812 - val_accuracy: 0.6530 - 12s/epoch - 162ms/step\n",
            "Epoch 26/60\n",
            "71/71 - 12s - loss: 0.0629 - accuracy: 0.7269 - val_loss: 0.1284 - val_accuracy: 0.4630 - 12s/epoch - 164ms/step\n",
            "Epoch 27/60\n",
            "71/71 - 11s - loss: 0.0617 - accuracy: 0.7361 - val_loss: 0.0986 - val_accuracy: 0.5941 - 11s/epoch - 148ms/step\n",
            "Epoch 28/60\n",
            "71/71 - 13s - loss: 0.0605 - accuracy: 0.7340 - val_loss: 0.0731 - val_accuracy: 0.6967 - 13s/epoch - 190ms/step\n",
            "Epoch 29/60\n",
            "71/71 - 11s - loss: 0.0590 - accuracy: 0.7447 - val_loss: 0.0673 - val_accuracy: 0.7145 - 11s/epoch - 151ms/step\n",
            "Epoch 30/60\n",
            "71/71 - 11s - loss: 0.0598 - accuracy: 0.7418 - val_loss: 0.0767 - val_accuracy: 0.6628 - 11s/epoch - 160ms/step\n",
            "Epoch 31/60\n",
            "71/71 - 11s - loss: 0.0608 - accuracy: 0.7397 - val_loss: 0.0834 - val_accuracy: 0.6503 - 11s/epoch - 158ms/step\n",
            "Epoch 32/60\n",
            "71/71 - 10s - loss: 0.0550 - accuracy: 0.7632 - val_loss: 0.0808 - val_accuracy: 0.6682 - 10s/epoch - 135ms/step\n",
            "Epoch 33/60\n",
            "71/71 - 12s - loss: 0.0548 - accuracy: 0.7653 - val_loss: 0.0831 - val_accuracy: 0.6566 - 12s/epoch - 162ms/step\n",
            "Epoch 34/60\n",
            "71/71 - 11s - loss: 0.0549 - accuracy: 0.7667 - val_loss: 0.0828 - val_accuracy: 0.6476 - 11s/epoch - 159ms/step\n",
            "Epoch 35/60\n",
            "71/71 - 11s - loss: 0.0543 - accuracy: 0.7639 - val_loss: 0.0659 - val_accuracy: 0.7261 - 11s/epoch - 150ms/step\n",
            "Epoch 36/60\n",
            "71/71 - 11s - loss: 0.0534 - accuracy: 0.7696 - val_loss: 0.0917 - val_accuracy: 0.6137 - 11s/epoch - 161ms/step\n",
            "Epoch 37/60\n",
            "71/71 - 14s - loss: 0.0518 - accuracy: 0.7795 - val_loss: 0.0700 - val_accuracy: 0.7056 - 14s/epoch - 195ms/step\n",
            "Epoch 38/60\n",
            "71/71 - 11s - loss: 0.0544 - accuracy: 0.7696 - val_loss: 0.0756 - val_accuracy: 0.6762 - 11s/epoch - 153ms/step\n",
            "Epoch 39/60\n",
            "71/71 - 10s - loss: 0.0548 - accuracy: 0.7710 - val_loss: 0.0839 - val_accuracy: 0.6351 - 10s/epoch - 141ms/step\n",
            "Epoch 40/60\n",
            "71/71 - 12s - loss: 0.0518 - accuracy: 0.7795 - val_loss: 0.0986 - val_accuracy: 0.5959 - 12s/epoch - 162ms/step\n",
            "Epoch 41/60\n",
            "71/71 - 11s - loss: 0.0495 - accuracy: 0.7817 - val_loss: 0.0727 - val_accuracy: 0.6780 - 11s/epoch - 161ms/step\n",
            "Epoch 42/60\n",
            "71/71 - 12s - loss: 0.0503 - accuracy: 0.7959 - val_loss: 0.0727 - val_accuracy: 0.7047 - 12s/epoch - 165ms/step\n",
            "Epoch 43/60\n",
            "71/71 - 11s - loss: 0.0494 - accuracy: 0.7888 - val_loss: 0.0697 - val_accuracy: 0.7083 - 11s/epoch - 149ms/step\n"
          ]
        }
      ]
    },
    {
      "cell_type": "code",
      "source": [
        "import matplotlib.pyplot as plt\n",
        "acc = history.history['accuracy']\n",
        "val_acc = history.history['val_accuracy']\n",
        "loss = history.history['loss']\n",
        "val_loss = history.history['val_loss']\n",
        "\n",
        "epochs = range(len(acc))\n",
        "\n",
        "plt.plot(epochs, acc, 'b', label='Training accuracy')\n",
        "plt.plot(epochs, val_acc, 'r', label='Validation accuracy')\n",
        "plt.title('Training and validation accuracy')\n",
        "plt.legend(loc=0)\n",
        "plt.figure()\n",
        "\n",
        "\n",
        "plt.show()"
      ],
      "metadata": {
        "id": "FvUq0iZ1pxXK",
        "colab": {
          "base_uri": "https://localhost:8080/",
          "height": 469
        },
        "outputId": "f9d5bdf2-b0fc-4268-acfe-a442d257d395"
      },
      "execution_count": 38,
      "outputs": [
        {
          "output_type": "display_data",
          "data": {
            "text/plain": [
              "<Figure size 640x480 with 1 Axes>"
            ],
            "image/png": "[encoded data removed]"
          },
          "metadata": {}
        },
        {
          "output_type": "display_data",
          "data": {
            "text/plain": [
              "<Figure size 640x480 with 0 Axes>"
            ]
          },
          "metadata": {}
        }
      ]
    },
    {
      "cell_type": "code",
      "source": [
        "loss = history.history['loss']\n",
        "val_loss = history.history['val_loss']\n",
        "\n",
        "epochs = range(len(acc))\n",
        "\n",
        "plt.plot(epochs, loss, 'b', label='Training loss')\n",
        "plt.plot(epochs, val_loss, 'r', label='Validation loss')\n",
        "plt.title('Training and validation loss')\n",
        "plt.legend(loc=0)\n",
        "plt.figure()\n",
        "\n",
        "\n",
        "plt.show()"
      ],
      "metadata": {
        "id": "-IxJCDxK792d",
        "colab": {
          "base_uri": "https://localhost:8080/",
          "height": 469
        },
        "outputId": "70347f3b-67a3-47ed-c295-0ad36b2b5f53"
      },
      "execution_count": 39,
      "outputs": [
        {
          "output_type": "display_data",
          "data": {
            "text/plain": [
              "<Figure size 640x480 with 1 Axes>"
            ],
            "image/png": "[encoded data removed]"
          },
          "metadata": {}
        },
        {
          "output_type": "display_data",
          "data": {
            "text/plain": [
              "<Figure size 640x480 with 0 Axes>"
            ]
          },
          "metadata": {}
        }
      ]
    },
    {
      "cell_type": "code",
      "source": [
        "def getMax(arr):\n",
        "    max = 0\n",
        "    for elem in arr:\n",
        "        if elem > max:\n",
        "            max = elem\n",
        "    return max"
      ],
      "metadata": {
        "id": "Ffh4B4bgpxaP"
      },
      "execution_count": 40,
      "outputs": []
    },
    {
      "cell_type": "code",
      "source": [],
      "metadata": {
        "id": "V0D9LXTwRn7-"
      },
      "execution_count": null,
      "outputs": []
    },
    {
      "cell_type": "code",
      "source": [
        "\n",
        "import numpy as np\n",
        "\n",
        "from google.colab import files\n",
        "from tensorflow.keras.utils import load_img, img_to_array\n",
        "\n",
        "uploaded=files.upload()\n",
        "\n",
        "for fn in uploaded.keys():\n",
        "\n",
        "  # predicting images\n",
        "  path='/content/' + fn\n",
        "  img=load_img(path, target_size=(150, 150))\n",
        "\n",
        "  x=img_to_array(img)\n",
        "  x /= 255\n",
        "  x=np.expand_dims(x, axis=0)\n",
        "  images = np.vstack([x])\n",
        "\n",
        "  classes = model.predict(images, batch_size=10)\n",
        "  np.set_printoptions(suppress = True)\n",
        "  # print(classes[0])\n",
        "  # print(np.argmax(classes[0]))\n",
        "\n",
        "  print(\"It is\", labels[np.argmax(classes[0])])"
      ],
      "metadata": {
        "id": "sedijYSgRn-j",
        "colab": {
          "base_uri": "https://localhost:8080/",
          "height": 246
        },
        "outputId": "d82c31db-0d12-47bc-e08e-f734959441c4"
      },
      "execution_count": 47,
      "outputs": [
        {
          "output_type": "display_data",
          "data": {
            "text/plain": [
              "<IPython.core.display.HTML object>"
            ],
            "text/html": [
              "\n",
              "     <input type=\"file\" id=\"files-ceae9cef-1956-4047-a175-51a95a368509\" name=\"files[]\" multiple disabled\n",
              "        style=\"border:none\" />\n",
              "     <output id=\"result-ceae9cef-1956-4047-a175-51a95a368509\">\n",
              "      Upload widget is only available when the cell has been executed in the\n",
              "      current browser session. Please rerun this cell to enable.\n",
              "      </output>\n",
              "      <script>// Copyright 2017 Google LLC\n",
              "//\n",
              "// Licensed under the Apache License, Version 2.0 (the \"License\");\n",
              "// you may not use this file except in compliance with the License.\n",
              "// You may obtain a copy of the License at\n",
              "//\n",
              "//      http://www.apache.org/licenses/LICENSE-2.0\n",
              "//\n",
              "// Unless required by applicable law or agreed to in writing, software\n",
              "// distributed under the License is distributed on an \"AS IS\" BASIS,\n",
              "// WITHOUT WARRANTIES OR CONDITIONS OF ANY KIND, either express or implied.\n",
              "// See the License for the specific language governing permissions and\n",
              "// limitations under the License.\n",
              "\n",
              "/**\n",
              " * @fileoverview Helpers for google.colab Python module.\n",
              " */\n",
              "(function(scope) {\n",
              "function span(text, styleAttributes = {}) {\n",
              "  const element = document.createElement('span');\n",
              "  element.textContent = text;\n",
              "  for (const key of Object.keys(styleAttributes)) {\n",
              "    element.style[key] = styleAttributes[key];\n",
              "  }\n",
              "  return element;\n",
              "}\n",
              "\n",
              "// Max number of bytes which will be uploaded at a time.\n",
              "const MAX_PAYLOAD_SIZE = 100 * 1024;\n",
              "\n",
              "function _uploadFiles(inputId, outputId) {\n",
              "  const steps = uploadFilesStep(inputId, outputId);\n",
              "  const outputElement = document.getElementById(outputId);\n",
              "  // Cache steps on the outputElement to make it available for the next call\n",
              "  // to uploadFilesContinue from Python.\n",
              "  outputElement.steps = steps;\n",
              "\n",
              "  return _uploadFilesContinue(outputId);\n",
              "}\n",
              "\n",
              "// This is roughly an async generator (not supported in the browser yet),\n",
              "// where there are multiple asynchronous steps and the Python side is going\n",
              "// to poll for completion of each step.\n",
              "// This uses a Promise to block the python side on completion of each step,\n",
              "// then passes the result of the previous step as the input to the next step.\n",
              "function _uploadFilesContinue(outputId) {\n",
              "  const outputElement = document.getElementById(outputId);\n",
              "  const steps = outputElement.steps;\n",
              "\n",
              "  const next = steps.next(outputElement.lastPromiseValue);\n",
              "  return Promise.resolve(next.value.promise).then((value) => {\n",
              "    // Cache the last promise value to make it available to the next\n",
              "    // step of the generator.\n",
              "    outputElement.lastPromiseValue = value;\n",
              "    return next.value.response;\n",
              "  });\n",
              "}\n",
              "\n",
              "/**\n",
              " * Generator function which is called between each async step of the upload\n",
              " * process.\n",
              " * @param {string} inputId Element ID of the input file picker element.\n",
              " * @param {string} outputId Element ID of the output display.\n",
              " * @return {!Iterable<!Object>} Iterable of next steps.\n",
              " */\n",
              "function* uploadFilesStep(inputId, outputId) {\n",
              "  const inputElement = document.getElementById(inputId);\n",
              "  inputElement.disabled = false;\n",
              "\n",
              "  const outputElement = document.getElementById(outputId);\n",
              "  outputElement.innerHTML = '';\n",
              "\n",
              "  const pickedPromise = new Promise((resolve) => {\n",
              "    inputElement.addEventListener('change', (e) => {\n",
              "      resolve(e.target.files);\n",
              "    });\n",
              "  });\n",
              "\n",
              "  const cancel = document.createElement('button');\n",
              "  inputElement.parentElement.appendChild(cancel);\n",
              "  cancel.textContent = 'Cancel upload';\n",
              "  const cancelPromise = new Promise((resolve) => {\n",
              "    cancel.onclick = () => {\n",
              "      resolve(null);\n",
              "    };\n",
              "  });\n",
              "\n",
              "  // Wait for the user to pick the files.\n",
              "  const files = yield {\n",
              "    promise: Promise.race([pickedPromise, cancelPromise]),\n",
              "    response: {\n",
              "      action: 'starting',\n",
              "    }\n",
              "  };\n",
              "\n",
              "  cancel.remove();\n",
              "\n",
              "  // Disable the input element since further picks are not allowed.\n",
              "  inputElement.disabled = true;\n",
              "\n",
              "  if (!files) {\n",
              "    return {\n",
              "      response: {\n",
              "        action: 'complete',\n",
              "      }\n",
              "    };\n",
              "  }\n",
              "\n",
              "  for (const file of files) {\n",
              "    const li = document.createElement('li');\n",
              "    li.append(span(file.name, {fontWeight: 'bold'}));\n",
              "    li.append(span(\n",
              "        `(${file.type || 'n/a'}) - ${file.size} bytes, ` +\n",
              "        `last modified: ${\n",
              "            file.lastModifiedDate ? file.lastModifiedDate.toLocaleDateString() :\n",
              "                                    'n/a'} - `));\n",
              "    const percent = span('0% done');\n",
              "    li.appendChild(percent);\n",
              "\n",
              "    outputElement.appendChild(li);\n",
              "\n",
              "    const fileDataPromise = new Promise((resolve) => {\n",
              "      const reader = new FileReader();\n",
              "      reader.onload = (e) => {\n",
              "        resolve(e.target.result);\n",
              "      };\n",
              "      reader.readAsArrayBuffer(file);\n",
              "    });\n",
              "    // Wait for the data to be ready.\n",
              "    let fileData = yield {\n",
              "      promise: fileDataPromise,\n",
              "      response: {\n",
              "        action: 'continue',\n",
              "      }\n",
              "    };\n",
              "\n",
              "    // Use a chunked sending to avoid message size limits. See b/62115660.\n",
              "    let position = 0;\n",
              "    do {\n",
              "      const length = Math.min(fileData.byteLength - position, MAX_PAYLOAD_SIZE);\n",
              "      const chunk = new Uint8Array(fileData, position, length);\n",
              "      position += length;\n",
              "\n",
              "      const base64 = btoa(String.fromCharCode.apply(null, chunk));\n",
              "      yield {\n",
              "        response: {\n",
              "          action: 'append',\n",
              "          file: file.name,\n",
              "          data: base64,\n",
              "        },\n",
              "      };\n",
              "\n",
              "      let percentDone = fileData.byteLength === 0 ?\n",
              "          100 :\n",
              "          Math.round((position / fileData.byteLength) * 100);\n",
              "      percent.textContent = `${percentDone}% done`;\n",
              "\n",
              "    } while (position < fileData.byteLength);\n",
              "  }\n",
              "\n",
              "  // All done.\n",
              "  yield {\n",
              "    response: {\n",
              "      action: 'complete',\n",
              "    }\n",
              "  };\n",
              "}\n",
              "\n",
              "scope.google = scope.google || {};\n",
              "scope.google.colab = scope.google.colab || {};\n",
              "scope.google.colab._files = {\n",
              "  _uploadFiles,\n",
              "  _uploadFilesContinue,\n",
              "};\n",
              "})(self);\n",
              "</script> "
            ]
          },
          "metadata": {}
        },
        {
          "output_type": "stream",
          "name": "stdout",
          "text": [
            "Saving metal.jpg to metal (3).jpg\n",
            "Saving paper1.jpg to paper1 (1).jpg\n",
            "Saving paper.jpg to paper (1).jpg\n",
            "1/1 [==============================] - 0s 18ms/step\n",
            "It is paper\n",
            "1/1 [==============================] - 0s 18ms/step\n",
            "It is paper\n",
            "1/1 [==============================] - 0s 20ms/step\n",
            "It is paper\n"
          ]
        }
      ]
    },
    {
      "cell_type": "code",
      "source": [],
      "metadata": {
        "id": "OF3JneW5YwpC"
      },
      "execution_count": 69,
      "outputs": []
    },
    {
      "cell_type": "code",
      "source": [],
      "metadata": {
        "id": "emodSw6XYwyM"
      },
      "execution_count": 69,
      "outputs": []
    },
    {
      "cell_type": "code",
      "source": [
        "labels.sort()\n",
        "print(labels)"
      ],
      "metadata": {
        "id": "xS74hcivRoEK",
        "colab": {
          "base_uri": "https://localhost:8080/"
        },
        "outputId": "d5d81eb8-13e7-482c-bafe-1be3d33d35a5"
      },
      "execution_count": 57,
      "outputs": [
        {
          "output_type": "stream",
          "name": "stdout",
          "text": [
            "['cardboard', 'glass', 'metal', 'paper', 'plastic', 'trash']\n"
          ]
        }
      ]
    }
  ]
}