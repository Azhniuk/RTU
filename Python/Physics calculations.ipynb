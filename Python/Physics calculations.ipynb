{
 "cells": [
  {
   "cell_type": "code",
   "execution_count": 1,
   "id": "6a209c77",
   "metadata": {},
   "outputs": [
    {
     "name": "stdout",
     "output_type": "stream",
     "text": [
      "d =12.045\n",
      "h =49.16\n",
      "5598.802393965\n"
     ]
    }
   ],
   "source": [
    "d = float(input(\"d =\"))\n",
    "h = float(input(\"h =\"))\n",
    "S = 3.14*d*d*h/4\n",
    "print(S)"
   ]
  },
  {
   "cell_type": "code",
   "execution_count": 2,
   "id": "2c5d5ba6",
   "metadata": {},
   "outputs": [
    {
     "name": "stdout",
     "output_type": "stream",
     "text": [
      "d =11.514\n",
      "h =48.86\n",
      "5084.819834799599\n"
     ]
    }
   ],
   "source": [
    "d = float(input(\"d =\"))\n",
    "h = float(input(\"h =\"))\n",
    "S = 3.14*d*d*h/4\n",
    "print(S)\n"
   ]
  },
  {
   "cell_type": "markdown",
   "id": "548035a2",
   "metadata": {},
   "source": [
    "# S від x\n"
   ]
  },
  {
   "cell_type": "code",
   "execution_count": 21,
   "id": "9a1f0171",
   "metadata": {},
   "outputs": [
    {
     "name": "stdout",
     "output_type": "stream",
     "text": [
      "# 0\n",
      "8.518\n",
      "# 1\n",
      "8.518\n",
      "# 2\n",
      "8.516\n",
      "# 3\n",
      "8.521\n",
      "0.0\n",
      "0.0\n",
      "4e-06\n",
      "9e-06\n",
      "0.7098333333333334\n"
     ]
    }
   ],
   "source": [
    "def ave(lst):\n",
    "    return sum(lst) / len(lst)\n",
    "\n",
    "a = []\n",
    "elem = 4 #elements\n",
    "summ = 0\n",
    "\n",
    "for i in range(0,e):\n",
    "    print(\"#\", i)\n",
    "    n = float(input())\n",
    "    a.append(n)\n",
    "    \n",
    "    \n",
    "av = ave(a)\n",
    "av = round(av, 3)\n",
    "\n",
    "for i in range(0, elem):\n",
    "    \n",
    "    x = (av - a[i])**2\n",
    "    x = round(x, 9)\n",
    "    summ = summ + x\n",
    "    print(x)\n",
    "    \n",
    "print(av/(elem * (elem-1)))\n",
    "    \n"
   ]
  },
  {
   "cell_type": "code",
   "execution_count": null,
   "id": "5dec0378",
   "metadata": {},
   "outputs": [],
   "source": []
  },
  {
   "cell_type": "code",
   "execution_count": null,
   "id": "98d4ffe7",
   "metadata": {},
   "outputs": [],
   "source": []
  },
  {
   "cell_type": "code",
   "execution_count": null,
   "id": "03535ac4",
   "metadata": {},
   "outputs": [],
   "source": []
  }
 ],
 "metadata": {
  "kernelspec": {
   "display_name": "Python 3 (ipykernel)",
   "language": "python",
   "name": "python3"
  },
  "language_info": {
   "codemirror_mode": {
    "name": "ipython",
    "version": 3
   },
   "file_extension": ".py",
   "mimetype": "text/x-python",
   "name": "python",
   "nbconvert_exporter": "python",
   "pygments_lexer": "ipython3",
   "version": "3.7.16"
  }
 },
 "nbformat": 4,
 "nbformat_minor": 5
}
