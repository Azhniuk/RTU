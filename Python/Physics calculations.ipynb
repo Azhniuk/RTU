{
 "cells": [
  {
   "cell_type": "code",
   "execution_count": 1,
   "id": "6a209c77",
   "metadata": {},
   "outputs": [
    {
     "name": "stdout",
     "output_type": "stream",
     "text": [
      "d =12.045\n",
      "h =49.16\n",
      "5598.802393965\n"
     ]
    }
   ],
   "source": [
    "d = float(input(\"d =\"))\n",
    "h = float(input(\"h =\"))\n",
    "S = 3.14*d*d*h/4\n",
    "print(S)"
   ]
  },
  {
   "cell_type": "code",
   "execution_count": 2,
   "id": "2c5d5ba6",
   "metadata": {},
   "outputs": [
    {
     "name": "stdout",
     "output_type": "stream",
     "text": [
      "d =11.514\n",
      "h =48.86\n",
      "5084.819834799599\n"
     ]
    }
   ],
   "source": [
    "d = float(input(\"d =\"))\n",
    "h = float(input(\"h =\"))\n",
    "S = 3.14*d*d*h/4\n",
    "print(S)\n"
   ]
  },
  {
   "cell_type": "code",
   "execution_count": null,
   "id": "9a1f0171",
   "metadata": {},
   "outputs": [],
   "source": []
  }
 ],
 "metadata": {
  "kernelspec": {
   "display_name": "Python 3 (ipykernel)",
   "language": "python",
   "name": "python3"
  },
  "language_info": {
   "codemirror_mode": {
    "name": "ipython",
    "version": 3
   },
   "file_extension": ".py",
   "mimetype": "text/x-python",
   "name": "python",
   "nbconvert_exporter": "python",
   "pygments_lexer": "ipython3",
   "version": "3.7.16"
  }
 },
 "nbformat": 4,
 "nbformat_minor": 5
}
