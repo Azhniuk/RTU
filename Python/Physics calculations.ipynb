{
 "cells": [
  {
   "cell_type": "code",
   "execution_count": 1,
   "id": "6a209c77",
   "metadata": {},
   "outputs": [
    {
     "name": "stdout",
     "output_type": "stream",
     "text": [
      "d =12.045\n",
      "h =49.16\n",
      "5598.802393965\n"
     ]
    }
   ],
   "source": [
    "d = float(input(\"d =\"))\n",
    "h = float(input(\"h =\"))\n",
    "S = 3.14*d*d*h/4\n",
    "print(S)"
   ]
  },
  {
   "cell_type": "code",
   "execution_count": null,
   "id": "2c5d5ba6",
   "metadata": {},
   "outputs": [],
   "source": [
    "d = float(input(\"d =\"))\n",
    "h = float(input(\"h =\"))\n",
    "S = 3.14*d*d*h/4\n",
    "print(S)\n"
   ]
  },
  {
   "cell_type": "markdown",
   "id": "548035a2",
   "metadata": {},
   "source": [
    "# S від x\n"
   ]
  },
  {
   "cell_type": "code",
   "execution_count": 1,
   "id": "9a1f0171",
   "metadata": {},
   "outputs": [
    {
     "name": "stdout",
     "output_type": "stream",
     "text": [
      "# 0\n",
      "213\n",
      "# 1\n",
      "127\n",
      "# 2\n",
      "230\n",
      "# 3\n",
      "170\n",
      "# 4\n",
      "85\n",
      "719.9\n"
     ]
    }
   ],
   "source": [
    "def ave(lst):\n",
    "    return sum(lst) / len(lst)\n",
    "\n",
    "a = []\n",
    "elem = 5 #elements\n",
    "summ = 0\n",
    "\n",
    "for i in range(0,elem):\n",
    "    print(\"#\", i)\n",
    "    n = float(input())\n",
    "    a.append(n)\n",
    "    \n",
    "    \n",
    "av = ave(a)\n",
    "av = round(av, 4)\n",
    "\n",
    "for i in range(0, elem):\n",
    "    x = 0 \n",
    "    x = (av - a[i])**2\n",
    "    x = round(x, 9)\n",
    "    summ = summ + x\n",
    "    #print(x)\n",
    "    \n",
    "print(summ / (elem * (elem-1)) )\n",
    "    \n"
   ]
  },
  {
   "cell_type": "markdown",
   "id": "930f9849",
   "metadata": {},
   "source": [
    "# Average"
   ]
  },
  {
   "cell_type": "code",
   "execution_count": 2,
   "id": "98d4ffe7",
   "metadata": {
    "scrolled": true
   },
   "outputs": [
    {
     "name": "stdout",
     "output_type": "stream",
     "text": [
      "# 0\n",
      "213\n",
      "# 1\n",
      "230\n",
      "# 2\n",
      "170\n",
      "# 3\n",
      "85\n",
      "# 4\n",
      "127\n",
      "165.0\n"
     ]
    }
   ],
   "source": [
    "def ave(lst):\n",
    "    return sum(lst) / len(lst)\n",
    "a = []\n",
    "elem = 5 #elements\n",
    "summ = 0\n",
    "\n",
    "for i in range(0,elem):\n",
    "    print(\"#\", i)\n",
    "    n = float(input())\n",
    "    a.append(n)\n",
    "    \n",
    "av = ave(a)\n",
    "av = round(av, 5)\n",
    "print(av)"
   ]
  },
  {
   "cell_type": "markdown",
   "id": "e9dd83e8",
   "metadata": {},
   "source": [
    "g = 980.665 - general\n"
   ]
  },
  {
   "cell_type": "code",
   "execution_count": 3,
   "id": "ed614d46",
   "metadata": {},
   "outputs": [
    {
     "name": "stdout",
     "output_type": "stream",
     "text": [
      "Delta0.9713\n",
      "Main973.3332\n",
      "0.09979110956042597\n"
     ]
    }
   ],
   "source": [
    "a = float(input(\"Delta\"))\n",
    "b = float(input(\"Main\"))\n",
    "\n",
    "print(a/b*100)\n",
    "\n"
   ]
  },
  {
   "cell_type": "code",
   "execution_count": null,
   "id": "52d99a68",
   "metadata": {},
   "outputs": [],
   "source": []
  },
  {
   "cell_type": "code",
   "execution_count": null,
   "id": "bc52cee4",
   "metadata": {},
   "outputs": [],
   "source": []
  },
  {
   "cell_type": "code",
   "execution_count": null,
   "id": "9051ba82",
   "metadata": {},
   "outputs": [],
   "source": []
  },
  {
   "cell_type": "code",
   "execution_count": null,
   "id": "5364d6a8",
   "metadata": {},
   "outputs": [],
   "source": []
  },
  {
   "cell_type": "code",
   "execution_count": null,
   "id": "af70c9ee",
   "metadata": {},
   "outputs": [],
   "source": []
  }
 ],
 "metadata": {
  "kernelspec": {
   "display_name": "Python 3 (ipykernel)",
   "language": "python",
   "name": "python3"
  },
  "language_info": {
   "codemirror_mode": {
    "name": "ipython",
    "version": 3
   },
   "file_extension": ".py",
   "mimetype": "text/x-python",
   "name": "python",
   "nbconvert_exporter": "python",
   "pygments_lexer": "ipython3",
   "version": "3.7.16"
  }
 },
 "nbformat": 4,
 "nbformat_minor": 5
}
