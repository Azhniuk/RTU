{
 "cells": [
  {
   "cell_type": "code",
   "execution_count": 56,
   "metadata": {},
   "outputs": [
    {
     "data": {
      "image/png": "[encoded data removed]",
      "text/plain": [
       "<Figure size 432x288 with 1 Axes>"
      ]
     },
     "metadata": {
      "needs_background": "light"
     },
     "output_type": "display_data"
    }
   ],
   "source": [
    "import matplotlib.pyplot as plt\n",
    "import math\n",
    "plt.title(\"Bresenham Algorithm\")\n",
    "plt.xlabel(\"x axis\")\n",
    "plt.ylabel(\"y axis\")\n",
    "\n",
    "\n",
    "\n",
    "\n",
    "\n",
    "def lineCreation (xBeg, yBeg, xEnd, yEnd):\n",
    "    xCoordinates = [xBeg]\n",
    "    yCoordinates = [yBeg]\n",
    "    dx = abs(xEnd - xBeg)\n",
    "    dy = abs(yEnd - yBeg)\n",
    "    x = xBeg\n",
    "    y = yBeg\n",
    "    \n",
    "    \n",
    "    #Main variables\n",
    "    if xBeg < xEnd :\n",
    "        xs = 1\n",
    "    else:\n",
    "        xs = -1\n",
    "\n",
    "    if yBeg < yEnd :\n",
    "        ys = 1\n",
    "    else:\n",
    "        ys = -1\n",
    "        \n",
    "        \n",
    "    #Steep or not\n",
    "    if dx > dy:\n",
    "        p = 2*dy - dx\n",
    "        pn = p\n",
    "        \n",
    "        \n",
    "        while x!=xEnd:\n",
    "            x = x + xs\n",
    "            if pn > 0:\n",
    "                y = y + ys\n",
    "                p=p+2*dy-2*dx\n",
    "            else:\n",
    "                p=p+2*dy\n",
    "            xCoordinates.append(x)\n",
    "            yCoordinates.append(y)       \n",
    "        \n",
    "    else:\n",
    "        p = 2*dx - dy\n",
    "        pn = p\n",
    "        \n",
    "        while y!=yEnd:\n",
    "            y = y + ys\n",
    "            if pn > 0:\n",
    "                x = x + xs\n",
    "                p=p+2*dx-2*dy\n",
    "            else:\n",
    "                p=p+2*dx\n",
    "            xCoordinates.append(x)\n",
    "            yCoordinates.append(y)    \n",
    "            \n",
    "            \n",
    "            \n",
    "    plt.plot(xCoordinates, yCoordinates)\n",
    "                  \n",
    "        \n",
    "    return \n",
    "\n",
    "\n",
    "\n",
    "\n",
    "         \n",
    "                \n",
    "#2\n",
    "lineCreation (0, 300, 300, 600)\n",
    "lineCreation (0, 0, 300, 600)\n",
    "lineCreation (0, 0, 300, 0)\n",
    "\n",
    "#0\n",
    "\n",
    "#7\n",
    "\n",
    "plt.show()\n",
    "  \n"
   ]
  },
  {
   "cell_type": "code",
   "execution_count": null,
   "metadata": {},
   "outputs": [],
   "source": []
  },
  {
   "cell_type": "code",
   "execution_count": null,
   "metadata": {},
   "outputs": [],
   "source": []
  },
  {
   "cell_type": "code",
   "execution_count": null,
   "metadata": {},
   "outputs": [],
   "source": []
  },
  {
   "cell_type": "code",
   "execution_count": null,
   "metadata": {},
   "outputs": [],
   "source": []
  }
 ],
 "metadata": {
  "kernelspec": {
   "display_name": "Python 3",
   "language": "python",
   "name": "python3"
  }
 },
 "nbformat": 4,
 "nbformat_minor": 4
}
