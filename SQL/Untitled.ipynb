{
 "cells": [
  {
   "cell_type": "code",
   "execution_count": 1,
   "id": "c49ee6ca",
   "metadata": {},
   "outputs": [],
   "source": [
    "import sqlite3\n",
    "sqliteConnection = sqlite3.connect('test.db')\n",
    "cursor = sqliteConnection.cursor()\n",
    "\n",
    "sqlite_create_table_query = '''CREATE TABLE 'tab1' (date_time REAL,val REAL);'''\n",
    "cursor.execute(sqlite_create_table_query)\n",
    "\n",
    "stm = \"\"\"INSERT INTO 'tab1'\n",
    "              ( 'date_time', 'val') \n",
    "              VALUES (123, 123);\"\"\"\n",
    "cursor.execute(stm)\n",
    "sqliteConnection.commit()\n",
    "cursor.close()\n",
    "sqliteConnection.close()"
   ]
  },
  {
   "cell_type": "code",
   "execution_count": null,
   "id": "7f512ecc",
   "metadata": {},
   "outputs": [],
   "source": []
  },
  {
   "cell_type": "code",
   "execution_count": null,
   "id": "9fb8417d",
   "metadata": {},
   "outputs": [],
   "source": []
  },
  {
   "cell_type": "code",
   "execution_count": null,
   "id": "ec7df623",
   "metadata": {},
   "outputs": [],
   "source": []
  },
  {
   "cell_type": "code",
   "execution_count": null,
   "id": "89d1f084",
   "metadata": {},
   "outputs": [],
   "source": []
  },
  {
   "cell_type": "code",
   "execution_count": null,
   "id": "a5a1aefd",
   "metadata": {},
   "outputs": [],
   "source": []
  },
  {
   "cell_type": "code",
   "execution_count": null,
   "id": "8c5a1c2f",
   "metadata": {},
   "outputs": [],
   "source": []
  },
  {
   "cell_type": "markdown",
   "id": "54d815fc",
   "metadata": {},
   "source": [
    "\n",
    "\n",
    "\n"
   ]
  }
 ],
 "metadata": {
  "kernelspec": {
   "display_name": "Python 3 (ipykernel)",
   "language": "python",
   "name": "python3"
  },
  "language_info": {
   "codemirror_mode": {
    "name": "ipython",
    "version": 3
   },
   "file_extension": ".py",
   "mimetype": "text/x-python",
   "name": "python",
   "nbconvert_exporter": "python",
   "pygments_lexer": "ipython3",
   "version": "3.7.16"
  }
 },
 "nbformat": 4,
 "nbformat_minor": 5
}
