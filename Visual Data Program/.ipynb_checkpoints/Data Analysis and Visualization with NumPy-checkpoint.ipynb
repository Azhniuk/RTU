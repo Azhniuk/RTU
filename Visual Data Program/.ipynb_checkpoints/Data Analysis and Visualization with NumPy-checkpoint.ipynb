{
 "cells": [
  {
   "cell_type": "code",
   "execution_count": 1,
   "id": "fa41b22a",
   "metadata": {},
   "outputs": [
    {
     "name": "stdout",
     "output_type": "stream",
     "text": [
      "hello\n"
     ]
    }
   ],
   "source": [
    "print(\"hello\")"
   ]
  },
  {
   "cell_type": "markdown",
   "id": "93d68e3a",
   "metadata": {},
   "source": [
    "import pandas as pd\n",
    " \n",
    "dataframe = pd.read_excel('Math.xlsx')\n",
    " \n",
    "print(dataframe)"
   ]
  },
  {
   "cell_type": "code",
   "execution_count": 2,
   "id": "54f27247",
   "metadata": {},
   "outputs": [
    {
     "name": "stdout",
     "output_type": "stream",
     "text": [
      "                - Shiv Kumar  221ADB137              Shiv-Kumar.S@edu.rtu.lv  \\\n",
      "0               - Vishav Raj  221ADB157              Vishav-Raj.V@edu.rtu.lv   \n",
      "1        Abdukodirov Sadulla  221ADB187       Sadulla.Abdukodirov@edu.rtu.lv   \n",
      "2            Adenov Bekassyl  221ADB130           Bekassyl.Adenov@edu.rtu.lv   \n",
      "3   Agboola Peter Iyanuoluwa  221ADB155  Peter-Iyanuoluwa.Agboola@edu.rtu.lv   \n",
      "4              Agdeniz Zehra  221ADB081             Zehra.Agdeniz@edu.rtu.lv   \n",
      "..                       ...        ...                                  ...   \n",
      "93               Yalcin Tuna  221ADB180               Tuna.Yalcin@edu.rtu.lv   \n",
      "94             Yenerkol Eren  211AMB051             Eren.Yenerkol@edu.rtu.lv   \n",
      "95     Yildiz Alperen Cengiz  221ADB192     Alperen-Cengiz.Yildiz@edu.rtu.lv   \n",
      "96        Zadyraka Oleksandr  220ADB052        Oleksandr.Zadyraka@edu.rtu.lv   \n",
      "97          Zakharov Oleksii  221ADB091          Oleksii.Zakharov@edu.rtu.lv   \n",
      "\n",
      "    1          Professor Jiri Janda  \n",
      "0   1          Professor Jiri Janda  \n",
      "1   1          Professor Jiri Janda  \n",
      "2   1          Professor Jiri Janda  \n",
      "3   1          Professor Jiri Janda  \n",
      "4   1          Professor Jiri Janda  \n",
      ".. ..                           ...  \n",
      "93  3  Professor Shraddha Christian  \n",
      "94  3  Professor Shraddha Christian  \n",
      "95  3  Professor Shraddha Christian  \n",
      "96  3  Professor Shraddha Christian  \n",
      "97  3  Professor Shraddha Christian  \n",
      "\n",
      "[98 rows x 5 columns]\n"
     ]
    }
   ],
   "source": [
    "import pandas as pd\n",
    "\n",
    "dataframe = pd.read_excel('Math.xlsx')\n",
    " \n",
    "print(dataframe)"
   ]
  },
  {
   "cell_type": "code",
   "execution_count": 37,
   "id": "2c5dfd3a",
   "metadata": {},
   "outputs": [
    {
     "name": "stdout",
     "output_type": "stream",
     "text": [
      "Country  Year  Month  Food Item  Unit of Measurement Average Price  Currency  Price in USD Availability  Quality \n",
      "Australia 2018 1 Bread Loaf 2.20 AUD 1.47 1 High\n",
      "Australia 2018 2 Bread Loaf 2.20 AUD 1.48 1 High\n",
      "Australia 2018 3 Bread Loaf 2.20 AUD 1.48 1 High\n",
      "Australia 2018 4 Bread Loaf 2.21 AUD 1.48 1 High\n",
      "Australia 2018 5 Bread Loaf 2.21 AUD 1.48 1 High\n",
      "Australia 2018 6 Bread Loaf 2.22 AUD 1.49 1 High\n",
      "Australia 2018 7 Bread Loaf 2.22 AUD 1.49 1 High\n",
      "Australia 2018 8 Bread Loaf 2.22 AUD 1.49 1 High\n",
      "Australia 2018 9 Bread Loaf 2.23 AUD 1.50 1 High\n",
      "Australia 2018 10 Bread Loaf 2.23 AUD 1.50 1 High\n",
      "Australia 2018 11 Bread Loaf 2.24 AUD 1.50 1 High\n",
      "Australia 2018 12 Bread Loaf 2.24 AUD 1.50 1 High\n",
      "Australia 2019 1 Bread Loaf 2.24 AUD 1.51 1 High\n",
      "Australia 2019 2 Bread Loaf 2.25 AUD 1.51 1 High\n",
      "Australia 2019 3 Bread Loaf 2.26 AUD 1.52 1 High\n",
      "Australia 2019 4 Bread Loaf 2.27 AUD 1.53 1 High\n",
      "Australia 2019 5 Bread Loaf 2.28 AUD 1.53 1 High\n",
      "Australia 2019 6 Bread Loaf 2.29 AUD 1.54 1 High\n",
      "Australia 2019 7 Bread Loaf 2.30 AUD 1.55 1 High\n",
      "Australia 2019 8 Bread Loaf 2.31 AUD 1.55 1 High\n",
      "Australia 2019 9 Bread Loaf 2.32 AUD 1.56 1 High\n",
      "Australia 2019 10 Bread Loaf 2.33 AUD 1.57 1 High\n",
      "Australia 2019 11 Bread Loaf 2.34 AUD 1.57 1 High\n",
      "Australia 2019 12 Bread Loaf 2.35 AUD 1.58 1 High\n",
      "Australia 2020 1 Bread Loaf 2.36 AUD 1.59 1 High\n",
      "Australia 2020 2 Bread Loaf 2.37 AUD 1.59 1 High\n",
      "Australia 2020 3 Bread Loaf 2.37 AUD 1.59 1 High\n",
      "Australia 2020 4 Bread Loaf 2.37 AUD 1.59 1 High\n",
      "Australia 2020 5 Bread Loaf 2.38 AUD 1.59 1 High\n",
      "Australia 2020 6 Bread Loaf 2.38 AUD 1.60 1 High\n",
      "Australia 2020 7 Bread Loaf 2.38 AUD 1.60 1 High\n",
      "Australia 2020 8 Bread Loaf 2.39 AUD 1.60 1 High\n",
      "Australia 2020 9 Bread Loaf 2.39 AUD 1.60 1 High\n",
      "Australia 2020 10 Bread Loaf 2.39 AUD 1.60 1 High\n",
      "Australia 2020 11 Bread Loaf 2.39 AUD 1.61 1 High\n",
      "Australia 2020 12 Bread Loaf 2.40 AUD 1.61 1 High\n",
      "Australia 2021 1 Bread Loaf 2.40 AUD 1.61 1 High\n",
      "Australia 2021 2 Bread Loaf 2.43 AUD 1.63 1 High\n",
      "Australia 2021 3 Bread Loaf 2.45 AUD 1.64 1 High\n",
      "Australia 2021 4 Bread Loaf 2.48 AUD 1.66 1 High\n",
      "Australia 2021 5 Bread Loaf 2.50 AUD 1.68 1 High\n",
      "Australia 2021 6 Bread Loaf 2.53 AUD 1.69 1 High\n",
      "Australia 2021 7 Bread Loaf 2.55 AUD 1.71 1 High\n",
      "Australia 2021 8 Bread Loaf 2.58 AUD 1.73 1 High\n",
      "Australia 2021 9 Bread Loaf 2.60 AUD 1.74 1 High\n",
      "Australia 2021 10 Bread Loaf 2.63 AUD 1.76 1 High\n",
      "Australia 2021 11 Bread Loaf 2.65 AUD 1.78 1 High\n",
      "Australia 2021 12 Bread Loaf 2.68 AUD 1.80 1 High\n"
     ]
    }
   ],
   "source": [
    "import csv\n",
    "\n",
    "import numpy as np\n",
    "\n",
    "file = open('Food Prices.csv')\n",
    "rows = []\n",
    "\n",
    "main = csv.reader(file,  delimiter=',')\n",
    "\n",
    "\n",
    "for row in main:\n",
    "    s = ' '.join(row)\n",
    "    print(np.genfromtxt(s, delimiter=\" \"))\n",
    "\n"
   ]
  },
  {
   "cell_type": "code",
   "execution_count": 35,
   "id": "a894d6f1",
   "metadata": {},
   "outputs": [
    {
     "ename": "TypeError",
     "evalue": "initial_value must be str or None, not _csv.reader",
     "output_type": "error",
     "traceback": [
      "\u001b[1;31m---------------------------------------------------------------------------\u001b[0m",
      "\u001b[1;31mTypeError\u001b[0m                                 Traceback (most recent call last)",
      "\u001b[1;32m~\\AppData\\Local\\Temp\\ipykernel_19596\\1511034525.py\u001b[0m in \u001b[0;36m<module>\u001b[1;34m\u001b[0m\n\u001b[1;32m----> 1\u001b[1;33m \u001b[0mnp\u001b[0m\u001b[1;33m.\u001b[0m\u001b[0mgenfromtxt\u001b[0m\u001b[1;33m(\u001b[0m\u001b[0mStringIO\u001b[0m\u001b[1;33m(\u001b[0m\u001b[0mmain\u001b[0m\u001b[1;33m)\u001b[0m\u001b[1;33m,\u001b[0m \u001b[0mdelimiter\u001b[0m\u001b[1;33m=\u001b[0m\u001b[1;34m\",\"\u001b[0m\u001b[1;33m)\u001b[0m\u001b[1;33m\u001b[0m\u001b[1;33m\u001b[0m\u001b[0m\n\u001b[0m",
      "\u001b[1;31mTypeError\u001b[0m: initial_value must be str or None, not _csv.reader"
     ]
    }
   ],
   "source": [
    "np.genfromtxt(StringIO(main), delimiter=\",\")\n"
   ]
  },
  {
   "cell_type": "code",
   "execution_count": 20,
   "id": "8ca484bd",
   "metadata": {},
   "outputs": [
    {
     "name": "stdout",
     "output_type": "stream",
     "text": [
      "<_csv.reader object at 0x0000020F0F9EF128>\n"
     ]
    }
   ],
   "source": [
    "print(main)"
   ]
  },
  {
   "cell_type": "code",
   "execution_count": null,
   "id": "39aaeef9",
   "metadata": {},
   "outputs": [],
   "source": []
  }
 ],
 "metadata": {
  "kernelspec": {
   "display_name": "Python 3 (ipykernel)",
   "language": "python",
   "name": "python3"
  },
  "language_info": {
   "codemirror_mode": {
    "name": "ipython",
    "version": 3
   },
   "file_extension": ".py",
   "mimetype": "text/x-python",
   "name": "python",
   "nbconvert_exporter": "python",
   "pygments_lexer": "ipython3",
   "version": "3.7.16"
  }
 },
 "nbformat": 4,
 "nbformat_minor": 5
}
