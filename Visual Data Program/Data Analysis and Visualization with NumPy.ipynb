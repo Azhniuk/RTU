{
 "cells": [
  {
   "cell_type": "code",
   "execution_count": 1,
   "id": "fa41b22a",
   "metadata": {},
   "outputs": [
    {
     "name": "stdout",
     "output_type": "stream",
     "text": [
      "hello\n"
     ]
    }
   ],
   "source": [
    "print(\"hello\")"
   ]
  },
  {
   "cell_type": "markdown",
   "id": "93d68e3a",
   "metadata": {},
   "source": [
    "import pandas as pd\n",
    " \n",
    "dataframe = pd.read_excel('Math.xlsx')\n",
    " \n",
    "print(dataframe)"
   ]
  },
  {
   "cell_type": "code",
   "execution_count": 2,
   "id": "54f27247",
   "metadata": {},
   "outputs": [
    {
     "name": "stdout",
     "output_type": "stream",
     "text": [
      "                - Shiv Kumar  221ADB137              Shiv-Kumar.S@edu.rtu.lv  \\\n",
      "0               - Vishav Raj  221ADB157              Vishav-Raj.V@edu.rtu.lv   \n",
      "1        Abdukodirov Sadulla  221ADB187       Sadulla.Abdukodirov@edu.rtu.lv   \n",
      "2            Adenov Bekassyl  221ADB130           Bekassyl.Adenov@edu.rtu.lv   \n",
      "3   Agboola Peter Iyanuoluwa  221ADB155  Peter-Iyanuoluwa.Agboola@edu.rtu.lv   \n",
      "4              Agdeniz Zehra  221ADB081             Zehra.Agdeniz@edu.rtu.lv   \n",
      "..                       ...        ...                                  ...   \n",
      "93               Yalcin Tuna  221ADB180               Tuna.Yalcin@edu.rtu.lv   \n",
      "94             Yenerkol Eren  211AMB051             Eren.Yenerkol@edu.rtu.lv   \n",
      "95     Yildiz Alperen Cengiz  221ADB192     Alperen-Cengiz.Yildiz@edu.rtu.lv   \n",
      "96        Zadyraka Oleksandr  220ADB052        Oleksandr.Zadyraka@edu.rtu.lv   \n",
      "97          Zakharov Oleksii  221ADB091          Oleksii.Zakharov@edu.rtu.lv   \n",
      "\n",
      "    1          Professor Jiri Janda  \n",
      "0   1          Professor Jiri Janda  \n",
      "1   1          Professor Jiri Janda  \n",
      "2   1          Professor Jiri Janda  \n",
      "3   1          Professor Jiri Janda  \n",
      "4   1          Professor Jiri Janda  \n",
      ".. ..                           ...  \n",
      "93  3  Professor Shraddha Christian  \n",
      "94  3  Professor Shraddha Christian  \n",
      "95  3  Professor Shraddha Christian  \n",
      "96  3  Professor Shraddha Christian  \n",
      "97  3  Professor Shraddha Christian  \n",
      "\n",
      "[98 rows x 5 columns]\n"
     ]
    }
   ],
   "source": [
    "import pandas as pd\n",
    "\n",
    "dataframe = pd.read_excel('Math.xlsx')\n",
    " \n",
    "print(dataframe)"
   ]
  },
  {
   "cell_type": "code",
   "execution_count": 27,
   "id": "2c5dfd3a",
   "metadata": {},
   "outputs": [],
   "source": [
    "import csv\n",
    "import numpy as np\n",
    "file = open('Food Prices.csv')\n",
    "\n",
    "file = csv.reader(file)\n",
    "\n",
    "\n",
    "\n",
    "\n",
    "\n"
   ]
  },
  {
   "cell_type": "code",
   "execution_count": 16,
   "id": "a894d6f1",
   "metadata": {},
   "outputs": [
    {
     "data": {
      "text/plain": [
       "['Country ',\n",
       " 'Year ',\n",
       " 'Month ',\n",
       " 'Food Item ',\n",
       " 'Unit of Measurement',\n",
       " 'Average Price ',\n",
       " 'Currency ',\n",
       " 'Price in USD',\n",
       " 'Availability ',\n",
       " 'Quality ']"
      ]
     },
     "execution_count": 16,
     "metadata": {},
     "output_type": "execute_result"
    }
   ],
   "source": [
    "header"
   ]
  },
  {
   "cell_type": "code",
   "execution_count": null,
   "id": "8ca484bd",
   "metadata": {},
   "outputs": [],
   "source": []
  }
 ],
 "metadata": {
  "kernelspec": {
   "display_name": "Python 3 (ipykernel)",
   "language": "python",
   "name": "python3"
  },
  "language_info": {
   "codemirror_mode": {
    "name": "ipython",
    "version": 3
   },
   "file_extension": ".py",
   "mimetype": "text/x-python",
   "name": "python",
   "nbconvert_exporter": "python",
   "pygments_lexer": "ipython3",
   "version": "3.7.16"
  }
 },
 "nbformat": 4,
 "nbformat_minor": 5
}
